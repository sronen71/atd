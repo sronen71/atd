{
 "cells": [
  {
   "cell_type": "markdown",
   "metadata": {},
   "source": [
    "# Install+Import"
   ]
  },
  {
   "cell_type": "code",
   "execution_count": 1,
   "metadata": {},
   "outputs": [],
   "source": [
    "try: \n",
    "    import dicomsdl\n",
    "except:\n",
    "    %pip install /kaggle/input/rsna-2023-abdominal-trauma/dicomsdl-0.109.2-cp310-cp310-manylinux_2_12_x86_64.manylinux2010_x86_64.whl\n",
    "    \n",
    "import os \n",
    "import sys \n",
    "sys.path.append('/kaggle/input/rsna-2023-abdominal-trauma')"
   ]
  },
  {
   "cell_type": "code",
   "execution_count": 2,
   "metadata": {},
   "outputs": [
    {
     "name": "stderr",
     "output_type": "stream",
     "text": [
      "2023-09-19 14:08:52.300466: I tensorflow/core/platform/cpu_feature_guard.cc:182] This TensorFlow binary is optimized to use available CPU instructions in performance-critical operations.\n",
      "To enable the following instructions: AVX2 FMA, in other operations, rebuild TensorFlow with the appropriate compiler flags.\n",
      "2023-09-19 14:08:53.077663: W tensorflow/compiler/tf2tensorrt/utils/py_utils.cc:38] TF-TRT Warning: Could not find TensorRT\n"
     ]
    },
    {
     "name": "stdout",
     "output_type": "stream",
     "text": [
      "IMPORT OK!!!!\n"
     ]
    }
   ],
   "source": [
    "import numpy as np\n",
    "import pandas as pd\n",
    "from glob import glob\n",
    "import torch\n",
    "import torch.nn as nn\n",
    "from timeit import default_timer as timer\n",
    "from utils import get_seg_model,load_dicom_folder,resize3d,visualize,get_crops,LSKModel,BowelModel\n",
    "from matplotlib import pyplot as plt\n",
    "import gc\n",
    "    \n",
    "print('IMPORT OK!!!!')"
   ]
  },
  {
   "cell_type": "code",
   "execution_count": 3,
   "metadata": {},
   "outputs": [],
   "source": [
    "mode = 'local' #submit #local\n",
    "\n",
    "if mode =='local':\n",
    "    image_dir  = '/kaggle/input/rsna-2023-abdominal-trauma-detection/train_images'\n",
    "    df_meta = pd.read_csv('/kaggle/input/rsna-2023-abdominal-trauma-detection/train_series_meta.csv')\n",
    "    df = pd.read_csv('/kaggle/input/rsna-2023-abdominal-trauma-detection/train.csv') \n",
    "\n",
    "    \n",
    "if mode =='submit':\n",
    "    image_dir = '/kaggle/input/rsna-2023-abdominal-trauma-detection/test_images'\n",
    "    df_meta = pd.read_csv('/kaggle/input/rsna-2023-abdominal-trauma-detection/test_series_meta.csv')\n",
    " \n",
    "df_meta.sort_values(by=[\"patient_id\",\"aortic_hu\"],inplace=True)\n",
    "df_meta.set_index([\"patient_id\",\"series_id\"],inplace=True)"
   ]
  },
  {
   "cell_type": "markdown",
   "metadata": {},
   "source": [
    "# Models"
   ]
  },
  {
   "cell_type": "code",
   "execution_count": 4,
   "metadata": {},
   "outputs": [],
   "source": [
    "def load_seg_models(models_dir,kernel):\n",
    "    models=[]\n",
    "    for ifold in range(5):\n",
    "        model=get_seg_model(pretrained=False)\n",
    "        model.load_state_dict(torch.load(f\"{models_dir}/{kernel}_fold{ifold}_best.pth\"))\n",
    "        models.append(model)\n",
    "    return models\n",
    "\n",
    "def load_lsk_models(models_dir,kernel,backbone):\n",
    "    models=[]\n",
    "    for ifold in range(5):\n",
    "        model=LSKModel(backbone,pretrained=False)\n",
    "        model.load_state_dict(torch.load(f\"{models_dir}/{kernel}_fold{ifold}_best.pth\"))\n",
    "        models.append(model)\n",
    "    return models\n",
    "\n",
    "\n",
    "def load_bowel_models(models_dir,kernel,backbone):\n",
    "    models=[]\n",
    "    for ifold in range(5):\n",
    "        model=BowelModel(backbone,pretrained=False)\n",
    "        model.load_state_dict(torch.load(f\"{models_dir}/{kernel}_fold{ifold}_best.pth\"))\n",
    "        models.append(model)\n",
    "    return models\n",
    "\n",
    "\n",
    "\n",
    "models_seg_dir=\"models_seg\"\n",
    "kernel_seg = 'timm3d_res18d_unet4b_128_128_128_dsv2_flip12_shift333p7_gd1p5_bs4_lr3e4_20x50ep'\n",
    "seg_models=load_seg_models(models_seg_dir,kernel_seg)\n",
    "\n",
    "models_lsk_dir=\"models_cls\"\n",
    "kernel_lsk = '0920_1bonev2_effv2s_224_15_6ch_augv2_mixupp5_drl3_rov1p2_bs8_lr23e5_eta23e6_50ep'\n",
    "backbone_lsk1=\"tf_efficientnetv2_b2.in1k\"\n",
    "lsk_models=load_lsk_models(models_lsk_dir,kernel_lsk,backbone_lsk1)\n",
    "\n",
    "models_bowel_dir=\"models_bowel\"\n",
    "kernel_bowel = '0920_1bonev2_effv2s_224_15_6ch_augv2_mixupp5_drl3_rov1p2_bs8_lr23e5_eta23e6_50ep'\n",
    "backbone_bowel1=\"tf_efficientnetv2_b0.in1k\"\n",
    "bowel_models=load_bowel_models(models_bowel_dir,kernel_bowel,backbone_bowel1)\n"
   ]
  },
  {
   "cell_type": "code",
   "execution_count": 5,
   "metadata": {},
   "outputs": [],
   "source": [
    "image_seg_size = [128, 128, 128]\n",
    "def infer_mask(image_full,models,vis=False):\n",
    "    image1=resize3d(image_full,image_seg_size)\n",
    "    image=(image1/255.).astype(np.float32)\n",
    "    with torch.no_grad():\n",
    "        image=torch.from_numpy(image).cuda()\n",
    "        image=image[None,None,...]\n",
    "        pred_masks = []\n",
    "        for model in models:\n",
    "            model.cuda()\n",
    "            pmask = model(image).squeeze()\n",
    "            pmask=nn.Softmax(dim=0)(pmask)\n",
    "            pred_masks.append(pmask)\n",
    "    mask = torch.stack(pred_masks).mean(0)\n",
    "    mask=torch.argmax(mask,dim=0)\n",
    "    mask=mask.numpy(force=True).astype(np.uint8)\n",
    "    if vis:\n",
    "        visualize(image1,mask)\n",
    "    return mask"
   ]
  },
  {
   "cell_type": "code",
   "execution_count": 6,
   "metadata": {},
   "outputs": [],
   "source": [
    "def infer_lsk(image_crops,models,nslice=24):\n",
    "    lsk_dict={0:\"liver\",1:\"spleen\",2:\"kidney\"}\n",
    "    results={}\n",
    "\n",
    "    with torch.no_grad():\n",
    "        for iorgan in range(3): #liver,spleen,kidney\n",
    "            inds=list(range(iorgan*nslice,(iorgan+1)*nslice))\n",
    "            images=image_crops[inds,...]\n",
    "            images=torch.from_numpy(images).cuda()\n",
    "            images=images[None,...]\n",
    "            mlogits=[]\n",
    "            for model in models:\n",
    "                model.cuda()\n",
    "                logits = model(images).mean(dim=1).squeeze()\n",
    "                logits = logits.numpy(force=True)\n",
    "                mlogits.append(logits)\n",
    "            results[lsk_dict[iorgan]]=np.mean(np.stack(mlogits),axis=0)\n",
    "    return results\n",
    "       "
   ]
  },
  {
   "cell_type": "code",
   "execution_count": 7,
   "metadata": {},
   "outputs": [],
   "source": [
    "def infer_be(image_crops,models,start=3*24,nslice=128):\n",
    "    results={}\n",
    "\n",
    "    with torch.no_grad():\n",
    "        inds=list(range(start,start+nslice))\n",
    "        images=image_crops[inds,...]\n",
    "        images=torch.from_numpy(images).cuda()\n",
    "        images=images[None,...]\n",
    "        mlogits=[]\n",
    "        for model in models:\n",
    "            model.cuda()\n",
    "            logits = model(images)[1].squeeze()\n",
    "            logits = logits.numpy(force=True)\n",
    "            mlogits.append(logits)\n",
    "        mlogits=np.mean(np.stack(mlogits),axis=0)\n",
    "        results[\"bowel\"]=mlogits[0]\n",
    "        results[\"extravasation\"]=mlogits[1]\n",
    "    return results"
   ]
  },
  {
   "cell_type": "code",
   "execution_count": 8,
   "metadata": {},
   "outputs": [],
   "source": [
    "def analyze_dicom(image_folder):\n",
    "    image_full=load_dicom_folder(image_folder,None)\n",
    "    mask=infer_mask(image_full,seg_models,vis=False)\n",
    "    gc.collect()\n",
    "    torch.cuda.empty_cache()\n",
    "    cropped_images = get_crops(image_full,mask) \n",
    "    cropped_images=cropped_images.astype(np.float32)/255.\n",
    "    lsk_logits=infer_lsk(cropped_images,lsk_models)\n",
    "    print(lsk_logits)\n",
    "    gc.collect()\n",
    "    torch.cuda.empty_cache()\n",
    "    be_logits=infer_be(cropped_images,bowel_models)\n",
    "    print(be_logits)\n",
    "    gc.collect()\n",
    "    torch.cuda.empty_cache()\n",
    "    \n",
    "    \n",
    "    "
   ]
  },
  {
   "cell_type": "code",
   "execution_count": 9,
   "metadata": {},
   "outputs": [
    {
     "name": "stdout",
     "output_type": "stream",
     "text": [
      "                      aortic_hu  incomplete_organ\n",
      "patient_id series_id                             \n",
      "19         14374         174.00                 0\n",
      "26         41997         101.00                 0\n",
      "           18881         255.00                 0\n",
      "33         55570         105.00                 0\n",
      "43         36714          54.75                 1\n",
      "           24055         127.00                 0\n",
      "96         39874         134.00                 0\n",
      "122        21217         118.00                 0\n",
      "           8218          194.00                 0\n",
      "156        64005         206.00                 0\n"
     ]
    }
   ],
   "source": [
    "print(df_meta.head(10))"
   ]
  },
  {
   "cell_type": "code",
   "execution_count": 10,
   "metadata": {},
   "outputs": [
    {
     "name": "stdout",
     "output_type": "stream",
     "text": [
      "/kaggle/input/rsna-2023-abdominal-trauma-detection/train_images/19/14374\n",
      "{'liver': array([ 1.905035 , -0.8535553, -2.6612365], dtype=float32), 'spleen': array([ 1.9559019, -0.860046 , -2.7232194], dtype=float32), 'kidney': array([ 1.8704159, -0.8377802, -2.608977 ], dtype=float32)}\n",
      "[array(-2.027214, dtype=float32)]\n",
      "[array(-2.027214, dtype=float32), array(-2.2425218, dtype=float32)]\n",
      "[array(-2.027214, dtype=float32), array(-2.2425218, dtype=float32), array(-1.874557, dtype=float32)]\n",
      "[array(-2.027214, dtype=float32), array(-2.2425218, dtype=float32), array(-1.874557, dtype=float32), array(-2.532045, dtype=float32)]\n",
      "[array(-2.027214, dtype=float32), array(-2.2425218, dtype=float32), array(-1.874557, dtype=float32), array(-2.532045, dtype=float32), array(-2.3351157, dtype=float32)]\n",
      "-2.2022908\n"
     ]
    },
    {
     "data": {
      "text/html": [
       "<pre style=\"white-space:pre;overflow-x:auto;line-height:normal;font-family:Menlo,'DejaVu Sans Mono',consolas,'Courier New',monospace\"><span style=\"color: #800000; text-decoration-color: #800000\">╭──────────────────────────── </span><span style=\"color: #800000; text-decoration-color: #800000; font-weight: bold\">Traceback </span><span style=\"color: #bf7f7f; text-decoration-color: #bf7f7f; font-weight: bold\">(most recent call last)</span><span style=\"color: #800000; text-decoration-color: #800000\"> ────────────────────────────╮</span>\n",
       "<span style=\"color: #800000; text-decoration-color: #800000\">│</span> <span style=\"color: #bfbf7f; text-decoration-color: #bfbf7f\">/tmp/user/1000/ipykernel_1968519/</span><span style=\"color: #808000; text-decoration-color: #808000; font-weight: bold\">3664039939.py</span>:<span style=\"color: #0000ff; text-decoration-color: #0000ff\">6</span> in <span style=\"color: #00ff00; text-decoration-color: #00ff00\">&lt;module&gt;</span>                              <span style=\"color: #800000; text-decoration-color: #800000\">│</span>\n",
       "<span style=\"color: #800000; text-decoration-color: #800000\">│</span>                                                                                           <span style=\"color: #800000; text-decoration-color: #800000\">│</span>\n",
       "<span style=\"color: #800000; text-decoration-color: #800000\">│</span> <span style=\"color: #800000; text-decoration-color: #800000; font-style: italic\">[Errno 2] No such file or directory: '/tmp/user/1000/ipykernel_1968519/3664039939.py'</span>     <span style=\"color: #800000; text-decoration-color: #800000\">│</span>\n",
       "<span style=\"color: #800000; text-decoration-color: #800000\">│</span>                                                                                           <span style=\"color: #800000; text-decoration-color: #800000\">│</span>\n",
       "<span style=\"color: #800000; text-decoration-color: #800000\">│</span> <span style=\"color: #bfbf7f; text-decoration-color: #bfbf7f\">/tmp/user/1000/ipykernel_1968519/</span><span style=\"color: #808000; text-decoration-color: #808000; font-weight: bold\">722420137.py</span>:<span style=\"color: #0000ff; text-decoration-color: #0000ff\">12</span> in <span style=\"color: #00ff00; text-decoration-color: #00ff00\">analyze_dicom</span>                         <span style=\"color: #800000; text-decoration-color: #800000\">│</span>\n",
       "<span style=\"color: #800000; text-decoration-color: #800000\">│</span>                                                                                           <span style=\"color: #800000; text-decoration-color: #800000\">│</span>\n",
       "<span style=\"color: #800000; text-decoration-color: #800000\">│</span> <span style=\"color: #800000; text-decoration-color: #800000; font-style: italic\">[Errno 2] No such file or directory: '/tmp/user/1000/ipykernel_1968519/722420137.py'</span>      <span style=\"color: #800000; text-decoration-color: #800000\">│</span>\n",
       "<span style=\"color: #800000; text-decoration-color: #800000\">│</span>                                                                                           <span style=\"color: #800000; text-decoration-color: #800000\">│</span>\n",
       "<span style=\"color: #800000; text-decoration-color: #800000\">│</span> <span style=\"color: #bfbf7f; text-decoration-color: #bfbf7f\">/tmp/user/1000/ipykernel_1968519/</span><span style=\"color: #808000; text-decoration-color: #808000; font-weight: bold\">3437643848.py</span>:<span style=\"color: #0000ff; text-decoration-color: #0000ff\">18</span> in <span style=\"color: #00ff00; text-decoration-color: #00ff00\">infer_be</span>                             <span style=\"color: #800000; text-decoration-color: #800000\">│</span>\n",
       "<span style=\"color: #800000; text-decoration-color: #800000\">│</span>                                                                                           <span style=\"color: #800000; text-decoration-color: #800000\">│</span>\n",
       "<span style=\"color: #800000; text-decoration-color: #800000\">│</span> <span style=\"color: #800000; text-decoration-color: #800000; font-style: italic\">[Errno 2] No such file or directory: '/tmp/user/1000/ipykernel_1968519/3437643848.py'</span>     <span style=\"color: #800000; text-decoration-color: #800000\">│</span>\n",
       "<span style=\"color: #800000; text-decoration-color: #800000\">╰───────────────────────────────────────────────────────────────────────────────────────────╯</span>\n",
       "<span style=\"color: #ff0000; text-decoration-color: #ff0000; font-weight: bold\">IndexError: </span>invalid index to scalar variable.\n",
       "</pre>\n"
      ],
      "text/plain": [
       "\u001b[31m╭─\u001b[0m\u001b[31m─────────────────────────── \u001b[0m\u001b[1;31mTraceback \u001b[0m\u001b[1;2;31m(most recent call last)\u001b[0m\u001b[31m ───────────────────────────\u001b[0m\u001b[31m─╮\u001b[0m\n",
       "\u001b[31m│\u001b[0m \u001b[2;33m/tmp/user/1000/ipykernel_1968519/\u001b[0m\u001b[1;33m3664039939.py\u001b[0m:\u001b[94m6\u001b[0m in \u001b[92m<module>\u001b[0m                              \u001b[31m│\u001b[0m\n",
       "\u001b[31m│\u001b[0m                                                                                           \u001b[31m│\u001b[0m\n",
       "\u001b[31m│\u001b[0m \u001b[3;31m[Errno 2] No such file or directory: '/tmp/user/1000/ipykernel_1968519/3664039939.py'\u001b[0m     \u001b[31m│\u001b[0m\n",
       "\u001b[31m│\u001b[0m                                                                                           \u001b[31m│\u001b[0m\n",
       "\u001b[31m│\u001b[0m \u001b[2;33m/tmp/user/1000/ipykernel_1968519/\u001b[0m\u001b[1;33m722420137.py\u001b[0m:\u001b[94m12\u001b[0m in \u001b[92manalyze_dicom\u001b[0m                         \u001b[31m│\u001b[0m\n",
       "\u001b[31m│\u001b[0m                                                                                           \u001b[31m│\u001b[0m\n",
       "\u001b[31m│\u001b[0m \u001b[3;31m[Errno 2] No such file or directory: '/tmp/user/1000/ipykernel_1968519/722420137.py'\u001b[0m      \u001b[31m│\u001b[0m\n",
       "\u001b[31m│\u001b[0m                                                                                           \u001b[31m│\u001b[0m\n",
       "\u001b[31m│\u001b[0m \u001b[2;33m/tmp/user/1000/ipykernel_1968519/\u001b[0m\u001b[1;33m3437643848.py\u001b[0m:\u001b[94m18\u001b[0m in \u001b[92minfer_be\u001b[0m                             \u001b[31m│\u001b[0m\n",
       "\u001b[31m│\u001b[0m                                                                                           \u001b[31m│\u001b[0m\n",
       "\u001b[31m│\u001b[0m \u001b[3;31m[Errno 2] No such file or directory: '/tmp/user/1000/ipykernel_1968519/3437643848.py'\u001b[0m     \u001b[31m│\u001b[0m\n",
       "\u001b[31m╰───────────────────────────────────────────────────────────────────────────────────────────╯\u001b[0m\n",
       "\u001b[1;91mIndexError: \u001b[0minvalid index to scalar variable.\n"
      ]
     },
     "metadata": {},
     "output_type": "display_data"
    }
   ],
   "source": [
    "for patient_id, group in df_meta[:3].groupby(level=0):\n",
    "    for ind,row in group.iterrows():\n",
    "        patient_id,series_id=ind\n",
    "        image_folder=f\"{image_dir}/{int(patient_id)}/{int(series_id)}\"\n",
    "        print(image_folder)\n",
    "        analyze_dicom(image_folder)\n"
   ]
  }
 ],
 "metadata": {
  "kernelspec": {
   "display_name": ".venv",
   "language": "python",
   "name": "python3"
  },
  "language_info": {
   "codemirror_mode": {
    "name": "ipython",
    "version": 3
   },
   "file_extension": ".py",
   "mimetype": "text/x-python",
   "name": "python",
   "nbconvert_exporter": "python",
   "pygments_lexer": "ipython3",
   "version": "3.10.12"
  },
  "orig_nbformat": 4
 },
 "nbformat": 4,
 "nbformat_minor": 2
}
