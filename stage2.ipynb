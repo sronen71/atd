{
 "cells": [
  {
   "cell_type": "code",
   "execution_count": 2,
   "metadata": {},
   "outputs": [],
   "source": [
    "DEBUG = False"
   ]
  },
  {
   "cell_type": "code",
   "execution_count": 3,
   "metadata": {},
   "outputs": [],
   "source": [
    "import os\n",
    "import gc\n",
    "import cv2\n",
    "import time\n",
    "import timm\n",
    "import random\n",
    "import numpy as np\n",
    "import pandas as pd\n",
    "from tqdm import tqdm\n",
    "import albumentations\n",
    "from pylab import rcParams\n",
    "import matplotlib.pyplot as plt\n",
    "\n",
    "import torch\n",
    "import torch.nn as nn\n",
    "import torch.optim as optim\n",
    "import torch.cuda.amp as amp\n",
    "from torch.utils.data import  Dataset\n",
    "import torch.nn.functional as F\n",
    "\n",
    "%matplotlib inline\n",
    "rcParams['figure.figsize'] = 20, 8\n",
    "device = torch.device('cuda')\n",
    "torch.backends.cudnn.benchmark = True"
   ]
  },
  {
   "cell_type": "markdown",
   "metadata": {},
   "source": [
    "# Config"
   ]
  },
  {
   "cell_type": "code",
   "execution_count": 4,
   "metadata": {},
   "outputs": [],
   "source": [
    "kernel_type = '0920_1bonev2_effv2s_224_15_6ch_augv2_mixupp5_drl3_rov1p2_bs8_lr23e5_eta23e6_50ep'\n",
    "load_kernel = None\n",
    "load_last = True\n",
    "\n",
    "n_folds = 5\n",
    "#backbone = 'tf_efficientnetv2_s.in21k_ft_in1k'\n",
    "#backbone=\"tf_efficientnetv2_b3.in21k_ft_in1k\"\n",
    "backbone=\"tf_efficientnetv2_b2.in1k\"\n",
    "\n",
    "image_size = 296\n",
    "\n",
    "n_slice_per_c = 24 # liver,spleen,left kidney, right kidney \n",
    "in_chans = 4\n",
    "\n",
    "init_lr = 2.0e-4\n",
    "eta_min = 0\n",
    "batch_size = 3\n",
    "drop_rate = 0.\n",
    "drop_rate_last = 0.5 #  0.1\n",
    "drop_path_rate = 0.2\n",
    "p_mixup = 0.4 #0 0.3\n",
    "p_rand_order_v1 = 0.2\n",
    "\n",
    "data_dir = './preprocessed2'\n",
    "use_amp = True\n",
    "num_workers = 6\n",
    "out_dim = 3\n",
    "\n",
    "n_epochs = 60\n",
    "\n",
    "log_dir = './logs'\n",
    "model_dir = './models_cls'\n",
    "os.makedirs(log_dir, exist_ok=True)\n",
    "os.makedirs(model_dir, exist_ok=True)"
   ]
  },
  {
   "cell_type": "code",
   "execution_count": 5,
   "metadata": {},
   "outputs": [
    {
     "name": "stderr",
     "output_type": "stream",
     "text": [
      "/home/sronen/code/.venv/lib/python3.10/site-packages/albumentations/augmentations/dropout/cutout.py:49: FutureWarning: Cutout has been deprecated. Please use CoarseDropout\n",
      "  warnings.warn(\n"
     ]
    }
   ],
   "source": [
    "border_mode=cv2.BORDER_CONSTANT\n",
    "transforms_train = albumentations.Compose([\n",
    "    albumentations.Resize(image_size, image_size),\n",
    "    albumentations.HorizontalFlip(p=0.3),\n",
    "    albumentations.VerticalFlip(p=0.3),\n",
    "    albumentations.Transpose(p=0.3),\n",
    "    albumentations.RandomBrightnessContrast(brightness_limit=0.05, contrast_limit=0.05, brightness_by_max=False, always_apply=False, p=0.3),\n",
    "\n",
    "    #border_mode=cv2.BORDER_REFLECT101\n",
    "    albumentations.ShiftScaleRotate(shift_limit=0.2, scale_limit=0.2, rotate_limit=20, border_mode=border_mode, p=0.5),\n",
    "\n",
    "    albumentations.OneOf([\n",
    "        albumentations.MotionBlur(blur_limit=3),\n",
    "        albumentations.MedianBlur(blur_limit=3),\n",
    "        albumentations.GaussianBlur(blur_limit=(1,3)),\n",
    "        albumentations.GaussNoise(var_limit=(3.0, 9.0)),\n",
    "    ], p=0.3),\n",
    "    #albumentations.OneOf([\n",
    "        #albumentations.OpticalDistortion(distort_limit=.3),\n",
    "    #    albumentations.GridDistortion(num_steps=4, distort_limit=.2),\n",
    "    #], p=0.3),\n",
    "    albumentations.GridDistortion(num_steps=4, distort_limit=.3),\n",
    "    albumentations.Cutout(max_h_size=int(image_size * 0.5), max_w_size=int(image_size * 0.5), num_holes=1, p=0.4),\n",
    "])\n",
    "\n",
    "transforms_valid = albumentations.Compose([\n",
    "    albumentations.Resize(image_size, image_size),\n",
    "])"
   ]
  },
  {
   "cell_type": "markdown",
   "metadata": {},
   "source": [
    "# DataFrame"
   ]
  },
  {
   "cell_type": "code",
   "execution_count": 6,
   "metadata": {},
   "outputs": [
    {
     "name": "stdout",
     "output_type": "stream",
     "text": [
      "3147 4711 14133\n"
     ]
    }
   ],
   "source": [
    "from sklearn.model_selection import KFold\n",
    "\n",
    "organ_dict = {\n",
    "    0: 'liver',\n",
    "    1: 'spleen',\n",
    "    2: 'kidney',\n",
    "}\n",
    "\n",
    "df_p = pd.read_csv('/kaggle/input/rsna-2023-abdominal-trauma-detection/train.csv')\n",
    "\n",
    "\n",
    "\n",
    "\n",
    "\n",
    "df_s=pd.read_csv('/kaggle/input/rsna-2023-abdominal-trauma-detection/train_series_meta.csv')\n",
    "\n",
    "df_p['fold'] = -1\n",
    "kf = KFold(5,shuffle=True,random_state=42)\n",
    "for fold, (train_idx, valid_idx) in enumerate(kf.split(df_p,df_p)):\n",
    "    df_p.loc[valid_idx, 'fold'] = fold\n",
    "\n",
    "\n",
    "#df_healthy=df_p[df_p[\"any_injury\"]==0].sample(758)\n",
    "#df_injured=df_p[(df_p[\"kidney_healthy\"]==0) | (df_p[\"liver_healthy\"]==0)| (df_p[\"spleen_healthy\"]==0) | (df_p[\"bowel_healthy\"]==0)]\n",
    "#print(len(df_injured),len(df_healthy))\n",
    "#df_p1=pd.concat((df_healthy,df_injured))\n",
    "\n",
    "\n",
    "df=df_p.merge(df_s,on=\"patient_id\")\n",
    "df[\"count\"]=df.groupby([\"patient_id\"])[\"patient_id\"].transform(\"count\")\n",
    "\n",
    "\n",
    "pid=[]\n",
    "sid = []\n",
    "cs = []\n",
    "label = []\n",
    "label1=[]\n",
    "fold = []\n",
    "hu=[]\n",
    "counts=[]\n",
    "for row in df.to_dict(orient=\"records\"):\n",
    "    for i in [0,1,2]:\n",
    "        pid.append(row[\"patient_id\"])\n",
    "        sid.append(row[\"series_id\"])\n",
    "        cs.append(i)\n",
    "        hu.append(row[\"aortic_hu\"])\n",
    "        organ=organ_dict[i]\n",
    "        la=[row[f'{organ}_healthy'],row[f'{organ}_low'],row[f'{organ}_high']]\n",
    "        label.append(la)\n",
    "        label1.append(np.argmax(la))\n",
    "        fold.append(row[\"fold\"])\n",
    "        counts.append(row[\"count\"])\n",
    "\n",
    "df = pd.DataFrame({\n",
    "    'patient_id': pid,\n",
    "    'series_id': sid,\n",
    "    'c': cs,\n",
    "    'hu':hu,\n",
    "    'label': label,\n",
    "    'label1':label1,\n",
    "    'fold': fold,\n",
    "    'counts':counts,\n",
    "})\n",
    "\n",
    "df = df.sample(16).reset_index(drop=True) if DEBUG else df\n",
    "\n",
    "df.tail(10)\n",
    "print(len(df_p),len(df_s),len(df))\n",
    "\n"
   ]
  },
  {
   "cell_type": "markdown",
   "metadata": {},
   "source": [
    "# Dataset"
   ]
  },
  {
   "cell_type": "code",
   "execution_count": 6,
   "metadata": {},
   "outputs": [],
   "source": [
    "class CLSDataset(Dataset):\n",
    "    def __init__(self, df, mode, transform):\n",
    "\n",
    "        self.df = df.reset_index()\n",
    "        self.mode = mode\n",
    "        self.transform = transform\n",
    "\n",
    "    def __len__(self):\n",
    "        return self.df.shape[0]\n",
    "\n",
    "    def __getitem__(self, index):\n",
    "        row = self.df.iloc[index]\n",
    "        cid = row.c\n",
    "        \n",
    "        images = []\n",
    "        \n",
    "        filepath=os.path.join(data_dir, f'{row.patient_id}_{row.series_id}.npz')\n",
    "        image3d = np.load(filepath)['arr_0'] # slice,channel,H,W\n",
    "        istart=n_slice_per_c*cid\n",
    "        iend=istart+n_slice_per_c\n",
    "        for ind in list(range(istart,iend)):\n",
    "            image=image3d[ind,...].transpose(1,2,0).astype(np.uint8)\n",
    "            image = self.transform(image=image)['image']\n",
    "            image = image.transpose(2, 0, 1).astype(np.float32) / 255.\n",
    "            images.append(image)\n",
    "        images = np.stack(images, 0)\n",
    "\n",
    "   \n",
    "\n",
    "        if self.mode != 'test':\n",
    "            images = torch.tensor(images).float()\n",
    "            labels = torch.tensor([row.label] * n_slice_per_c).float()\n",
    "            counts=torch.tensor([row.counts]*n_slice_per_c).float()\n",
    "            \n",
    "            #images[...]=0.\n",
    "            #images[:,:,:,:3]=labels[:,None,None,:]\n",
    "            #images[:,0,0,:3]=labels[:,:]\n",
    "\n",
    "         \n",
    "            \n",
    "            if self.mode == 'train' and random.random() < p_rand_order_v1:\n",
    "                indices = torch.randperm(images.size(0))\n",
    "                images = images[indices]\n",
    "                counts=counts[indices]\n",
    "\n",
    "            return images, labels,counts\n",
    "        else:\n",
    "            return torch.tensor(images).float()"
   ]
  },
  {
   "cell_type": "code",
   "execution_count": 7,
   "metadata": {},
   "outputs": [],
   "source": [
    "rcParams['figure.figsize'] = 20,8\n",
    "\n",
    "df_show = df\n",
    "dataset_show = CLSDataset(df_show, 'train', transform=transforms_train)\n",
    "loader_show = torch.utils.data.DataLoader(dataset_show, batch_size=batch_size, shuffle=True, num_workers=num_workers)"
   ]
  },
  {
   "cell_type": "code",
   "execution_count": 8,
   "metadata": {},
   "outputs": [
    {
     "data": {
      "image/png": "[encoded data removed]",
      "text/plain": [
       "<Figure size 2000x800 with 12 Axes>"
      ]
     },
     "metadata": {},
     "output_type": "display_data"
    }
   ],
   "source": [
    "f, axarr = plt.subplots(2,6)\n",
    "for p in range(6):\n",
    "    idx = p * 20\n",
    "    imgs, lbl,_ = dataset_show[idx]\n",
    "    sel=7\n",
    "    axarr[0, p].imshow(255*imgs[sel][1],cmap=\"gray\")\n",
    "    axarr[1, p].imshow(imgs[sel][-1],cmap=\"gray\")"
   ]
  },
  {
   "cell_type": "markdown",
   "metadata": {},
   "source": [
    "# Model"
   ]
  },
  {
   "cell_type": "code",
   "execution_count": 10,
   "metadata": {},
   "outputs": [],
   "source": [
    "class TimmModel(nn.Module):\n",
    "    def __init__(self, backbone, pretrained=False):\n",
    "        super(TimmModel, self).__init__()\n",
    "\n",
    "        self.encoder = timm.create_model(\n",
    "            backbone,\n",
    "            in_chans=in_chans,\n",
    "            num_classes=out_dim,\n",
    "            features_only=False,\n",
    "            drop_rate=drop_rate,\n",
    "            drop_path_rate=drop_path_rate,\n",
    "            pretrained=pretrained\n",
    "        )\n",
    "\n",
    "        if 'efficient' in backbone:\n",
    "            hdim = self.encoder.conv_head.out_channels\n",
    "            self.encoder.classifier = nn.Identity()\n",
    "        elif 'convnext' in backbone:\n",
    "            hdim = self.encoder.head.fc.in_features\n",
    "            self.encoder.head.fc = nn.Identity()\n",
    "\n",
    "\n",
    "        self.lstm = nn.LSTM(hdim, 64, num_layers=1, dropout=drop_rate, bidirectional=True, batch_first=True)\n",
    "        self.head = nn.Sequential(\n",
    "            nn.Linear(128, 64),\n",
    "            nn.BatchNorm1d(64),\n",
    "            nn.Dropout(drop_rate_last),\n",
    "            nn.LeakyReLU(0.1),\n",
    "            nn.Linear(64, out_dim),\n",
    "            #NormedLinear(128,out_dim)\n",
    "        )\n",
    "\n",
    "    def forward(self, x):  # (bs, nslice, ch, sz, sz)\n",
    "        bs = x.shape[0]\n",
    "        x = x.view(bs * n_slice_per_c, in_chans, image_size, image_size)\n",
    "        feat = self.encoder(x)\n",
    "        feat = feat.view(bs, n_slice_per_c, -1)\n",
    "        feat, _ = self.lstm(feat)\n",
    "        feat = feat.contiguous().view(bs * n_slice_per_c, -1)\n",
    "        feat = self.head(feat)\n",
    "        feat = feat.view(bs, n_slice_per_c,out_dim).contiguous()\n",
    "\n",
    "        return feat"
   ]
  },
  {
   "cell_type": "code",
   "execution_count": 11,
   "metadata": {},
   "outputs": [
    {
     "data": {
      "text/plain": [
       "torch.Size([2, 24, 3])"
      ]
     },
     "execution_count": 11,
     "metadata": {},
     "output_type": "execute_result"
    }
   ],
   "source": [
    "m = TimmModel(backbone)\n",
    "m(torch.rand(2, n_slice_per_c, in_chans, image_size, image_size)).shape"
   ]
  },
  {
   "cell_type": "code",
   "execution_count": 12,
   "metadata": {},
   "outputs": [
    {
     "data": {
      "text/plain": [
       "====================================================================================================\n",
       "Layer (type:depth-idx)                             Output Shape              Param #\n",
       "====================================================================================================\n",
       "TimmModel                                          [1, 24, 3]                --\n",
       "├─EfficientNet: 1-1                                [24, 1408]                --\n",
       "│    └─Conv2dSame: 2-1                             [24, 32, 148, 148]        1,152\n",
       "│    └─BatchNormAct2d: 2-2                         [24, 32, 148, 148]        64\n",
       "│    │    └─Identity: 3-1                          [24, 32, 148, 148]        --\n",
       "│    │    └─SiLU: 3-2                              [24, 32, 148, 148]        --\n",
       "│    └─Sequential: 2-3                             [24, 208, 10, 10]         --\n",
       "│    │    └─Sequential: 3-3                        [24, 16, 148, 148]        6,976\n",
       "│    │    └─Sequential: 3-4                        [24, 32, 74, 74]          94,016\n",
       "│    │    └─Sequential: 3-5                        [24, 56, 37, 37]          296,400\n",
       "│    │    └─Sequential: 3-6                        [24, 104, 19, 19]         388,124\n",
       "│    │    └─Sequential: 3-7                        [24, 120, 19, 19]         1,312,976\n",
       "│    │    └─Sequential: 3-8                        [24, 208, 10, 10]         6,291,986\n",
       "│    └─Conv2d: 2-4                                 [24, 1408, 10, 10]        292,864\n",
       "│    └─BatchNormAct2d: 2-5                         [24, 1408, 10, 10]        2,816\n",
       "│    │    └─Identity: 3-9                          [24, 1408, 10, 10]        --\n",
       "│    │    └─SiLU: 3-10                             [24, 1408, 10, 10]        --\n",
       "│    └─SelectAdaptivePool2d: 2-6                   [24, 1408]                --\n",
       "│    │    └─AdaptiveAvgPool2d: 3-11                [24, 1408, 1, 1]          --\n",
       "│    │    └─Flatten: 3-12                          [24, 1408]                --\n",
       "│    └─Identity: 2-7                               [24, 1408]                --\n",
       "├─LSTM: 1-2                                        [1, 24, 128]              754,688\n",
       "├─Sequential: 1-3                                  [24, 3]                   --\n",
       "│    └─Linear: 2-8                                 [24, 64]                  8,256\n",
       "│    └─BatchNorm1d: 2-9                            [24, 64]                  128\n",
       "│    └─Dropout: 2-10                               [24, 64]                  --\n",
       "│    └─LeakyReLU: 2-11                             [24, 64]                  --\n",
       "│    └─Linear: 2-12                                [24, 3]                   195\n",
       "====================================================================================================\n",
       "Total params: 9,450,641\n",
       "Trainable params: 9,450,641\n",
       "Non-trainable params: 0\n",
       "Total mult-adds (G): 51.52\n",
       "====================================================================================================\n",
       "Input size (MB): 33.64\n",
       "Forward/backward pass size (MB): 2379.38\n",
       "Params size (MB): 37.47\n",
       "Estimated Total Size (MB): 2450.50\n",
       "===================================================================================================="
      ]
     },
     "execution_count": 12,
     "metadata": {},
     "output_type": "execute_result"
    }
   ],
   "source": [
    "from torchinfo import summary\n",
    "summary(m,(1,n_slice_per_c,in_chans,image_size,image_size))"
   ]
  },
  {
   "cell_type": "code",
   "execution_count": 14,
   "metadata": {},
   "outputs": [],
   "source": [
    "ce = nn.CrossEntropyLoss(reduction='none', label_smoothing=0.0)\n",
    "\n",
    "mapping = torch.tensor([1., 2., 4.]).cuda()\n",
    "mapping=mapping/torch.mean(mapping)\n",
    "\n",
    "def criterion(logits, targets,counts=None,weights=None):\n",
    "    b=logits.shape[0]\n",
    "    logits=logits.view(-1,out_dim)\n",
    "    targets=targets.view(-1,out_dim)\n",
    "    loss = ce(logits, targets)\n",
    "    ll=torch.argmax(targets,dim=1) \n",
    "    #print(\"logits\",logits[0:5,:],\"targets\",ll[0:5])\n",
    "\n",
    "    #0->1,1->2,2->4 \n",
    "\n",
    "# Use torch.index_select to apply the mapping\n",
    "    #w = torch.index_select(mapping, dim=0, index=ll)\n",
    "    if weights is not None:\n",
    "        w=torch.matmul(targets,mapping)\n",
    "    else:\n",
    "        w=torch.ones(b).float().cuda()\n",
    "    if counts is not None:\n",
    "        counts=counts.view(-1)\n",
    "        w=w/counts\n",
    "    loss=loss.reshape((b,-1))\n",
    "    w=w.reshape((b,-1))\n",
    "    loss=torch.mean(loss,dim=1)\n",
    "\n",
    "    w=torch.mean(w,dim=1)\n",
    "    return loss,w"
   ]
  },
  {
   "cell_type": "code",
   "execution_count": 15,
   "metadata": {},
   "outputs": [],
   "source": [
    "from torch.distributions.beta import Beta\n",
    "beta=Beta(torch.tensor([0.2]),torch.tensor([0.2]))\n",
    "\n",
    "def mix_up(images1,labels1):\n",
    "    # Unpack two datasets\n",
    "    batch_size = images1.shape[0]\n",
    "    # Sample lambda and reshape it to do the mixup\n",
    "    l = beta.sample(torch.Size([batch_size])).cuda()\n",
    "    x_l = l.reshape((batch_size, 1, 1, 1,1))\n",
    "    y_l = l.reshape((batch_size, 1,1))\n",
    "    idx = torch.randperm(batch_size).cuda()\n",
    "    images2=images1[idx,...]\n",
    "    labels2=labels1[idx,...]\n",
    "    # Perform mixup on both images and labels by combining a pair of images/labels\n",
    "    # (one from each dataset) into one image/label\n",
    "    images = images1 * x_l + images2 * (1 - x_l)\n",
    "    labels = labels1 * y_l + labels2 * (1 - y_l)\n",
    "    return (images, labels)\n",
    "\n",
    "\n",
    "def train_func(model, loader_train, optimizer, scaler=None):\n",
    "    model.train()\n",
    "    train_loss = []\n",
    "    ws=[]\n",
    "    bar = tqdm(loader_train)\n",
    "    for images, targets,_ in bar:\n",
    "        optimizer.zero_grad()\n",
    "        images = images.cuda()\n",
    "        targets = targets.cuda()\n",
    "  \n",
    "        if random.random() < p_mixup:\n",
    "            images, targets = mix_up(images, targets)\n",
    "\n",
    "        if use_amp:\n",
    "            with amp.autocast():\n",
    "                logits = model(images)\n",
    "                loss,w = criterion(logits, targets)\n",
    "                loss1=torch.mean(loss*w)\n",
    "            scaler.scale(loss1).backward()\n",
    "            scaler.step(optimizer)\n",
    "            scaler.update()\n",
    "            train_loss.extend(loss.detach().cpu())\n",
    "\n",
    "        else:\n",
    "            logits = model(images)\n",
    "            loss,w = criterion(logits, targets)\n",
    "            loss1=torch.mean(loss*w)\n",
    "            loss1.backward()\n",
    "            optimizer.step()\n",
    "            train_loss.extend(loss.detach().cpu())\n",
    "\n",
    "            \n",
    "        ws.extend(w.detach().cpu())\n",
    "        bar.set_description(f'smth:{np.average(train_loss[-100:],weights=ws[-100:]):.4f}')\n",
    "\n",
    "    return np.average(train_loss,weights=ws)\n",
    "\n",
    "\n",
    "def valid_func(model, loader_valid,dff):\n",
    "    model.eval()\n",
    "    valid_loss=[]\n",
    "    valid_loss_progress = []\n",
    "    outputs = []\n",
    "    tgs=[]\n",
    "    ws=[]\n",
    "    ws_progress=[]\n",
    "    bar = tqdm(loader_valid)\n",
    "    with torch.no_grad():\n",
    "        for images, targets,counts in bar:\n",
    "            images = images.cuda()\n",
    "            targets = targets.cuda()\n",
    "            counts=counts.cuda()\n",
    "\n",
    "            #if use_amp:\n",
    "            #    with amp.autocast():\n",
    "            \n",
    "            logits = model(images)\n",
    "            blogits=torch.mean(logits,dim=1) # average logits across slices\n",
    "            loss,w=criterion(logits,targets,counts,mapping)\n",
    "\n",
    "            ws_progress.extend(w.cpu())\n",
    "            valid_loss_progress.extend(loss.cpu())\n",
    "            out=torch.unbind(blogits,dim=0)   \n",
    "            outputs.extend(out)\n",
    "            tt=targets[:,0,:] # first slice\n",
    "            tgs.extend(torch.unbind(tt,dim=0))\n",
    "            bar.set_description(f'smth:{np.average(valid_loss_progress[-100:],weights=ws_progress[-100:]):.4f}')\n",
    "        for pid in dff[\"patient_id\"].unique():\n",
    "            for c in range(3):\n",
    "                #print(\"patient\",pid,\"organ\",c)\n",
    "                inds=dff[(dff[\"patient_id\"]==pid) & (dff[\"c\"]==c)].index.values\n",
    "                #print(pid,c,inds[0],dff.iloc[inds[0]])\n",
    "                la=torch.mean(torch.stack([outputs[i] for i in inds]),dim=0) # average logits across up to two series per patient\n",
    "                ta=tgs[inds[0]]\n",
    "\n",
    "                loss = ce(la[None,:], ta[None,:])\n",
    "                #print(\"fpatient id {pid}, organ {c}, {la} , {ta}, {loss}\")\n",
    "                valid_loss.append(loss.item())\n",
    "                ta=torch.argmax(ta)\n",
    "                w=mapping[ta].item()\n",
    "                #print(ta.item(),dff.iloc[inds[0]][\"label1\"])\n",
    "                assert ta.item()==dff.iloc[inds[0]][\"label1\"]\n",
    "                ws.append(w)\n",
    "        \n",
    "        valid_loss=np.average(valid_loss,weights=ws)  \n",
    "                \n",
    "    return valid_loss\n"
   ]
  },
  {
   "cell_type": "code",
   "execution_count": 16,
   "metadata": {},
   "outputs": [
    {
     "name": "stderr",
     "output_type": "stream",
     "text": [
      "/home/sronen/code/.venv/lib/python3.10/site-packages/torch/optim/lr_scheduler.py:139: UserWarning: Detected call of `lr_scheduler.step()` before `optimizer.step()`. In PyTorch 1.1.0 and later, you should call them in the opposite order: `optimizer.step()` before `lr_scheduler.step()`.  Failure to do this will result in PyTorch skipping the first value of the learning rate schedule. See more details at https://pytorch.org/docs/stable/optim.html#how-to-adjust-learning-rate\n",
      "  warnings.warn(\"Detected call of `lr_scheduler.step()` before `optimizer.step()`. \"\n",
      "/home/sronen/code/.venv/lib/python3.10/site-packages/torch/optim/lr_scheduler.py:152: UserWarning: The epoch parameter in `scheduler.step()` was not necessary and is being deprecated where possible. Please use `scheduler.step()` to step the scheduler. During the deprecation, if epoch is different from None, the closed form is used instead of the new chainable form, where available. Please open an issue if you are unable to replicate your use case: https://github.com/pytorch/pytorch/issues/new/choose.\n",
      "  warnings.warn(EPOCH_DEPRECATION_WARNING, UserWarning)\n"
     ]
    },
    {
     "data": {
      "text/plain": [
       "[<matplotlib.lines.Line2D at 0x7f63b001cb80>]"
      ]
     },
     "execution_count": 16,
     "metadata": {},
     "output_type": "execute_result"
    },
    {
     "data": {
      "image/png": "[encoded data removed]",
      "text/plain": [
       "<Figure size 2000x200 with 1 Axes>"
      ]
     },
     "metadata": {},
     "output_type": "display_data"
    }
   ],
   "source": [
    "rcParams['figure.figsize'] = 20, 2\n",
    "optimizer = optim.AdamW(m.parameters(), lr=init_lr)\n",
    "scheduler_cosine = torch.optim.lr_scheduler.CosineAnnealingLR(optimizer, n_epochs, eta_min=eta_min)\n",
    "\n",
    "lrs = []\n",
    "for epoch in range(1, n_epochs+1):\n",
    "    scheduler_cosine.step(epoch-1)\n",
    "    lrs.append(optimizer.param_groups[0][\"lr\"])\n",
    "plt.plot(range(len(lrs)), lrs)\n",
    "\n"
   ]
  },
  {
   "cell_type": "code",
   "execution_count": 17,
   "metadata": {},
   "outputs": [
    {
     "data": {
      "text/plain": [
       "45"
      ]
     },
     "execution_count": 17,
     "metadata": {},
     "output_type": "execute_result"
    }
   ],
   "source": [
    "del m,optimizer\n",
    "torch.cuda.empty_cache()\n",
    "gc.collect()"
   ]
  },
  {
   "cell_type": "markdown",
   "metadata": {},
   "source": [
    "# Training"
   ]
  },
  {
   "cell_type": "code",
   "execution_count": 18,
   "metadata": {},
   "outputs": [],
   "source": [
    "from torch.utils.data import WeightedRandomSampler\n",
    "def run(fold):\n",
    "\n",
    "    log_file = os.path.join(log_dir, f'{kernel_type}.txt')\n",
    "    model_file = os.path.join(model_dir, f'{kernel_type}_fold{fold}_best.pth')\n",
    "\n",
    "    train_ = df[df['fold'] != fold].reset_index(drop=True)\n",
    "    valid_ = df[df['fold'] == fold].reset_index(drop=True)\n",
    "    dataset_train = CLSDataset(train_, 'train', transform=transforms_train)\n",
    "    dataset_valid = CLSDataset(valid_, 'valid', transform=transforms_valid)\n",
    "    \n",
    "\n",
    "    class_counts = train_.label1.value_counts()\n",
    "    print(\"class_counts\",class_counts)\n",
    "    #class_w=[1/c for c in class_counts]\n",
    "    class_w=[1,2,4]\n",
    "    sample_train_weights=[class_w[i] for i in train_.label1.values]\n",
    "    sample_train_weights=[sample_train_weights[i]/train_.counts.values[i] for i in range(len(train_))]\n",
    "\n",
    "\n",
    "    nsamp=3000\n",
    "    sampler=WeightedRandomSampler(weights=sample_train_weights,num_samples=nsamp)\n",
    "\n",
    "    \n",
    "    #loader_train = torch.utils.data.DataLoader(dataset_train, batch_size=batch_size, shuffle=True, num_workers=num_workers, drop_last=True)\n",
    "    loader_train = torch.utils.data.DataLoader(dataset_train, batch_size=batch_size, num_workers=num_workers, drop_last=True,sampler=sampler)\n",
    "\n",
    "    loader_valid = torch.utils.data.DataLoader(dataset_valid, batch_size=batch_size, shuffle=False, num_workers=num_workers)\n",
    "\n",
    "    model = TimmModel(backbone, pretrained=True)\n",
    "    model = model.to(device)\n",
    "\n",
    "    optimizer = optim.AdamW(model.parameters(), lr=init_lr,weight_decay=1e-4)\n",
    "    scaler = torch.cuda.amp.GradScaler() if use_amp else None\n",
    "\n",
    "    metric_best = np.inf\n",
    "\n",
    "    scheduler_cosine = torch.optim.lr_scheduler.CosineAnnealingWarmRestarts(optimizer, n_epochs, eta_min=eta_min)\n",
    "\n",
    "    print(len(dataset_train), len(dataset_valid))\n",
    "\n",
    "    for epoch in range(1, n_epochs+1):\n",
    "        print(time.ctime(), 'Epoch:', epoch)\n",
    "        train_loss = train_func(model, loader_train, optimizer, scaler)\n",
    "        scheduler_cosine.step(epoch-1)   \n",
    "        valid_loss = valid_func(model, loader_valid,valid_)\n",
    "    \n",
    "        metric = valid_loss\n",
    "\n",
    "        content = time.ctime() + ' ' + f'Fold {fold}, Epoch {epoch}, lr: {optimizer.param_groups[0][\"lr\"]:.7f}, train loss: {train_loss:.5f}, valid loss: {valid_loss:.5f}, metric: {(metric):.6f}.'\n",
    "        print(content)\n",
    "        with open(log_file, 'a') as appender:\n",
    "            appender.write(content + '\\n')\n",
    "\n",
    "        if metric < metric_best:\n",
    "            print(f'metric_best ({metric_best:.6f} --> {metric:.6f}). Saving model ...')\n",
    "#             if not DEBUG:\n",
    "            torch.save(model.state_dict(), model_file)\n",
    "            metric_best = metric\n",
    "\n",
    "        # Save Last\n",
    "        if not DEBUG:\n",
    "            torch.save(\n",
    "                {\n",
    "                    'epoch': epoch,\n",
    "                    'model_state_dict': model.state_dict(),\n",
    "                    'optimizer_state_dict': optimizer.state_dict(),\n",
    "                    'scaler_state_dict': scaler.state_dict() if scaler else None,\n",
    "                    'score_best': metric_best,\n",
    "                },\n",
    "                model_file.replace('_best', '_last')\n",
    "            )\n",
    "\n",
    "    del model\n",
    "    torch.cuda.empty_cache()\n",
    "    gc.collect()"
   ]
  },
  {
   "cell_type": "code",
   "execution_count": 19,
   "metadata": {},
   "outputs": [
    {
     "name": "stdout",
     "output_type": "stream",
     "text": [
      "class_counts label1\n",
      "0    10243\n",
      "1      718\n",
      "2      358\n",
      "Name: count, dtype: int64\n",
      "11319 2814\n",
      "Sun Sep 10 16:13:02 2023 Epoch: 1\n"
     ]
    },
    {
     "name": "stderr",
     "output_type": "stream",
     "text": [
      "smth:0.8506: 100%|██████████| 1000/1000 [04:00<00:00,  4.17it/s]\n",
      "smth:0.8550: 100%|██████████| 938/938 [02:17<00:00,  6.84it/s]\n"
     ]
    },
    {
     "name": "stdout",
     "output_type": "stream",
     "text": [
      "Sun Sep 10 16:19:20 2023 Fold 1, Epoch 1, lr: 0.0002000, train loss: 0.73817, valid loss: 0.56831, metric: 0.568313.\n",
      "metric_best (inf --> 0.568313). Saving model ...\n",
      "Sun Sep 10 16:19:20 2023 Epoch: 2\n"
     ]
    },
    {
     "name": "stderr",
     "output_type": "stream",
     "text": [
      "smth:0.6269: 100%|██████████| 1000/1000 [03:56<00:00,  4.22it/s]\n",
      "smth:0.7877: 100%|██████████| 938/938 [02:14<00:00,  6.98it/s]\n"
     ]
    },
    {
     "name": "stdout",
     "output_type": "stream",
     "text": [
      "Sun Sep 10 16:25:33 2023 Fold 1, Epoch 2, lr: 0.0001999, train loss: 0.66353, valid loss: 0.53276, metric: 0.532761.\n",
      "metric_best (0.568313 --> 0.532761). Saving model ...\n",
      "Sun Sep 10 16:25:33 2023 Epoch: 3\n"
     ]
    },
    {
     "name": "stderr",
     "output_type": "stream",
     "text": [
      "smth:0.5095: 100%|██████████| 1000/1000 [03:59<00:00,  4.17it/s]\n",
      "smth:0.7435: 100%|██████████| 938/938 [02:10<00:00,  7.21it/s]\n"
     ]
    },
    {
     "name": "stdout",
     "output_type": "stream",
     "text": [
      "Sun Sep 10 16:31:44 2023 Fold 1, Epoch 3, lr: 0.0001995, train loss: 0.63800, valid loss: 0.52359, metric: 0.523591.\n",
      "metric_best (0.532761 --> 0.523591). Saving model ...\n",
      "Sun Sep 10 16:31:44 2023 Epoch: 4\n"
     ]
    },
    {
     "name": "stderr",
     "output_type": "stream",
     "text": [
      "smth:0.6068: 100%|██████████| 1000/1000 [03:56<00:00,  4.22it/s]\n",
      "smth:0.7229: 100%|██████████| 938/938 [02:10<00:00,  7.20it/s]\n"
     ]
    },
    {
     "name": "stdout",
     "output_type": "stream",
     "text": [
      "Sun Sep 10 16:37:53 2023 Fold 1, Epoch 4, lr: 0.0001988, train loss: 0.63604, valid loss: 0.51120, metric: 0.511200.\n",
      "metric_best (0.523591 --> 0.511200). Saving model ...\n",
      "Sun Sep 10 16:37:53 2023 Epoch: 5\n"
     ]
    },
    {
     "name": "stderr",
     "output_type": "stream",
     "text": [
      "smth:0.6372: 100%|██████████| 1000/1000 [04:00<00:00,  4.16it/s]\n",
      "smth:0.7555: 100%|██████████| 938/938 [02:16<00:00,  6.87it/s]\n"
     ]
    },
    {
     "name": "stdout",
     "output_type": "stream",
     "text": [
      "Sun Sep 10 16:44:12 2023 Fold 1, Epoch 5, lr: 0.0001978, train loss: 0.63055, valid loss: 0.54161, metric: 0.541614.\n",
      "Sun Sep 10 16:44:12 2023 Epoch: 6\n"
     ]
    },
    {
     "name": "stderr",
     "output_type": "stream",
     "text": [
      "smth:0.7339: 100%|██████████| 1000/1000 [04:03<00:00,  4.10it/s]\n",
      "smth:0.7000: 100%|██████████| 938/938 [02:12<00:00,  7.08it/s]\n"
     ]
    },
    {
     "name": "stdout",
     "output_type": "stream",
     "text": [
      "Sun Sep 10 16:50:29 2023 Fold 1, Epoch 6, lr: 0.0001966, train loss: 0.60568, valid loss: 0.52718, metric: 0.527177.\n",
      "Sun Sep 10 16:50:30 2023 Epoch: 7\n"
     ]
    },
    {
     "name": "stderr",
     "output_type": "stream",
     "text": [
      "smth:0.7040: 100%|██████████| 1000/1000 [04:02<00:00,  4.12it/s]\n",
      "smth:0.6877: 100%|██████████| 938/938 [02:13<00:00,  7.04it/s]\n"
     ]
    },
    {
     "name": "stdout",
     "output_type": "stream",
     "text": [
      "Sun Sep 10 16:56:47 2023 Fold 1, Epoch 7, lr: 0.0001951, train loss: 0.59066, valid loss: 0.47499, metric: 0.474990.\n",
      "metric_best (0.511200 --> 0.474990). Saving model ...\n",
      "Sun Sep 10 16:56:47 2023 Epoch: 8\n"
     ]
    },
    {
     "name": "stderr",
     "output_type": "stream",
     "text": [
      "smth:0.5906: 100%|██████████| 1000/1000 [04:05<00:00,  4.07it/s]\n",
      "smth:0.7539: 100%|██████████| 938/938 [02:14<00:00,  6.98it/s]\n"
     ]
    },
    {
     "name": "stdout",
     "output_type": "stream",
     "text": [
      "Sun Sep 10 17:03:09 2023 Fold 1, Epoch 8, lr: 0.0001934, train loss: 0.58347, valid loss: 0.45992, metric: 0.459922.\n",
      "metric_best (0.474990 --> 0.459922). Saving model ...\n",
      "Sun Sep 10 17:03:09 2023 Epoch: 9\n"
     ]
    },
    {
     "name": "stderr",
     "output_type": "stream",
     "text": [
      "smth:0.6335: 100%|██████████| 1000/1000 [04:05<00:00,  4.08it/s]\n",
      "smth:0.7253: 100%|██████████| 938/938 [02:16<00:00,  6.87it/s]\n"
     ]
    },
    {
     "name": "stdout",
     "output_type": "stream",
     "text": [
      "Sun Sep 10 17:09:32 2023 Fold 1, Epoch 9, lr: 0.0001914, train loss: 0.58632, valid loss: 0.53120, metric: 0.531202.\n",
      "Sun Sep 10 17:09:32 2023 Epoch: 10\n"
     ]
    },
    {
     "name": "stderr",
     "output_type": "stream",
     "text": [
      "smth:0.5897: 100%|██████████| 1000/1000 [04:04<00:00,  4.10it/s]\n",
      "smth:0.6556: 100%|██████████| 938/938 [02:13<00:00,  7.01it/s]\n"
     ]
    },
    {
     "name": "stdout",
     "output_type": "stream",
     "text": [
      "Sun Sep 10 17:15:51 2023 Fold 1, Epoch 10, lr: 0.0001891, train loss: 0.55049, valid loss: 0.42926, metric: 0.429262.\n",
      "metric_best (0.459922 --> 0.429262). Saving model ...\n",
      "Sun Sep 10 17:15:52 2023 Epoch: 11\n"
     ]
    },
    {
     "name": "stderr",
     "output_type": "stream",
     "text": [
      "smth:0.6003: 100%|██████████| 1000/1000 [04:02<00:00,  4.12it/s]\n",
      "smth:0.6563: 100%|██████████| 938/938 [02:16<00:00,  6.87it/s]\n"
     ]
    },
    {
     "name": "stdout",
     "output_type": "stream",
     "text": [
      "Sun Sep 10 17:22:12 2023 Fold 1, Epoch 11, lr: 0.0001866, train loss: 0.55868, valid loss: 0.44998, metric: 0.449984.\n",
      "Sun Sep 10 17:22:12 2023 Epoch: 12\n"
     ]
    },
    {
     "name": "stderr",
     "output_type": "stream",
     "text": [
      "smth:0.5452: 100%|██████████| 1000/1000 [04:01<00:00,  4.13it/s]\n",
      "smth:0.6551: 100%|██████████| 938/938 [02:15<00:00,  6.92it/s]\n"
     ]
    },
    {
     "name": "stdout",
     "output_type": "stream",
     "text": [
      "Sun Sep 10 17:28:31 2023 Fold 1, Epoch 12, lr: 0.0001839, train loss: 0.53992, valid loss: 0.42826, metric: 0.428262.\n",
      "metric_best (0.429262 --> 0.428262). Saving model ...\n",
      "Sun Sep 10 17:28:31 2023 Epoch: 13\n"
     ]
    },
    {
     "name": "stderr",
     "output_type": "stream",
     "text": [
      "smth:0.7650: 100%|██████████| 1000/1000 [04:00<00:00,  4.15it/s]\n",
      "smth:0.6768: 100%|██████████| 938/938 [02:08<00:00,  7.30it/s]\n"
     ]
    },
    {
     "name": "stdout",
     "output_type": "stream",
     "text": [
      "Sun Sep 10 17:34:42 2023 Fold 1, Epoch 13, lr: 0.0001809, train loss: 0.54827, valid loss: 0.43856, metric: 0.438562.\n",
      "Sun Sep 10 17:34:42 2023 Epoch: 14\n"
     ]
    },
    {
     "name": "stderr",
     "output_type": "stream",
     "text": [
      "smth:0.6960: 100%|██████████| 1000/1000 [04:02<00:00,  4.12it/s]\n",
      "smth:0.6955: 100%|██████████| 938/938 [02:13<00:00,  7.03it/s]\n"
     ]
    },
    {
     "name": "stdout",
     "output_type": "stream",
     "text": [
      "Sun Sep 10 17:40:59 2023 Fold 1, Epoch 14, lr: 0.0001777, train loss: 0.51026, valid loss: 0.40183, metric: 0.401827.\n",
      "metric_best (0.428262 --> 0.401827). Saving model ...\n",
      "Sun Sep 10 17:41:00 2023 Epoch: 15\n"
     ]
    },
    {
     "name": "stderr",
     "output_type": "stream",
     "text": [
      "smth:0.5810: 100%|██████████| 1000/1000 [03:55<00:00,  4.25it/s]\n",
      "smth:0.7529: 100%|██████████| 938/938 [02:12<00:00,  7.10it/s]\n"
     ]
    },
    {
     "name": "stdout",
     "output_type": "stream",
     "text": [
      "Sun Sep 10 17:47:09 2023 Fold 1, Epoch 15, lr: 0.0001743, train loss: 0.53780, valid loss: 0.57250, metric: 0.572504.\n",
      "Sun Sep 10 17:47:09 2023 Epoch: 16\n"
     ]
    },
    {
     "name": "stderr",
     "output_type": "stream",
     "text": [
      "smth:0.4497: 100%|██████████| 1000/1000 [04:01<00:00,  4.15it/s]\n",
      "smth:0.6551: 100%|██████████| 938/938 [02:10<00:00,  7.19it/s]\n"
     ]
    },
    {
     "name": "stdout",
     "output_type": "stream",
     "text": [
      "Sun Sep 10 17:53:22 2023 Fold 1, Epoch 16, lr: 0.0001707, train loss: 0.51529, valid loss: 0.40410, metric: 0.404097.\n",
      "Sun Sep 10 17:53:22 2023 Epoch: 17\n"
     ]
    },
    {
     "name": "stderr",
     "output_type": "stream",
     "text": [
      "smth:0.3566: 100%|██████████| 1000/1000 [03:55<00:00,  4.24it/s]\n",
      "smth:0.5812: 100%|██████████| 938/938 [02:07<00:00,  7.36it/s]\n"
     ]
    },
    {
     "name": "stdout",
     "output_type": "stream",
     "text": [
      "Sun Sep 10 17:59:27 2023 Fold 1, Epoch 17, lr: 0.0001669, train loss: 0.48878, valid loss: 0.39171, metric: 0.391711.\n",
      "metric_best (0.401827 --> 0.391711). Saving model ...\n",
      "Sun Sep 10 17:59:30 2023 Epoch: 18\n"
     ]
    },
    {
     "name": "stderr",
     "output_type": "stream",
     "text": [
      "smth:0.4904: 100%|██████████| 1000/1000 [03:49<00:00,  4.35it/s]\n",
      "smth:0.6614: 100%|██████████| 938/938 [02:06<00:00,  7.39it/s]\n"
     ]
    },
    {
     "name": "stdout",
     "output_type": "stream",
     "text": [
      "Sun Sep 10 18:05:28 2023 Fold 1, Epoch 18, lr: 0.0001629, train loss: 0.49730, valid loss: 0.39459, metric: 0.394593.\n",
      "Sun Sep 10 18:05:28 2023 Epoch: 19\n"
     ]
    },
    {
     "name": "stderr",
     "output_type": "stream",
     "text": [
      "smth:0.4291: 100%|██████████| 1000/1000 [04:04<00:00,  4.09it/s]\n",
      "smth:0.5998: 100%|██████████| 938/938 [02:24<00:00,  6.51it/s]\n"
     ]
    },
    {
     "name": "stdout",
     "output_type": "stream",
     "text": [
      "Sun Sep 10 18:11:58 2023 Fold 1, Epoch 19, lr: 0.0001588, train loss: 0.49109, valid loss: 0.39445, metric: 0.394450.\n",
      "Sun Sep 10 18:11:59 2023 Epoch: 20\n"
     ]
    },
    {
     "name": "stderr",
     "output_type": "stream",
     "text": [
      "smth:0.4660: 100%|██████████| 1000/1000 [04:04<00:00,  4.08it/s]\n",
      "smth:0.6294: 100%|██████████| 938/938 [02:15<00:00,  6.91it/s]\n"
     ]
    },
    {
     "name": "stdout",
     "output_type": "stream",
     "text": [
      "Sun Sep 10 18:18:21 2023 Fold 1, Epoch 20, lr: 0.0001545, train loss: 0.48378, valid loss: 0.39082, metric: 0.390824.\n",
      "metric_best (0.391711 --> 0.390824). Saving model ...\n",
      "Sun Sep 10 18:18:21 2023 Epoch: 21\n"
     ]
    },
    {
     "name": "stderr",
     "output_type": "stream",
     "text": [
      "smth:0.5745: 100%|██████████| 1000/1000 [04:07<00:00,  4.04it/s]\n",
      "smth:0.6096: 100%|██████████| 938/938 [02:14<00:00,  6.98it/s]\n"
     ]
    },
    {
     "name": "stdout",
     "output_type": "stream",
     "text": [
      "Sun Sep 10 18:24:44 2023 Fold 1, Epoch 21, lr: 0.0001500, train loss: 0.46259, valid loss: 0.40192, metric: 0.401918.\n",
      "Sun Sep 10 18:24:45 2023 Epoch: 22\n"
     ]
    },
    {
     "name": "stderr",
     "output_type": "stream",
     "text": [
      "smth:0.5484: 100%|██████████| 1000/1000 [04:03<00:00,  4.10it/s]\n",
      "smth:0.5231: 100%|██████████| 938/938 [02:14<00:00,  6.99it/s]\n"
     ]
    },
    {
     "name": "stdout",
     "output_type": "stream",
     "text": [
      "Sun Sep 10 18:31:04 2023 Fold 1, Epoch 22, lr: 0.0001454, train loss: 0.48865, valid loss: 0.37301, metric: 0.373012.\n",
      "metric_best (0.390824 --> 0.373012). Saving model ...\n",
      "Sun Sep 10 18:31:08 2023 Epoch: 23\n"
     ]
    },
    {
     "name": "stderr",
     "output_type": "stream",
     "text": [
      "smth:0.6479: 100%|██████████| 1000/1000 [04:01<00:00,  4.14it/s]\n",
      "smth:0.6078: 100%|██████████| 938/938 [02:10<00:00,  7.21it/s]\n"
     ]
    },
    {
     "name": "stdout",
     "output_type": "stream",
     "text": [
      "Sun Sep 10 18:37:21 2023 Fold 1, Epoch 23, lr: 0.0001407, train loss: 0.46986, valid loss: 0.37188, metric: 0.371880.\n",
      "metric_best (0.373012 --> 0.371880). Saving model ...\n",
      "Sun Sep 10 18:37:21 2023 Epoch: 24\n"
     ]
    },
    {
     "name": "stderr",
     "output_type": "stream",
     "text": [
      "smth:0.6324: 100%|██████████| 1000/1000 [03:57<00:00,  4.22it/s]\n",
      "smth:0.5845: 100%|██████████| 938/938 [02:10<00:00,  7.20it/s]\n"
     ]
    },
    {
     "name": "stdout",
     "output_type": "stream",
     "text": [
      "Sun Sep 10 18:43:30 2023 Fold 1, Epoch 24, lr: 0.0001358, train loss: 0.44055, valid loss: 0.37013, metric: 0.370133.\n",
      "metric_best (0.371880 --> 0.370133). Saving model ...\n",
      "Sun Sep 10 18:43:30 2023 Epoch: 25\n"
     ]
    },
    {
     "name": "stderr",
     "output_type": "stream",
     "text": [
      "smth:0.4181: 100%|██████████| 1000/1000 [03:56<00:00,  4.23it/s]\n",
      "smth:0.6138: 100%|██████████| 938/938 [02:09<00:00,  7.22it/s]\n"
     ]
    },
    {
     "name": "stdout",
     "output_type": "stream",
     "text": [
      "Sun Sep 10 18:49:38 2023 Fold 1, Epoch 25, lr: 0.0001309, train loss: 0.46250, valid loss: 0.37805, metric: 0.378054.\n",
      "Sun Sep 10 18:49:38 2023 Epoch: 26\n"
     ]
    },
    {
     "name": "stderr",
     "output_type": "stream",
     "text": [
      "smth:0.4674: 100%|██████████| 1000/1000 [03:59<00:00,  4.17it/s]\n",
      "smth:0.5540: 100%|██████████| 938/938 [02:14<00:00,  6.95it/s]\n"
     ]
    },
    {
     "name": "stdout",
     "output_type": "stream",
     "text": [
      "Sun Sep 10 18:55:54 2023 Fold 1, Epoch 26, lr: 0.0001259, train loss: 0.46929, valid loss: 0.38221, metric: 0.382206.\n",
      "Sun Sep 10 18:55:54 2023 Epoch: 27\n"
     ]
    },
    {
     "name": "stderr",
     "output_type": "stream",
     "text": [
      "smth:0.3736: 100%|██████████| 1000/1000 [04:06<00:00,  4.05it/s]\n",
      "smth:0.5574: 100%|██████████| 938/938 [02:21<00:00,  6.65it/s]\n"
     ]
    },
    {
     "name": "stdout",
     "output_type": "stream",
     "text": [
      "Sun Sep 10 19:02:23 2023 Fold 1, Epoch 27, lr: 0.0001208, train loss: 0.45226, valid loss: 0.38623, metric: 0.386229.\n",
      "Sun Sep 10 19:02:24 2023 Epoch: 28\n"
     ]
    },
    {
     "name": "stderr",
     "output_type": "stream",
     "text": [
      "smth:0.4233: 100%|██████████| 1000/1000 [04:03<00:00,  4.10it/s]\n",
      "smth:0.6102: 100%|██████████| 938/938 [02:13<00:00,  7.03it/s]\n"
     ]
    },
    {
     "name": "stdout",
     "output_type": "stream",
     "text": [
      "Sun Sep 10 19:08:42 2023 Fold 1, Epoch 28, lr: 0.0001156, train loss: 0.45390, valid loss: 0.36961, metric: 0.369607.\n",
      "metric_best (0.370133 --> 0.369607). Saving model ...\n",
      "Sun Sep 10 19:08:42 2023 Epoch: 29\n"
     ]
    },
    {
     "name": "stderr",
     "output_type": "stream",
     "text": [
      "smth:0.3933: 100%|██████████| 1000/1000 [04:06<00:00,  4.06it/s]\n",
      "smth:0.6047: 100%|██████████| 938/938 [02:15<00:00,  6.92it/s]\n"
     ]
    },
    {
     "name": "stdout",
     "output_type": "stream",
     "text": [
      "Sun Sep 10 19:15:06 2023 Fold 1, Epoch 29, lr: 0.0001105, train loss: 0.44807, valid loss: 0.36631, metric: 0.366306.\n",
      "metric_best (0.369607 --> 0.366306). Saving model ...\n",
      "Sun Sep 10 19:15:06 2023 Epoch: 30\n"
     ]
    },
    {
     "name": "stderr",
     "output_type": "stream",
     "text": [
      "smth:0.3104: 100%|██████████| 1000/1000 [04:06<00:00,  4.06it/s]\n",
      "smth:0.5435: 100%|██████████| 938/938 [02:12<00:00,  7.08it/s]\n"
     ]
    },
    {
     "name": "stdout",
     "output_type": "stream",
     "text": [
      "Sun Sep 10 19:21:26 2023 Fold 1, Epoch 30, lr: 0.0001052, train loss: 0.45966, valid loss: 0.36060, metric: 0.360600.\n",
      "metric_best (0.366306 --> 0.360600). Saving model ...\n",
      "Sun Sep 10 19:21:26 2023 Epoch: 31\n"
     ]
    },
    {
     "name": "stderr",
     "output_type": "stream",
     "text": [
      "smth:0.3382: 100%|██████████| 1000/1000 [04:06<00:00,  4.06it/s]\n",
      "smth:0.6425: 100%|██████████| 938/938 [02:19<00:00,  6.71it/s]\n"
     ]
    },
    {
     "name": "stdout",
     "output_type": "stream",
     "text": [
      "Sun Sep 10 19:27:53 2023 Fold 1, Epoch 31, lr: 0.0001000, train loss: 0.42503, valid loss: 0.40135, metric: 0.401347.\n",
      "Sun Sep 10 19:27:54 2023 Epoch: 32\n"
     ]
    },
    {
     "name": "stderr",
     "output_type": "stream",
     "text": [
      "smth:0.4302: 100%|██████████| 1000/1000 [03:56<00:00,  4.22it/s]\n",
      "smth:0.5573: 100%|██████████| 938/938 [02:10<00:00,  7.20it/s]\n"
     ]
    },
    {
     "name": "stdout",
     "output_type": "stream",
     "text": [
      "Sun Sep 10 19:34:05 2023 Fold 1, Epoch 32, lr: 0.0000948, train loss: 0.45248, valid loss: 0.40309, metric: 0.403091.\n",
      "Sun Sep 10 19:34:06 2023 Epoch: 33\n"
     ]
    },
    {
     "name": "stderr",
     "output_type": "stream",
     "text": [
      "smth:0.5342: 100%|██████████| 1000/1000 [04:03<00:00,  4.11it/s]\n",
      "smth:0.5635: 100%|██████████| 938/938 [02:13<00:00,  7.00it/s]\n"
     ]
    },
    {
     "name": "stdout",
     "output_type": "stream",
     "text": [
      "Sun Sep 10 19:40:24 2023 Fold 1, Epoch 33, lr: 0.0000895, train loss: 0.44590, valid loss: 0.34362, metric: 0.343624.\n",
      "metric_best (0.360600 --> 0.343624). Saving model ...\n",
      "Sun Sep 10 19:40:28 2023 Epoch: 34\n"
     ]
    },
    {
     "name": "stderr",
     "output_type": "stream",
     "text": [
      "smth:0.4275: 100%|██████████| 1000/1000 [03:54<00:00,  4.27it/s]\n",
      "smth:0.6068: 100%|██████████| 938/938 [02:16<00:00,  6.89it/s]\n"
     ]
    },
    {
     "name": "stdout",
     "output_type": "stream",
     "text": [
      "Sun Sep 10 19:46:40 2023 Fold 1, Epoch 34, lr: 0.0000844, train loss: 0.43967, valid loss: 0.35514, metric: 0.355141.\n",
      "Sun Sep 10 19:46:40 2023 Epoch: 35\n"
     ]
    },
    {
     "name": "stderr",
     "output_type": "stream",
     "text": [
      "smth:0.3416: 100%|██████████| 1000/1000 [03:59<00:00,  4.18it/s]\n",
      "smth:0.5713: 100%|██████████| 938/938 [02:12<00:00,  7.10it/s]\n"
     ]
    },
    {
     "name": "stdout",
     "output_type": "stream",
     "text": [
      "Sun Sep 10 19:52:53 2023 Fold 1, Epoch 35, lr: 0.0000792, train loss: 0.40480, valid loss: 0.39010, metric: 0.390104.\n",
      "Sun Sep 10 19:52:53 2023 Epoch: 36\n"
     ]
    },
    {
     "name": "stderr",
     "output_type": "stream",
     "text": [
      "smth:0.2388: 100%|██████████| 1000/1000 [04:01<00:00,  4.15it/s]\n",
      "smth:0.5902: 100%|██████████| 938/938 [02:09<00:00,  7.23it/s]\n"
     ]
    },
    {
     "name": "stdout",
     "output_type": "stream",
     "text": [
      "Sun Sep 10 19:59:05 2023 Fold 1, Epoch 36, lr: 0.0000741, train loss: 0.40430, valid loss: 0.39986, metric: 0.399862.\n",
      "Sun Sep 10 19:59:05 2023 Epoch: 37\n"
     ]
    },
    {
     "name": "stderr",
     "output_type": "stream",
     "text": [
      "smth:0.4597: 100%|██████████| 1000/1000 [03:58<00:00,  4.19it/s]\n",
      "smth:0.5461: 100%|██████████| 938/938 [02:15<00:00,  6.90it/s]\n"
     ]
    },
    {
     "name": "stdout",
     "output_type": "stream",
     "text": [
      "Sun Sep 10 20:05:21 2023 Fold 1, Epoch 37, lr: 0.0000691, train loss: 0.42000, valid loss: 0.37173, metric: 0.371727.\n",
      "Sun Sep 10 20:05:21 2023 Epoch: 38\n"
     ]
    },
    {
     "name": "stderr",
     "output_type": "stream",
     "text": [
      "smth:0.3673: 100%|██████████| 1000/1000 [04:08<00:00,  4.02it/s]\n",
      "smth:0.5614: 100%|██████████| 938/938 [02:16<00:00,  6.87it/s]\n"
     ]
    },
    {
     "name": "stdout",
     "output_type": "stream",
     "text": [
      "Sun Sep 10 20:11:48 2023 Fold 1, Epoch 38, lr: 0.0000642, train loss: 0.41090, valid loss: 0.39198, metric: 0.391984.\n",
      "Sun Sep 10 20:11:48 2023 Epoch: 39\n"
     ]
    },
    {
     "name": "stderr",
     "output_type": "stream",
     "text": [
      "smth:0.3145: 100%|██████████| 1000/1000 [03:54<00:00,  4.27it/s]\n",
      "smth:0.5443: 100%|██████████| 938/938 [02:09<00:00,  7.27it/s]\n"
     ]
    },
    {
     "name": "stdout",
     "output_type": "stream",
     "text": [
      "Sun Sep 10 20:17:52 2023 Fold 1, Epoch 39, lr: 0.0000593, train loss: 0.39459, valid loss: 0.37951, metric: 0.379508.\n",
      "Sun Sep 10 20:17:53 2023 Epoch: 40\n"
     ]
    },
    {
     "name": "stderr",
     "output_type": "stream",
     "text": [
      "smth:0.3834: 100%|██████████| 1000/1000 [04:07<00:00,  4.05it/s]\n",
      "smth:0.5471: 100%|██████████| 938/938 [02:09<00:00,  7.23it/s]\n"
     ]
    },
    {
     "name": "stdout",
     "output_type": "stream",
     "text": [
      "Sun Sep 10 20:24:11 2023 Fold 1, Epoch 40, lr: 0.0000546, train loss: 0.40673, valid loss: 0.38135, metric: 0.381348.\n",
      "Sun Sep 10 20:24:11 2023 Epoch: 41\n"
     ]
    },
    {
     "name": "stderr",
     "output_type": "stream",
     "text": [
      "smth:0.3648: 100%|██████████| 1000/1000 [03:54<00:00,  4.27it/s]\n",
      "smth:0.5180: 100%|██████████| 938/938 [02:08<00:00,  7.29it/s]\n"
     ]
    },
    {
     "name": "stdout",
     "output_type": "stream",
     "text": [
      "Sun Sep 10 20:30:15 2023 Fold 1, Epoch 41, lr: 0.0000500, train loss: 0.38473, valid loss: 0.37012, metric: 0.370120.\n",
      "Sun Sep 10 20:30:15 2023 Epoch: 42\n"
     ]
    },
    {
     "name": "stderr",
     "output_type": "stream",
     "text": [
      "smth:0.4543: 100%|██████████| 1000/1000 [03:54<00:00,  4.27it/s]\n",
      "smth:0.5170: 100%|██████████| 938/938 [02:07<00:00,  7.38it/s]\n"
     ]
    },
    {
     "name": "stdout",
     "output_type": "stream",
     "text": [
      "Sun Sep 10 20:36:18 2023 Fold 1, Epoch 42, lr: 0.0000455, train loss: 0.37649, valid loss: 0.32909, metric: 0.329089.\n",
      "metric_best (0.343624 --> 0.329089). Saving model ...\n",
      "Sun Sep 10 20:36:18 2023 Epoch: 43\n"
     ]
    },
    {
     "name": "stderr",
     "output_type": "stream",
     "text": [
      "smth:0.2964: 100%|██████████| 1000/1000 [04:00<00:00,  4.17it/s]\n",
      "smth:0.5205: 100%|██████████| 938/938 [02:10<00:00,  7.18it/s]\n"
     ]
    },
    {
     "name": "stdout",
     "output_type": "stream",
     "text": [
      "Sun Sep 10 20:42:30 2023 Fold 1, Epoch 43, lr: 0.0000412, train loss: 0.41101, valid loss: 0.36537, metric: 0.365374.\n",
      "Sun Sep 10 20:42:30 2023 Epoch: 44\n"
     ]
    },
    {
     "name": "stderr",
     "output_type": "stream",
     "text": [
      "smth:0.3523: 100%|██████████| 1000/1000 [03:54<00:00,  4.26it/s]\n",
      "smth:0.4973: 100%|██████████| 938/938 [02:13<00:00,  7.03it/s]\n"
     ]
    },
    {
     "name": "stdout",
     "output_type": "stream",
     "text": [
      "Sun Sep 10 20:48:40 2023 Fold 1, Epoch 44, lr: 0.0000371, train loss: 0.38658, valid loss: 0.34707, metric: 0.347067.\n",
      "Sun Sep 10 20:48:40 2023 Epoch: 45\n"
     ]
    },
    {
     "name": "stderr",
     "output_type": "stream",
     "text": [
      "smth:0.5488: 100%|██████████| 1000/1000 [03:55<00:00,  4.25it/s]\n",
      "smth:0.4917: 100%|██████████| 938/938 [02:07<00:00,  7.35it/s]\n"
     ]
    },
    {
     "name": "stdout",
     "output_type": "stream",
     "text": [
      "Sun Sep 10 20:54:45 2023 Fold 1, Epoch 45, lr: 0.0000331, train loss: 0.39947, valid loss: 0.34206, metric: 0.342055.\n",
      "Sun Sep 10 20:54:45 2023 Epoch: 46\n"
     ]
    },
    {
     "name": "stderr",
     "output_type": "stream",
     "text": [
      "smth:0.3627: 100%|██████████| 1000/1000 [04:00<00:00,  4.16it/s]\n",
      "smth:0.5208: 100%|██████████| 938/938 [02:13<00:00,  7.05it/s]\n"
     ]
    },
    {
     "name": "stdout",
     "output_type": "stream",
     "text": [
      "Sun Sep 10 21:00:59 2023 Fold 1, Epoch 46, lr: 0.0000293, train loss: 0.38360, valid loss: 0.39274, metric: 0.392745.\n",
      "Sun Sep 10 21:01:00 2023 Epoch: 47\n"
     ]
    },
    {
     "name": "stderr",
     "output_type": "stream",
     "text": [
      "smth:0.3574: 100%|██████████| 1000/1000 [04:03<00:00,  4.10it/s]\n",
      "smth:0.4934: 100%|██████████| 938/938 [02:13<00:00,  7.04it/s]\n"
     ]
    },
    {
     "name": "stdout",
     "output_type": "stream",
     "text": [
      "Sun Sep 10 21:07:18 2023 Fold 1, Epoch 47, lr: 0.0000257, train loss: 0.39357, valid loss: 0.36491, metric: 0.364914.\n",
      "Sun Sep 10 21:07:18 2023 Epoch: 48\n"
     ]
    },
    {
     "name": "stderr",
     "output_type": "stream",
     "text": [
      "smth:0.5102: 100%|██████████| 1000/1000 [04:04<00:00,  4.10it/s]\n",
      "smth:0.5063: 100%|██████████| 938/938 [02:10<00:00,  7.17it/s]\n"
     ]
    },
    {
     "name": "stdout",
     "output_type": "stream",
     "text": [
      "Sun Sep 10 21:13:34 2023 Fold 1, Epoch 48, lr: 0.0000223, train loss: 0.39944, valid loss: 0.36410, metric: 0.364097.\n",
      "Sun Sep 10 21:13:34 2023 Epoch: 49\n"
     ]
    },
    {
     "name": "stderr",
     "output_type": "stream",
     "text": [
      "smth:0.4163: 100%|██████████| 1000/1000 [03:53<00:00,  4.29it/s]\n",
      "smth:0.5255: 100%|██████████| 938/938 [02:12<00:00,  7.07it/s]\n"
     ]
    },
    {
     "name": "stdout",
     "output_type": "stream",
     "text": [
      "Sun Sep 10 21:19:41 2023 Fold 1, Epoch 49, lr: 0.0000191, train loss: 0.35913, valid loss: 0.35451, metric: 0.354511.\n",
      "Sun Sep 10 21:19:42 2023 Epoch: 50\n"
     ]
    },
    {
     "name": "stderr",
     "output_type": "stream",
     "text": [
      "smth:0.3460: 100%|██████████| 1000/1000 [03:53<00:00,  4.28it/s]\n",
      "smth:0.5217: 100%|██████████| 938/938 [02:09<00:00,  7.23it/s]\n"
     ]
    },
    {
     "name": "stdout",
     "output_type": "stream",
     "text": [
      "Sun Sep 10 21:25:46 2023 Fold 1, Epoch 50, lr: 0.0000161, train loss: 0.35788, valid loss: 0.34379, metric: 0.343790.\n",
      "Sun Sep 10 21:25:46 2023 Epoch: 51\n"
     ]
    },
    {
     "name": "stderr",
     "output_type": "stream",
     "text": [
      "smth:0.4011: 100%|██████████| 1000/1000 [03:56<00:00,  4.23it/s]\n",
      "smth:0.5441: 100%|██████████| 938/938 [02:09<00:00,  7.22it/s]\n"
     ]
    },
    {
     "name": "stdout",
     "output_type": "stream",
     "text": [
      "Sun Sep 10 21:31:54 2023 Fold 1, Epoch 51, lr: 0.0000134, train loss: 0.41559, valid loss: 0.35893, metric: 0.358933.\n",
      "Sun Sep 10 21:31:54 2023 Epoch: 52\n"
     ]
    },
    {
     "name": "stderr",
     "output_type": "stream",
     "text": [
      "smth:0.3476: 100%|██████████| 1000/1000 [03:55<00:00,  4.25it/s]\n",
      "smth:0.5372: 100%|██████████| 938/938 [02:11<00:00,  7.12it/s]\n"
     ]
    },
    {
     "name": "stdout",
     "output_type": "stream",
     "text": [
      "Sun Sep 10 21:38:02 2023 Fold 1, Epoch 52, lr: 0.0000109, train loss: 0.37604, valid loss: 0.35579, metric: 0.355786.\n",
      "Sun Sep 10 21:38:03 2023 Epoch: 53\n"
     ]
    },
    {
     "name": "stderr",
     "output_type": "stream",
     "text": [
      "smth:0.2574: 100%|██████████| 1000/1000 [04:04<00:00,  4.08it/s]\n",
      "smth:0.5144: 100%|██████████| 938/938 [02:13<00:00,  7.04it/s]\n"
     ]
    },
    {
     "name": "stdout",
     "output_type": "stream",
     "text": [
      "Sun Sep 10 21:44:22 2023 Fold 1, Epoch 53, lr: 0.0000086, train loss: 0.37329, valid loss: 0.35701, metric: 0.357014.\n",
      "Sun Sep 10 21:44:22 2023 Epoch: 54\n"
     ]
    },
    {
     "name": "stderr",
     "output_type": "stream",
     "text": [
      "smth:0.3039: 100%|██████████| 1000/1000 [04:00<00:00,  4.16it/s]\n",
      "smth:0.5089: 100%|██████████| 938/938 [02:15<00:00,  6.90it/s]\n"
     ]
    },
    {
     "name": "stdout",
     "output_type": "stream",
     "text": [
      "Sun Sep 10 21:50:40 2023 Fold 1, Epoch 54, lr: 0.0000066, train loss: 0.37787, valid loss: 0.34953, metric: 0.349534.\n",
      "Sun Sep 10 21:50:40 2023 Epoch: 55\n"
     ]
    },
    {
     "name": "stderr",
     "output_type": "stream",
     "text": [
      "smth:0.3537: 100%|██████████| 1000/1000 [03:58<00:00,  4.20it/s]\n",
      "smth:0.5171: 100%|██████████| 938/938 [02:09<00:00,  7.26it/s]\n"
     ]
    },
    {
     "name": "stdout",
     "output_type": "stream",
     "text": [
      "Sun Sep 10 21:56:49 2023 Fold 1, Epoch 55, lr: 0.0000049, train loss: 0.36794, valid loss: 0.34803, metric: 0.348031.\n",
      "Sun Sep 10 21:56:49 2023 Epoch: 56\n"
     ]
    },
    {
     "name": "stderr",
     "output_type": "stream",
     "text": [
      "smth:0.4349: 100%|██████████| 1000/1000 [03:55<00:00,  4.24it/s]\n",
      "smth:0.5257: 100%|██████████| 938/938 [02:09<00:00,  7.26it/s]\n"
     ]
    },
    {
     "name": "stdout",
     "output_type": "stream",
     "text": [
      "Sun Sep 10 22:02:55 2023 Fold 1, Epoch 56, lr: 0.0000034, train loss: 0.37650, valid loss: 0.36143, metric: 0.361425.\n",
      "Sun Sep 10 22:02:56 2023 Epoch: 57\n"
     ]
    },
    {
     "name": "stderr",
     "output_type": "stream",
     "text": [
      "smth:0.4459: 100%|██████████| 1000/1000 [03:56<00:00,  4.23it/s]\n",
      "smth:0.5209: 100%|██████████| 938/938 [02:09<00:00,  7.24it/s]\n"
     ]
    },
    {
     "name": "stdout",
     "output_type": "stream",
     "text": [
      "Sun Sep 10 22:09:03 2023 Fold 1, Epoch 57, lr: 0.0000022, train loss: 0.36788, valid loss: 0.36512, metric: 0.365119.\n",
      "Sun Sep 10 22:09:03 2023 Epoch: 58\n"
     ]
    },
    {
     "name": "stderr",
     "output_type": "stream",
     "text": [
      "smth:0.3188: 100%|██████████| 1000/1000 [03:56<00:00,  4.24it/s]\n",
      "smth:0.5232: 100%|██████████| 938/938 [02:13<00:00,  7.02it/s]\n"
     ]
    },
    {
     "name": "stdout",
     "output_type": "stream",
     "text": [
      "Sun Sep 10 22:15:14 2023 Fold 1, Epoch 58, lr: 0.0000012, train loss: 0.39902, valid loss: 0.36512, metric: 0.365123.\n",
      "Sun Sep 10 22:15:14 2023 Epoch: 59\n"
     ]
    },
    {
     "name": "stderr",
     "output_type": "stream",
     "text": [
      "smth:0.3656: 100%|██████████| 1000/1000 [04:03<00:00,  4.10it/s]\n",
      "smth:0.4844: 100%|██████████| 938/938 [02:12<00:00,  7.06it/s]\n"
     ]
    },
    {
     "name": "stdout",
     "output_type": "stream",
     "text": [
      "Sun Sep 10 22:21:32 2023 Fold 1, Epoch 59, lr: 0.0000005, train loss: 0.34777, valid loss: 0.33757, metric: 0.337573.\n",
      "Sun Sep 10 22:21:32 2023 Epoch: 60\n"
     ]
    },
    {
     "name": "stderr",
     "output_type": "stream",
     "text": [
      "smth:0.3600: 100%|██████████| 1000/1000 [04:00<00:00,  4.15it/s]\n",
      "smth:0.5223: 100%|██████████| 938/938 [02:17<00:00,  6.82it/s]\n"
     ]
    },
    {
     "name": "stdout",
     "output_type": "stream",
     "text": [
      "Sun Sep 10 22:27:52 2023 Fold 1, Epoch 60, lr: 0.0000001, train loss: 0.38587, valid loss: 0.36044, metric: 0.360442.\n",
      "class_counts label1\n",
      "0    10353\n",
      "1      684\n",
      "2      321\n",
      "Name: count, dtype: int64\n",
      "11358 2775\n",
      "Sun Sep 10 22:27:53 2023 Epoch: 1\n"
     ]
    },
    {
     "name": "stderr",
     "output_type": "stream",
     "text": [
      "smth:0.7590: 100%|██████████| 1000/1000 [04:01<00:00,  4.14it/s]\n",
      "smth:0.6835: 100%|██████████| 925/925 [02:13<00:00,  6.92it/s]\n"
     ]
    },
    {
     "name": "stdout",
     "output_type": "stream",
     "text": [
      "Sun Sep 10 22:34:10 2023 Fold 2, Epoch 1, lr: 0.0002000, train loss: 0.75510, valid loss: 0.63192, metric: 0.631921.\n",
      "metric_best (inf --> 0.631921). Saving model ...\n",
      "Sun Sep 10 22:34:10 2023 Epoch: 2\n"
     ]
    },
    {
     "name": "stderr",
     "output_type": "stream",
     "text": [
      "smth:0.6612: 100%|██████████| 1000/1000 [04:04<00:00,  4.09it/s]\n",
      "smth:0.6367: 100%|██████████| 925/925 [02:13<00:00,  6.94it/s]\n"
     ]
    },
    {
     "name": "stdout",
     "output_type": "stream",
     "text": [
      "Sun Sep 10 22:40:29 2023 Fold 2, Epoch 2, lr: 0.0001999, train loss: 0.63506, valid loss: 0.63533, metric: 0.635327.\n",
      "Sun Sep 10 22:40:30 2023 Epoch: 3\n"
     ]
    },
    {
     "name": "stderr",
     "output_type": "stream",
     "text": [
      "smth:0.6304: 100%|██████████| 1000/1000 [04:07<00:00,  4.03it/s]\n",
      "smth:0.6441: 100%|██████████| 925/925 [02:14<00:00,  6.87it/s]\n"
     ]
    },
    {
     "name": "stdout",
     "output_type": "stream",
     "text": [
      "Sun Sep 10 22:46:54 2023 Fold 2, Epoch 3, lr: 0.0001995, train loss: 0.61914, valid loss: 0.62228, metric: 0.622277.\n",
      "metric_best (0.631921 --> 0.622277). Saving model ...\n",
      "Sun Sep 10 22:46:55 2023 Epoch: 4\n"
     ]
    },
    {
     "name": "stderr",
     "output_type": "stream",
     "text": [
      "smth:0.6487: 100%|██████████| 1000/1000 [04:05<00:00,  4.08it/s]\n",
      "smth:0.5940: 100%|██████████| 925/925 [02:13<00:00,  6.95it/s]\n"
     ]
    },
    {
     "name": "stdout",
     "output_type": "stream",
     "text": [
      "Sun Sep 10 22:53:14 2023 Fold 2, Epoch 4, lr: 0.0001988, train loss: 0.61279, valid loss: 0.56111, metric: 0.561106.\n",
      "metric_best (0.622277 --> 0.561106). Saving model ...\n",
      "Sun Sep 10 22:53:15 2023 Epoch: 5\n"
     ]
    },
    {
     "name": "stderr",
     "output_type": "stream",
     "text": [
      "smth:0.6208: 100%|██████████| 1000/1000 [04:07<00:00,  4.04it/s]\n",
      "smth:0.6321: 100%|██████████| 925/925 [02:13<00:00,  6.95it/s]\n"
     ]
    },
    {
     "name": "stdout",
     "output_type": "stream",
     "text": [
      "Sun Sep 10 22:59:36 2023 Fold 2, Epoch 5, lr: 0.0001978, train loss: 0.64168, valid loss: 0.58894, metric: 0.588944.\n",
      "Sun Sep 10 22:59:36 2023 Epoch: 6\n"
     ]
    },
    {
     "name": "stderr",
     "output_type": "stream",
     "text": [
      "smth:0.5652: 100%|██████████| 1000/1000 [04:04<00:00,  4.10it/s]\n",
      "smth:0.5897: 100%|██████████| 925/925 [02:15<00:00,  6.83it/s]\n"
     ]
    },
    {
     "name": "stdout",
     "output_type": "stream",
     "text": [
      "Sun Sep 10 23:05:57 2023 Fold 2, Epoch 6, lr: 0.0001966, train loss: 0.59252, valid loss: 0.57828, metric: 0.578282.\n",
      "Sun Sep 10 23:05:57 2023 Epoch: 7\n"
     ]
    },
    {
     "name": "stderr",
     "output_type": "stream",
     "text": [
      "smth:0.6768: 100%|██████████| 1000/1000 [03:55<00:00,  4.25it/s]\n",
      "smth:0.5892: 100%|██████████| 925/925 [02:09<00:00,  7.12it/s]\n"
     ]
    },
    {
     "name": "stdout",
     "output_type": "stream",
     "text": [
      "Sun Sep 10 23:12:04 2023 Fold 2, Epoch 7, lr: 0.0001951, train loss: 0.60369, valid loss: 0.56562, metric: 0.565620.\n",
      "Sun Sep 10 23:12:04 2023 Epoch: 8\n"
     ]
    },
    {
     "name": "stderr",
     "output_type": "stream",
     "text": [
      "smth:0.5171: 100%|██████████| 1000/1000 [03:56<00:00,  4.23it/s]\n",
      "smth:0.5951: 100%|██████████| 925/925 [02:10<00:00,  7.11it/s]\n"
     ]
    },
    {
     "name": "stdout",
     "output_type": "stream",
     "text": [
      "Sun Sep 10 23:18:11 2023 Fold 2, Epoch 8, lr: 0.0001934, train loss: 0.57887, valid loss: 0.54521, metric: 0.545206.\n",
      "metric_best (0.561106 --> 0.545206). Saving model ...\n",
      "Sun Sep 10 23:18:12 2023 Epoch: 9\n"
     ]
    },
    {
     "name": "stderr",
     "output_type": "stream",
     "text": [
      "smth:0.5612: 100%|██████████| 1000/1000 [03:55<00:00,  4.24it/s]\n",
      "smth:0.5168: 100%|██████████| 925/925 [02:09<00:00,  7.15it/s]\n"
     ]
    },
    {
     "name": "stdout",
     "output_type": "stream",
     "text": [
      "Sun Sep 10 23:24:18 2023 Fold 2, Epoch 9, lr: 0.0001914, train loss: 0.58114, valid loss: 0.50962, metric: 0.509617.\n",
      "metric_best (0.545206 --> 0.509617). Saving model ...\n",
      "Sun Sep 10 23:24:18 2023 Epoch: 10\n"
     ]
    },
    {
     "name": "stderr",
     "output_type": "stream",
     "text": [
      "smth:0.5903: 100%|██████████| 1000/1000 [03:56<00:00,  4.24it/s]\n",
      "smth:0.5170: 100%|██████████| 925/925 [02:09<00:00,  7.17it/s]\n"
     ]
    },
    {
     "name": "stdout",
     "output_type": "stream",
     "text": [
      "Sun Sep 10 23:30:24 2023 Fold 2, Epoch 10, lr: 0.0001891, train loss: 0.57734, valid loss: 0.56253, metric: 0.562527.\n",
      "Sun Sep 10 23:30:25 2023 Epoch: 11\n"
     ]
    },
    {
     "name": "stderr",
     "output_type": "stream",
     "text": [
      "smth:0.6788: 100%|██████████| 1000/1000 [03:55<00:00,  4.24it/s]\n",
      "smth:0.5891: 100%|██████████| 925/925 [02:09<00:00,  7.15it/s]\n"
     ]
    },
    {
     "name": "stdout",
     "output_type": "stream",
     "text": [
      "Sun Sep 10 23:36:31 2023 Fold 2, Epoch 11, lr: 0.0001866, train loss: 0.57775, valid loss: 0.53137, metric: 0.531372.\n",
      "Sun Sep 10 23:36:32 2023 Epoch: 12\n"
     ]
    },
    {
     "name": "stderr",
     "output_type": "stream",
     "text": [
      "smth:0.6050: 100%|██████████| 1000/1000 [03:55<00:00,  4.25it/s]\n",
      "smth:0.5143: 100%|██████████| 925/925 [02:08<00:00,  7.19it/s]\n"
     ]
    },
    {
     "name": "stdout",
     "output_type": "stream",
     "text": [
      "Sun Sep 10 23:42:36 2023 Fold 2, Epoch 12, lr: 0.0001839, train loss: 0.54640, valid loss: 0.51180, metric: 0.511798.\n",
      "Sun Sep 10 23:42:37 2023 Epoch: 13\n"
     ]
    },
    {
     "name": "stderr",
     "output_type": "stream",
     "text": [
      "smth:0.5086: 100%|██████████| 1000/1000 [03:56<00:00,  4.23it/s]\n",
      "smth:0.5273: 100%|██████████| 925/925 [02:09<00:00,  7.17it/s]\n"
     ]
    },
    {
     "name": "stdout",
     "output_type": "stream",
     "text": [
      "Sun Sep 10 23:48:43 2023 Fold 2, Epoch 13, lr: 0.0001809, train loss: 0.52829, valid loss: 0.50536, metric: 0.505364.\n",
      "metric_best (0.509617 --> 0.505364). Saving model ...\n",
      "Sun Sep 10 23:48:44 2023 Epoch: 14\n"
     ]
    },
    {
     "name": "stderr",
     "output_type": "stream",
     "text": [
      "smth:0.4548: 100%|██████████| 1000/1000 [03:56<00:00,  4.23it/s]\n",
      "smth:0.5523: 100%|██████████| 925/925 [02:09<00:00,  7.16it/s]\n"
     ]
    },
    {
     "name": "stdout",
     "output_type": "stream",
     "text": [
      "Sun Sep 10 23:54:51 2023 Fold 2, Epoch 14, lr: 0.0001777, train loss: 0.52752, valid loss: 0.55318, metric: 0.553183.\n",
      "Sun Sep 10 23:54:51 2023 Epoch: 15\n"
     ]
    },
    {
     "name": "stderr",
     "output_type": "stream",
     "text": [
      "smth:0.6151: 100%|██████████| 1000/1000 [03:56<00:00,  4.23it/s]\n",
      "smth:0.5100: 100%|██████████| 925/925 [02:09<00:00,  7.16it/s]\n"
     ]
    },
    {
     "name": "stdout",
     "output_type": "stream",
     "text": [
      "Mon Sep 11 00:00:57 2023 Fold 2, Epoch 15, lr: 0.0001743, train loss: 0.52102, valid loss: 0.50700, metric: 0.507000.\n",
      "Mon Sep 11 00:00:58 2023 Epoch: 16\n"
     ]
    },
    {
     "name": "stderr",
     "output_type": "stream",
     "text": [
      "smth:0.4807: 100%|██████████| 1000/1000 [03:57<00:00,  4.21it/s]\n",
      "smth:0.4624: 100%|██████████| 925/925 [02:08<00:00,  7.19it/s]\n"
     ]
    },
    {
     "name": "stdout",
     "output_type": "stream",
     "text": [
      "Mon Sep 11 00:07:05 2023 Fold 2, Epoch 16, lr: 0.0001707, train loss: 0.53883, valid loss: 0.48556, metric: 0.485565.\n",
      "metric_best (0.505364 --> 0.485565). Saving model ...\n",
      "Mon Sep 11 00:07:05 2023 Epoch: 17\n"
     ]
    },
    {
     "name": "stderr",
     "output_type": "stream",
     "text": [
      "smth:0.4603: 100%|██████████| 1000/1000 [03:56<00:00,  4.23it/s]\n",
      "smth:0.5218: 100%|██████████| 925/925 [02:16<00:00,  6.78it/s]\n"
     ]
    },
    {
     "name": "stdout",
     "output_type": "stream",
     "text": [
      "Mon Sep 11 00:13:19 2023 Fold 2, Epoch 17, lr: 0.0001669, train loss: 0.49502, valid loss: 0.45669, metric: 0.456694.\n",
      "metric_best (0.485565 --> 0.456694). Saving model ...\n",
      "Mon Sep 11 00:13:30 2023 Epoch: 18\n"
     ]
    },
    {
     "name": "stderr",
     "output_type": "stream",
     "text": [
      "smth:0.5313: 100%|██████████| 1000/1000 [03:55<00:00,  4.25it/s]\n",
      "smth:0.5601: 100%|██████████| 925/925 [02:09<00:00,  7.15it/s]\n"
     ]
    },
    {
     "name": "stdout",
     "output_type": "stream",
     "text": [
      "Mon Sep 11 00:19:36 2023 Fold 2, Epoch 18, lr: 0.0001629, train loss: 0.54274, valid loss: 0.52551, metric: 0.525509.\n",
      "Mon Sep 11 00:19:36 2023 Epoch: 19\n"
     ]
    },
    {
     "name": "stderr",
     "output_type": "stream",
     "text": [
      "smth:0.4618: 100%|██████████| 1000/1000 [03:57<00:00,  4.21it/s]\n",
      "smth:0.4680: 100%|██████████| 925/925 [02:08<00:00,  7.17it/s]\n"
     ]
    },
    {
     "name": "stdout",
     "output_type": "stream",
     "text": [
      "Mon Sep 11 00:25:44 2023 Fold 2, Epoch 19, lr: 0.0001588, train loss: 0.47568, valid loss: 0.46992, metric: 0.469919.\n",
      "Mon Sep 11 00:25:45 2023 Epoch: 20\n"
     ]
    },
    {
     "name": "stderr",
     "output_type": "stream",
     "text": [
      "smth:0.5688: 100%|██████████| 1000/1000 [03:57<00:00,  4.21it/s]\n",
      "smth:0.4308: 100%|██████████| 925/925 [02:09<00:00,  7.15it/s]\n"
     ]
    },
    {
     "name": "stdout",
     "output_type": "stream",
     "text": [
      "Mon Sep 11 00:31:52 2023 Fold 2, Epoch 20, lr: 0.0001545, train loss: 0.47751, valid loss: 0.45177, metric: 0.451768.\n",
      "metric_best (0.456694 --> 0.451768). Saving model ...\n",
      "Mon Sep 11 00:31:53 2023 Epoch: 21\n"
     ]
    },
    {
     "name": "stderr",
     "output_type": "stream",
     "text": [
      "smth:0.5136: 100%|██████████| 1000/1000 [03:56<00:00,  4.23it/s]\n",
      "smth:0.5522: 100%|██████████| 925/925 [02:08<00:00,  7.18it/s]\n"
     ]
    },
    {
     "name": "stdout",
     "output_type": "stream",
     "text": [
      "Mon Sep 11 00:37:59 2023 Fold 2, Epoch 21, lr: 0.0001500, train loss: 0.48698, valid loss: 0.47685, metric: 0.476853.\n",
      "Mon Sep 11 00:38:00 2023 Epoch: 22\n"
     ]
    },
    {
     "name": "stderr",
     "output_type": "stream",
     "text": [
      "smth:0.4490: 100%|██████████| 1000/1000 [03:57<00:00,  4.21it/s]\n",
      "smth:0.4214: 100%|██████████| 925/925 [02:09<00:00,  7.14it/s]\n"
     ]
    },
    {
     "name": "stdout",
     "output_type": "stream",
     "text": [
      "Mon Sep 11 00:44:08 2023 Fold 2, Epoch 22, lr: 0.0001454, train loss: 0.46399, valid loss: 0.44346, metric: 0.443457.\n",
      "metric_best (0.451768 --> 0.443457). Saving model ...\n",
      "Mon Sep 11 00:44:08 2023 Epoch: 23\n"
     ]
    },
    {
     "name": "stderr",
     "output_type": "stream",
     "text": [
      "smth:0.6084: 100%|██████████| 1000/1000 [03:54<00:00,  4.26it/s]\n",
      "smth:0.4542: 100%|██████████| 925/925 [02:09<00:00,  7.16it/s]\n"
     ]
    },
    {
     "name": "stdout",
     "output_type": "stream",
     "text": [
      "Mon Sep 11 00:50:13 2023 Fold 2, Epoch 23, lr: 0.0001407, train loss: 0.47201, valid loss: 0.46376, metric: 0.463757.\n",
      "Mon Sep 11 00:50:15 2023 Epoch: 24\n"
     ]
    },
    {
     "name": "stderr",
     "output_type": "stream",
     "text": [
      "smth:0.6531: 100%|██████████| 1000/1000 [03:54<00:00,  4.26it/s]\n",
      "smth:0.4599: 100%|██████████| 925/925 [02:08<00:00,  7.18it/s]\n"
     ]
    },
    {
     "name": "stdout",
     "output_type": "stream",
     "text": [
      "Mon Sep 11 00:56:19 2023 Fold 2, Epoch 24, lr: 0.0001358, train loss: 0.50443, valid loss: 0.47433, metric: 0.474330.\n",
      "Mon Sep 11 00:56:20 2023 Epoch: 25\n"
     ]
    },
    {
     "name": "stderr",
     "output_type": "stream",
     "text": [
      "smth:0.3801: 100%|██████████| 1000/1000 [03:56<00:00,  4.23it/s]\n",
      "smth:0.5549: 100%|██████████| 925/925 [02:08<00:00,  7.17it/s]\n"
     ]
    },
    {
     "name": "stdout",
     "output_type": "stream",
     "text": [
      "Mon Sep 11 01:02:26 2023 Fold 2, Epoch 25, lr: 0.0001309, train loss: 0.45457, valid loss: 0.51170, metric: 0.511701.\n",
      "Mon Sep 11 01:02:26 2023 Epoch: 26\n"
     ]
    },
    {
     "name": "stderr",
     "output_type": "stream",
     "text": [
      "smth:0.4615: 100%|██████████| 1000/1000 [03:57<00:00,  4.22it/s]\n",
      "smth:0.5405: 100%|██████████| 925/925 [02:09<00:00,  7.16it/s]\n"
     ]
    },
    {
     "name": "stdout",
     "output_type": "stream",
     "text": [
      "Mon Sep 11 01:08:34 2023 Fold 2, Epoch 26, lr: 0.0001259, train loss: 0.46201, valid loss: 0.44829, metric: 0.448288.\n",
      "Mon Sep 11 01:08:34 2023 Epoch: 27\n"
     ]
    },
    {
     "name": "stderr",
     "output_type": "stream",
     "text": [
      "smth:0.3483: 100%|██████████| 1000/1000 [03:57<00:00,  4.22it/s]\n",
      "smth:0.4879: 100%|██████████| 925/925 [02:08<00:00,  7.19it/s]\n"
     ]
    },
    {
     "name": "stdout",
     "output_type": "stream",
     "text": [
      "Mon Sep 11 01:14:41 2023 Fold 2, Epoch 27, lr: 0.0001208, train loss: 0.48311, valid loss: 0.43637, metric: 0.436366.\n",
      "metric_best (0.443457 --> 0.436366). Saving model ...\n",
      "Mon Sep 11 01:14:41 2023 Epoch: 28\n"
     ]
    },
    {
     "name": "stderr",
     "output_type": "stream",
     "text": [
      "smth:0.3146: 100%|██████████| 1000/1000 [03:55<00:00,  4.25it/s]\n",
      "smth:0.4939: 100%|██████████| 925/925 [02:09<00:00,  7.12it/s]\n"
     ]
    },
    {
     "name": "stdout",
     "output_type": "stream",
     "text": [
      "Mon Sep 11 01:20:48 2023 Fold 2, Epoch 28, lr: 0.0001156, train loss: 0.44609, valid loss: 0.44540, metric: 0.445401.\n",
      "Mon Sep 11 01:20:48 2023 Epoch: 29\n"
     ]
    },
    {
     "name": "stderr",
     "output_type": "stream",
     "text": [
      "smth:0.3974: 100%|██████████| 1000/1000 [03:55<00:00,  4.25it/s]\n",
      "smth:0.5006: 100%|██████████| 925/925 [02:08<00:00,  7.18it/s]\n"
     ]
    },
    {
     "name": "stdout",
     "output_type": "stream",
     "text": [
      "Mon Sep 11 01:26:53 2023 Fold 2, Epoch 29, lr: 0.0001105, train loss: 0.44914, valid loss: 0.45731, metric: 0.457312.\n",
      "Mon Sep 11 01:26:54 2023 Epoch: 30\n"
     ]
    },
    {
     "name": "stderr",
     "output_type": "stream",
     "text": [
      "smth:0.6246: 100%|██████████| 1000/1000 [03:57<00:00,  4.21it/s]\n",
      "smth:0.4371: 100%|██████████| 925/925 [02:09<00:00,  7.17it/s]\n"
     ]
    },
    {
     "name": "stdout",
     "output_type": "stream",
     "text": [
      "Mon Sep 11 01:33:01 2023 Fold 2, Epoch 30, lr: 0.0001052, train loss: 0.47369, valid loss: 0.40721, metric: 0.407209.\n",
      "metric_best (0.436366 --> 0.407209). Saving model ...\n",
      "Mon Sep 11 01:33:02 2023 Epoch: 31\n"
     ]
    },
    {
     "name": "stderr",
     "output_type": "stream",
     "text": [
      "smth:0.3517: 100%|██████████| 1000/1000 [03:57<00:00,  4.21it/s]\n",
      "smth:0.3982: 100%|██████████| 925/925 [02:09<00:00,  7.16it/s]\n"
     ]
    },
    {
     "name": "stdout",
     "output_type": "stream",
     "text": [
      "Mon Sep 11 01:39:10 2023 Fold 2, Epoch 31, lr: 0.0001000, train loss: 0.44216, valid loss: 0.42892, metric: 0.428918.\n",
      "Mon Sep 11 01:39:10 2023 Epoch: 32\n"
     ]
    },
    {
     "name": "stderr",
     "output_type": "stream",
     "text": [
      "smth:0.2883: 100%|██████████| 1000/1000 [03:55<00:00,  4.24it/s]\n",
      "smth:0.4402: 100%|██████████| 925/925 [02:08<00:00,  7.18it/s]\n"
     ]
    },
    {
     "name": "stdout",
     "output_type": "stream",
     "text": [
      "Mon Sep 11 01:45:16 2023 Fold 2, Epoch 32, lr: 0.0000948, train loss: 0.43325, valid loss: 0.42969, metric: 0.429687.\n",
      "Mon Sep 11 01:45:16 2023 Epoch: 33\n"
     ]
    },
    {
     "name": "stderr",
     "output_type": "stream",
     "text": [
      "smth:0.3063: 100%|██████████| 1000/1000 [03:55<00:00,  4.25it/s]\n",
      "smth:0.4253: 100%|██████████| 925/925 [02:11<00:00,  7.06it/s]\n"
     ]
    },
    {
     "name": "stdout",
     "output_type": "stream",
     "text": [
      "Mon Sep 11 01:51:23 2023 Fold 2, Epoch 33, lr: 0.0000895, train loss: 0.46381, valid loss: 0.42585, metric: 0.425854.\n",
      "Mon Sep 11 01:51:24 2023 Epoch: 34\n"
     ]
    },
    {
     "name": "stderr",
     "output_type": "stream",
     "text": [
      "smth:0.3668: 100%|██████████| 1000/1000 [03:55<00:00,  4.25it/s]\n",
      "smth:0.4099: 100%|██████████| 925/925 [02:09<00:00,  7.16it/s]\n"
     ]
    },
    {
     "name": "stdout",
     "output_type": "stream",
     "text": [
      "Mon Sep 11 01:57:29 2023 Fold 2, Epoch 34, lr: 0.0000844, train loss: 0.41875, valid loss: 0.42550, metric: 0.425498.\n",
      "Mon Sep 11 01:57:29 2023 Epoch: 35\n"
     ]
    },
    {
     "name": "stderr",
     "output_type": "stream",
     "text": [
      "smth:0.3185: 100%|██████████| 1000/1000 [03:56<00:00,  4.22it/s]\n",
      "smth:0.3780: 100%|██████████| 925/925 [02:08<00:00,  7.20it/s]\n"
     ]
    },
    {
     "name": "stdout",
     "output_type": "stream",
     "text": [
      "Mon Sep 11 02:03:36 2023 Fold 2, Epoch 35, lr: 0.0000792, train loss: 0.41005, valid loss: 0.41425, metric: 0.414253.\n",
      "Mon Sep 11 02:03:36 2023 Epoch: 36\n"
     ]
    },
    {
     "name": "stderr",
     "output_type": "stream",
     "text": [
      "smth:0.5743: 100%|██████████| 1000/1000 [03:57<00:00,  4.20it/s]\n",
      "smth:0.3309: 100%|██████████| 925/925 [02:08<00:00,  7.19it/s]\n"
     ]
    },
    {
     "name": "stdout",
     "output_type": "stream",
     "text": [
      "Mon Sep 11 02:09:44 2023 Fold 2, Epoch 36, lr: 0.0000741, train loss: 0.42993, valid loss: 0.40857, metric: 0.408567.\n",
      "Mon Sep 11 02:09:44 2023 Epoch: 37\n"
     ]
    },
    {
     "name": "stderr",
     "output_type": "stream",
     "text": [
      "smth:0.4265: 100%|██████████| 1000/1000 [03:56<00:00,  4.22it/s]\n",
      "smth:0.3276: 100%|██████████| 925/925 [02:09<00:00,  7.16it/s]\n"
     ]
    },
    {
     "name": "stdout",
     "output_type": "stream",
     "text": [
      "Mon Sep 11 02:15:51 2023 Fold 2, Epoch 37, lr: 0.0000691, train loss: 0.42528, valid loss: 0.40331, metric: 0.403308.\n",
      "metric_best (0.407209 --> 0.403308). Saving model ...\n",
      "Mon Sep 11 02:15:52 2023 Epoch: 38\n"
     ]
    },
    {
     "name": "stderr",
     "output_type": "stream",
     "text": [
      "smth:0.3201: 100%|██████████| 1000/1000 [03:55<00:00,  4.25it/s]\n",
      "smth:0.4186: 100%|██████████| 925/925 [02:08<00:00,  7.20it/s]\n"
     ]
    },
    {
     "name": "stdout",
     "output_type": "stream",
     "text": [
      "Mon Sep 11 02:21:57 2023 Fold 2, Epoch 38, lr: 0.0000642, train loss: 0.43281, valid loss: 0.42842, metric: 0.428420.\n",
      "Mon Sep 11 02:21:59 2023 Epoch: 39\n"
     ]
    },
    {
     "name": "stderr",
     "output_type": "stream",
     "text": [
      "smth:0.3212: 100%|██████████| 1000/1000 [03:54<00:00,  4.26it/s]\n",
      "smth:0.3726: 100%|██████████| 925/925 [02:09<00:00,  7.16it/s]\n"
     ]
    },
    {
     "name": "stdout",
     "output_type": "stream",
     "text": [
      "Mon Sep 11 02:28:04 2023 Fold 2, Epoch 39, lr: 0.0000593, train loss: 0.39685, valid loss: 0.40711, metric: 0.407107.\n",
      "Mon Sep 11 02:28:05 2023 Epoch: 40\n"
     ]
    },
    {
     "name": "stderr",
     "output_type": "stream",
     "text": [
      "smth:0.5309: 100%|██████████| 1000/1000 [03:57<00:00,  4.21it/s]\n",
      "smth:0.3583: 100%|██████████| 925/925 [02:09<00:00,  7.16it/s]\n"
     ]
    },
    {
     "name": "stdout",
     "output_type": "stream",
     "text": [
      "Mon Sep 11 02:34:13 2023 Fold 2, Epoch 40, lr: 0.0000546, train loss: 0.43292, valid loss: 0.41094, metric: 0.410939.\n",
      "Mon Sep 11 02:34:13 2023 Epoch: 41\n"
     ]
    },
    {
     "name": "stderr",
     "output_type": "stream",
     "text": [
      "smth:0.3059: 100%|██████████| 1000/1000 [03:56<00:00,  4.22it/s]\n",
      "smth:0.3487: 100%|██████████| 925/925 [02:08<00:00,  7.19it/s]\n"
     ]
    },
    {
     "name": "stdout",
     "output_type": "stream",
     "text": [
      "Mon Sep 11 02:40:20 2023 Fold 2, Epoch 41, lr: 0.0000500, train loss: 0.39822, valid loss: 0.38841, metric: 0.388414.\n",
      "metric_best (0.403308 --> 0.388414). Saving model ...\n",
      "Mon Sep 11 02:40:20 2023 Epoch: 42\n"
     ]
    },
    {
     "name": "stderr",
     "output_type": "stream",
     "text": [
      "smth:0.2193: 100%|██████████| 1000/1000 [03:55<00:00,  4.25it/s]\n",
      "smth:0.3911: 100%|██████████| 925/925 [02:09<00:00,  7.15it/s]\n"
     ]
    },
    {
     "name": "stdout",
     "output_type": "stream",
     "text": [
      "Mon Sep 11 02:46:26 2023 Fold 2, Epoch 42, lr: 0.0000455, train loss: 0.39424, valid loss: 0.40989, metric: 0.409893.\n",
      "Mon Sep 11 02:46:26 2023 Epoch: 43\n"
     ]
    },
    {
     "name": "stderr",
     "output_type": "stream",
     "text": [
      "smth:0.3518: 100%|██████████| 1000/1000 [03:54<00:00,  4.27it/s]\n",
      "smth:0.3933: 100%|██████████| 925/925 [02:08<00:00,  7.19it/s]\n"
     ]
    },
    {
     "name": "stdout",
     "output_type": "stream",
     "text": [
      "Mon Sep 11 02:52:31 2023 Fold 2, Epoch 43, lr: 0.0000412, train loss: 0.41394, valid loss: 0.40721, metric: 0.407211.\n",
      "Mon Sep 11 02:52:31 2023 Epoch: 44\n"
     ]
    },
    {
     "name": "stderr",
     "output_type": "stream",
     "text": [
      "smth:0.5128: 100%|██████████| 1000/1000 [03:55<00:00,  4.24it/s]\n",
      "smth:0.4394: 100%|██████████| 925/925 [02:10<00:00,  7.08it/s]\n"
     ]
    },
    {
     "name": "stdout",
     "output_type": "stream",
     "text": [
      "Mon Sep 11 02:58:38 2023 Fold 2, Epoch 44, lr: 0.0000371, train loss: 0.39621, valid loss: 0.42221, metric: 0.422215.\n",
      "Mon Sep 11 02:58:39 2023 Epoch: 45\n"
     ]
    },
    {
     "name": "stderr",
     "output_type": "stream",
     "text": [
      "smth:0.2840: 100%|██████████| 1000/1000 [03:56<00:00,  4.23it/s]\n",
      "smth:0.4468: 100%|██████████| 925/925 [02:09<00:00,  7.16it/s]\n"
     ]
    },
    {
     "name": "stdout",
     "output_type": "stream",
     "text": [
      "Mon Sep 11 03:04:45 2023 Fold 2, Epoch 45, lr: 0.0000331, train loss: 0.37889, valid loss: 0.44957, metric: 0.449565.\n",
      "Mon Sep 11 03:04:46 2023 Epoch: 46\n"
     ]
    },
    {
     "name": "stderr",
     "output_type": "stream",
     "text": [
      "smth:0.3880: 100%|██████████| 1000/1000 [03:55<00:00,  4.25it/s]\n",
      "smth:0.4361: 100%|██████████| 925/925 [02:09<00:00,  7.16it/s]\n"
     ]
    },
    {
     "name": "stdout",
     "output_type": "stream",
     "text": [
      "Mon Sep 11 03:10:51 2023 Fold 2, Epoch 46, lr: 0.0000293, train loss: 0.37865, valid loss: 0.43220, metric: 0.432202.\n",
      "Mon Sep 11 03:10:52 2023 Epoch: 47\n"
     ]
    },
    {
     "name": "stderr",
     "output_type": "stream",
     "text": [
      "smth:0.3991: 100%|██████████| 1000/1000 [03:55<00:00,  4.24it/s]\n",
      "smth:0.4130: 100%|██████████| 925/925 [02:09<00:00,  7.16it/s]\n"
     ]
    },
    {
     "name": "stdout",
     "output_type": "stream",
     "text": [
      "Mon Sep 11 03:16:58 2023 Fold 2, Epoch 47, lr: 0.0000257, train loss: 0.39586, valid loss: 0.41018, metric: 0.410183.\n",
      "Mon Sep 11 03:16:58 2023 Epoch: 48\n"
     ]
    },
    {
     "name": "stderr",
     "output_type": "stream",
     "text": [
      "smth:0.3267: 100%|██████████| 1000/1000 [03:54<00:00,  4.26it/s]\n",
      "smth:0.4359: 100%|██████████| 925/925 [02:10<00:00,  7.11it/s]\n"
     ]
    },
    {
     "name": "stdout",
     "output_type": "stream",
     "text": [
      "Mon Sep 11 03:23:05 2023 Fold 2, Epoch 48, lr: 0.0000223, train loss: 0.37227, valid loss: 0.40802, metric: 0.408020.\n",
      "Mon Sep 11 03:23:06 2023 Epoch: 49\n"
     ]
    },
    {
     "name": "stderr",
     "output_type": "stream",
     "text": [
      "smth:0.5467: 100%|██████████| 1000/1000 [03:55<00:00,  4.25it/s]\n",
      "smth:0.3879: 100%|██████████| 925/925 [02:08<00:00,  7.17it/s]\n"
     ]
    },
    {
     "name": "stdout",
     "output_type": "stream",
     "text": [
      "Mon Sep 11 03:29:11 2023 Fold 2, Epoch 49, lr: 0.0000191, train loss: 0.40794, valid loss: 0.39473, metric: 0.394733.\n",
      "Mon Sep 11 03:29:13 2023 Epoch: 50\n"
     ]
    },
    {
     "name": "stderr",
     "output_type": "stream",
     "text": [
      "smth:0.3532: 100%|██████████| 1000/1000 [03:54<00:00,  4.26it/s]\n",
      "smth:0.3825: 100%|██████████| 925/925 [02:09<00:00,  7.17it/s]\n"
     ]
    },
    {
     "name": "stdout",
     "output_type": "stream",
     "text": [
      "Mon Sep 11 03:35:18 2023 Fold 2, Epoch 50, lr: 0.0000161, train loss: 0.35408, valid loss: 0.38977, metric: 0.389771.\n",
      "Mon Sep 11 03:35:18 2023 Epoch: 51\n"
     ]
    },
    {
     "name": "stderr",
     "output_type": "stream",
     "text": [
      "smth:0.3156: 100%|██████████| 1000/1000 [03:56<00:00,  4.23it/s]\n",
      "smth:0.4103: 100%|██████████| 925/925 [02:09<00:00,  7.17it/s]\n"
     ]
    },
    {
     "name": "stdout",
     "output_type": "stream",
     "text": [
      "Mon Sep 11 03:41:25 2023 Fold 2, Epoch 51, lr: 0.0000134, train loss: 0.36905, valid loss: 0.38690, metric: 0.386903.\n",
      "metric_best (0.388414 --> 0.386903). Saving model ...\n",
      "Mon Sep 11 03:41:25 2023 Epoch: 52\n"
     ]
    },
    {
     "name": "stderr",
     "output_type": "stream",
     "text": [
      "smth:0.2774: 100%|██████████| 1000/1000 [03:56<00:00,  4.24it/s]\n",
      "smth:0.4713: 100%|██████████| 925/925 [02:09<00:00,  7.17it/s]\n"
     ]
    },
    {
     "name": "stdout",
     "output_type": "stream",
     "text": [
      "Mon Sep 11 03:47:32 2023 Fold 2, Epoch 52, lr: 0.0000109, train loss: 0.38066, valid loss: 0.43902, metric: 0.439024.\n",
      "Mon Sep 11 03:47:32 2023 Epoch: 53\n"
     ]
    },
    {
     "name": "stderr",
     "output_type": "stream",
     "text": [
      "smth:0.4379: 100%|██████████| 1000/1000 [03:56<00:00,  4.23it/s]\n",
      "smth:0.3848: 100%|██████████| 925/925 [02:09<00:00,  7.14it/s]\n"
     ]
    },
    {
     "name": "stdout",
     "output_type": "stream",
     "text": [
      "Mon Sep 11 03:53:39 2023 Fold 2, Epoch 53, lr: 0.0000086, train loss: 0.36921, valid loss: 0.38406, metric: 0.384058.\n",
      "metric_best (0.386903 --> 0.384058). Saving model ...\n",
      "Mon Sep 11 03:53:40 2023 Epoch: 54\n"
     ]
    },
    {
     "name": "stderr",
     "output_type": "stream",
     "text": [
      "smth:0.2760: 100%|██████████| 1000/1000 [03:55<00:00,  4.25it/s]\n",
      "smth:0.4371: 100%|██████████| 925/925 [02:10<00:00,  7.10it/s]\n"
     ]
    },
    {
     "name": "stdout",
     "output_type": "stream",
     "text": [
      "Mon Sep 11 03:59:46 2023 Fold 2, Epoch 54, lr: 0.0000066, train loss: 0.40705, valid loss: 0.39387, metric: 0.393871.\n",
      "Mon Sep 11 03:59:46 2023 Epoch: 55\n"
     ]
    },
    {
     "name": "stderr",
     "output_type": "stream",
     "text": [
      "smth:0.4632: 100%|██████████| 1000/1000 [03:54<00:00,  4.26it/s]\n",
      "smth:0.4801: 100%|██████████| 925/925 [02:09<00:00,  7.15it/s]\n"
     ]
    },
    {
     "name": "stdout",
     "output_type": "stream",
     "text": [
      "Mon Sep 11 04:05:52 2023 Fold 2, Epoch 55, lr: 0.0000049, train loss: 0.38633, valid loss: 0.43046, metric: 0.430463.\n",
      "Mon Sep 11 04:05:52 2023 Epoch: 56\n"
     ]
    },
    {
     "name": "stderr",
     "output_type": "stream",
     "text": [
      "smth:0.4693: 100%|██████████| 1000/1000 [03:56<00:00,  4.23it/s]\n",
      "smth:0.4296: 100%|██████████| 925/925 [02:09<00:00,  7.16it/s]\n"
     ]
    },
    {
     "name": "stdout",
     "output_type": "stream",
     "text": [
      "Mon Sep 11 04:11:59 2023 Fold 2, Epoch 56, lr: 0.0000034, train loss: 0.34581, valid loss: 0.39927, metric: 0.399272.\n",
      "Mon Sep 11 04:11:59 2023 Epoch: 57\n"
     ]
    },
    {
     "name": "stderr",
     "output_type": "stream",
     "text": [
      "smth:0.4403: 100%|██████████| 1000/1000 [03:56<00:00,  4.23it/s]\n",
      "smth:0.4249: 100%|██████████| 925/925 [02:09<00:00,  7.15it/s]\n"
     ]
    },
    {
     "name": "stdout",
     "output_type": "stream",
     "text": [
      "Mon Sep 11 04:18:06 2023 Fold 2, Epoch 57, lr: 0.0000022, train loss: 0.36465, valid loss: 0.39941, metric: 0.399412.\n",
      "Mon Sep 11 04:18:06 2023 Epoch: 58\n"
     ]
    },
    {
     "name": "stderr",
     "output_type": "stream",
     "text": [
      "smth:0.3408: 100%|██████████| 1000/1000 [03:56<00:00,  4.24it/s]\n",
      "smth:0.4514: 100%|██████████| 925/925 [02:09<00:00,  7.15it/s]\n"
     ]
    },
    {
     "name": "stdout",
     "output_type": "stream",
     "text": [
      "Mon Sep 11 04:24:13 2023 Fold 2, Epoch 58, lr: 0.0000012, train loss: 0.37719, valid loss: 0.41972, metric: 0.419721.\n",
      "Mon Sep 11 04:24:13 2023 Epoch: 59\n"
     ]
    },
    {
     "name": "stderr",
     "output_type": "stream",
     "text": [
      "smth:0.5309: 100%|██████████| 1000/1000 [03:54<00:00,  4.26it/s]\n",
      "smth:0.4127: 100%|██████████| 925/925 [02:10<00:00,  7.07it/s]\n"
     ]
    },
    {
     "name": "stdout",
     "output_type": "stream",
     "text": [
      "Mon Sep 11 04:30:20 2023 Fold 2, Epoch 59, lr: 0.0000005, train loss: 0.39097, valid loss: 0.39677, metric: 0.396774.\n",
      "Mon Sep 11 04:30:20 2023 Epoch: 60\n"
     ]
    },
    {
     "name": "stderr",
     "output_type": "stream",
     "text": [
      "smth:0.3930: 100%|██████████| 1000/1000 [03:54<00:00,  4.27it/s]\n",
      "smth:0.4251: 100%|██████████| 925/925 [02:09<00:00,  7.15it/s]\n"
     ]
    },
    {
     "name": "stdout",
     "output_type": "stream",
     "text": [
      "Mon Sep 11 04:36:25 2023 Fold 2, Epoch 60, lr: 0.0000001, train loss: 0.37225, valid loss: 0.39884, metric: 0.398845.\n",
      "class_counts label1\n",
      "0    10239\n",
      "1      701\n",
      "2      370\n",
      "Name: count, dtype: int64\n",
      "11310 2823\n",
      "Mon Sep 11 04:36:28 2023 Epoch: 1\n"
     ]
    },
    {
     "name": "stderr",
     "output_type": "stream",
     "text": [
      "smth:0.6504: 100%|██████████| 1000/1000 [03:54<00:00,  4.26it/s]\n",
      "smth:0.4333: 100%|██████████| 941/941 [02:11<00:00,  7.13it/s]\n"
     ]
    },
    {
     "name": "stdout",
     "output_type": "stream",
     "text": [
      "Mon Sep 11 04:42:36 2023 Fold 3, Epoch 1, lr: 0.0002000, train loss: 0.73942, valid loss: 0.57464, metric: 0.574642.\n",
      "metric_best (inf --> 0.574642). Saving model ...\n",
      "Mon Sep 11 04:42:36 2023 Epoch: 2\n"
     ]
    },
    {
     "name": "stderr",
     "output_type": "stream",
     "text": [
      "smth:0.5008: 100%|██████████| 1000/1000 [03:56<00:00,  4.23it/s]\n",
      "smth:0.4317: 100%|██████████| 941/941 [02:09<00:00,  7.29it/s]\n"
     ]
    },
    {
     "name": "stdout",
     "output_type": "stream",
     "text": [
      "Mon Sep 11 04:48:43 2023 Fold 3, Epoch 2, lr: 0.0001999, train loss: 0.66372, valid loss: 0.52887, metric: 0.528874.\n",
      "metric_best (0.574642 --> 0.528874). Saving model ...\n",
      "Mon Sep 11 04:48:43 2023 Epoch: 3\n"
     ]
    },
    {
     "name": "stderr",
     "output_type": "stream",
     "text": [
      "smth:0.5978: 100%|██████████| 1000/1000 [03:57<00:00,  4.21it/s]\n",
      "smth:0.4908: 100%|██████████| 941/941 [02:08<00:00,  7.33it/s]\n"
     ]
    },
    {
     "name": "stdout",
     "output_type": "stream",
     "text": [
      "Mon Sep 11 04:54:50 2023 Fold 3, Epoch 3, lr: 0.0001995, train loss: 0.63341, valid loss: 0.53029, metric: 0.530293.\n",
      "Mon Sep 11 04:54:51 2023 Epoch: 4\n"
     ]
    },
    {
     "name": "stderr",
     "output_type": "stream",
     "text": [
      "smth:0.7086: 100%|██████████| 1000/1000 [03:57<00:00,  4.22it/s]\n",
      "smth:0.4918: 100%|██████████| 941/941 [02:10<00:00,  7.24it/s]\n"
     ]
    },
    {
     "name": "stdout",
     "output_type": "stream",
     "text": [
      "Mon Sep 11 05:00:59 2023 Fold 3, Epoch 4, lr: 0.0001988, train loss: 0.65327, valid loss: 0.50941, metric: 0.509411.\n",
      "metric_best (0.528874 --> 0.509411). Saving model ...\n",
      "Mon Sep 11 05:00:59 2023 Epoch: 5\n"
     ]
    },
    {
     "name": "stderr",
     "output_type": "stream",
     "text": [
      "smth:0.6650: 100%|██████████| 1000/1000 [03:57<00:00,  4.21it/s]\n",
      "smth:0.4506: 100%|██████████| 941/941 [02:09<00:00,  7.28it/s]\n"
     ]
    },
    {
     "name": "stdout",
     "output_type": "stream",
     "text": [
      "Mon Sep 11 05:07:07 2023 Fold 3, Epoch 5, lr: 0.0001978, train loss: 0.61325, valid loss: 0.48804, metric: 0.488036.\n",
      "metric_best (0.509411 --> 0.488036). Saving model ...\n",
      "Mon Sep 11 05:07:07 2023 Epoch: 6\n"
     ]
    },
    {
     "name": "stderr",
     "output_type": "stream",
     "text": [
      "smth:0.7154: 100%|██████████| 1000/1000 [03:54<00:00,  4.26it/s]\n",
      "smth:0.3911: 100%|██████████| 941/941 [02:12<00:00,  7.12it/s]\n"
     ]
    },
    {
     "name": "stdout",
     "output_type": "stream",
     "text": [
      "Mon Sep 11 05:13:15 2023 Fold 3, Epoch 6, lr: 0.0001966, train loss: 0.60204, valid loss: 0.48132, metric: 0.481317.\n",
      "metric_best (0.488036 --> 0.481317). Saving model ...\n",
      "Mon Sep 11 05:13:16 2023 Epoch: 7\n"
     ]
    },
    {
     "name": "stderr",
     "output_type": "stream",
     "text": [
      "smth:0.6106: 100%|██████████| 1000/1000 [03:54<00:00,  4.26it/s]\n",
      "smth:0.4379: 100%|██████████| 941/941 [02:09<00:00,  7.24it/s]\n"
     ]
    },
    {
     "name": "stdout",
     "output_type": "stream",
     "text": [
      "Mon Sep 11 05:19:22 2023 Fold 3, Epoch 7, lr: 0.0001951, train loss: 0.58801, valid loss: 0.44275, metric: 0.442746.\n",
      "metric_best (0.481317 --> 0.442746). Saving model ...\n",
      "Mon Sep 11 05:19:22 2023 Epoch: 8\n"
     ]
    },
    {
     "name": "stderr",
     "output_type": "stream",
     "text": [
      "smth:0.6597: 100%|██████████| 1000/1000 [03:57<00:00,  4.21it/s]\n",
      "smth:0.4833: 100%|██████████| 941/941 [02:09<00:00,  7.26it/s]\n"
     ]
    },
    {
     "name": "stdout",
     "output_type": "stream",
     "text": [
      "Mon Sep 11 05:25:31 2023 Fold 3, Epoch 8, lr: 0.0001934, train loss: 0.60005, valid loss: 0.47534, metric: 0.475344.\n",
      "Mon Sep 11 05:25:31 2023 Epoch: 9\n"
     ]
    },
    {
     "name": "stderr",
     "output_type": "stream",
     "text": [
      "smth:0.6712: 100%|██████████| 1000/1000 [04:03<00:00,  4.11it/s]\n",
      "smth:0.5290: 100%|██████████| 941/941 [02:13<00:00,  7.05it/s]\n"
     ]
    },
    {
     "name": "stdout",
     "output_type": "stream",
     "text": [
      "Mon Sep 11 05:31:49 2023 Fold 3, Epoch 9, lr: 0.0001914, train loss: 0.56351, valid loss: 0.46874, metric: 0.468737.\n",
      "Mon Sep 11 05:31:50 2023 Epoch: 10\n"
     ]
    },
    {
     "name": "stderr",
     "output_type": "stream",
     "text": [
      "smth:0.4910: 100%|██████████| 1000/1000 [04:05<00:00,  4.07it/s]\n",
      "smth:0.4784: 100%|██████████| 941/941 [02:14<00:00,  7.02it/s]\n"
     ]
    },
    {
     "name": "stdout",
     "output_type": "stream",
     "text": [
      "Mon Sep 11 05:38:10 2023 Fold 3, Epoch 10, lr: 0.0001891, train loss: 0.57047, valid loss: 0.44909, metric: 0.449094.\n",
      "Mon Sep 11 05:38:11 2023 Epoch: 11\n"
     ]
    },
    {
     "name": "stderr",
     "output_type": "stream",
     "text": [
      "smth:0.5749: 100%|██████████| 1000/1000 [04:06<00:00,  4.05it/s]\n",
      "smth:0.3898: 100%|██████████| 941/941 [02:13<00:00,  7.04it/s]\n"
     ]
    },
    {
     "name": "stdout",
     "output_type": "stream",
     "text": [
      "Mon Sep 11 05:44:32 2023 Fold 3, Epoch 11, lr: 0.0001866, train loss: 0.56022, valid loss: 0.49308, metric: 0.493084.\n",
      "Mon Sep 11 05:44:33 2023 Epoch: 12\n"
     ]
    },
    {
     "name": "stderr",
     "output_type": "stream",
     "text": [
      "smth:0.5770: 100%|██████████| 1000/1000 [04:04<00:00,  4.08it/s]\n",
      "smth:0.5721: 100%|██████████| 941/941 [02:14<00:00,  7.00it/s]\n"
     ]
    },
    {
     "name": "stdout",
     "output_type": "stream",
     "text": [
      "Mon Sep 11 05:50:53 2023 Fold 3, Epoch 12, lr: 0.0001839, train loss: 0.54547, valid loss: 0.57147, metric: 0.571471.\n",
      "Mon Sep 11 05:50:53 2023 Epoch: 13\n"
     ]
    },
    {
     "name": "stderr",
     "output_type": "stream",
     "text": [
      "smth:0.4186: 100%|██████████| 1000/1000 [04:05<00:00,  4.07it/s]\n",
      "smth:0.4935: 100%|██████████| 941/941 [02:14<00:00,  7.02it/s]\n"
     ]
    },
    {
     "name": "stdout",
     "output_type": "stream",
     "text": [
      "Mon Sep 11 05:57:14 2023 Fold 3, Epoch 13, lr: 0.0001809, train loss: 0.51227, valid loss: 0.42683, metric: 0.426829.\n",
      "metric_best (0.442746 --> 0.426829). Saving model ...\n",
      "Mon Sep 11 05:57:15 2023 Epoch: 14\n"
     ]
    },
    {
     "name": "stderr",
     "output_type": "stream",
     "text": [
      "smth:0.4247: 100%|██████████| 1000/1000 [04:05<00:00,  4.07it/s]\n",
      "smth:0.3805: 100%|██████████| 941/941 [02:14<00:00,  7.01it/s]\n"
     ]
    },
    {
     "name": "stdout",
     "output_type": "stream",
     "text": [
      "Mon Sep 11 06:03:36 2023 Fold 3, Epoch 14, lr: 0.0001777, train loss: 0.56347, valid loss: 0.43693, metric: 0.436926.\n",
      "Mon Sep 11 06:03:36 2023 Epoch: 15\n"
     ]
    },
    {
     "name": "stderr",
     "output_type": "stream",
     "text": [
      "smth:0.5667: 100%|██████████| 1000/1000 [04:05<00:00,  4.07it/s]\n",
      "smth:0.4279: 100%|██████████| 941/941 [02:13<00:00,  7.04it/s]\n"
     ]
    },
    {
     "name": "stdout",
     "output_type": "stream",
     "text": [
      "Mon Sep 11 06:09:57 2023 Fold 3, Epoch 15, lr: 0.0001743, train loss: 0.53915, valid loss: 0.46630, metric: 0.466300.\n",
      "Mon Sep 11 06:09:57 2023 Epoch: 16\n"
     ]
    },
    {
     "name": "stderr",
     "output_type": "stream",
     "text": [
      "smth:0.4614: 100%|██████████| 1000/1000 [04:05<00:00,  4.07it/s]\n",
      "smth:0.4288: 100%|██████████| 941/941 [02:14<00:00,  7.01it/s]\n"
     ]
    },
    {
     "name": "stdout",
     "output_type": "stream",
     "text": [
      "Mon Sep 11 06:16:19 2023 Fold 3, Epoch 16, lr: 0.0001707, train loss: 0.54227, valid loss: 0.48448, metric: 0.484481.\n",
      "Mon Sep 11 06:16:19 2023 Epoch: 17\n"
     ]
    },
    {
     "name": "stderr",
     "output_type": "stream",
     "text": [
      "smth:0.5107: 100%|██████████| 1000/1000 [04:04<00:00,  4.09it/s]\n",
      "smth:0.3926: 100%|██████████| 941/941 [02:15<00:00,  6.95it/s]\n"
     ]
    },
    {
     "name": "stdout",
     "output_type": "stream",
     "text": [
      "Mon Sep 11 06:22:40 2023 Fold 3, Epoch 17, lr: 0.0001669, train loss: 0.48665, valid loss: 0.42972, metric: 0.429719.\n",
      "Mon Sep 11 06:22:40 2023 Epoch: 18\n"
     ]
    },
    {
     "name": "stderr",
     "output_type": "stream",
     "text": [
      "smth:0.3344: 100%|██████████| 1000/1000 [04:03<00:00,  4.10it/s]\n",
      "smth:0.4918: 100%|██████████| 941/941 [02:14<00:00,  7.02it/s]\n"
     ]
    },
    {
     "name": "stdout",
     "output_type": "stream",
     "text": [
      "Mon Sep 11 06:29:00 2023 Fold 3, Epoch 18, lr: 0.0001629, train loss: 0.50533, valid loss: 0.41409, metric: 0.414092.\n",
      "metric_best (0.426829 --> 0.414092). Saving model ...\n",
      "Mon Sep 11 06:29:00 2023 Epoch: 19\n"
     ]
    },
    {
     "name": "stderr",
     "output_type": "stream",
     "text": [
      "smth:0.5831: 100%|██████████| 1000/1000 [04:05<00:00,  4.07it/s]\n",
      "smth:0.4183: 100%|██████████| 941/941 [02:13<00:00,  7.03it/s]\n"
     ]
    },
    {
     "name": "stdout",
     "output_type": "stream",
     "text": [
      "Mon Sep 11 06:35:21 2023 Fold 3, Epoch 19, lr: 0.0001588, train loss: 0.49962, valid loss: 0.40476, metric: 0.404762.\n",
      "metric_best (0.414092 --> 0.404762). Saving model ...\n",
      "Mon Sep 11 06:35:21 2023 Epoch: 20\n"
     ]
    },
    {
     "name": "stderr",
     "output_type": "stream",
     "text": [
      "smth:0.4497: 100%|██████████| 1000/1000 [04:05<00:00,  4.08it/s]\n",
      "smth:0.4687: 100%|██████████| 941/941 [02:13<00:00,  7.06it/s]\n"
     ]
    },
    {
     "name": "stdout",
     "output_type": "stream",
     "text": [
      "Mon Sep 11 06:41:41 2023 Fold 3, Epoch 20, lr: 0.0001545, train loss: 0.51194, valid loss: 0.43556, metric: 0.435555.\n",
      "Mon Sep 11 06:41:41 2023 Epoch: 21\n"
     ]
    },
    {
     "name": "stderr",
     "output_type": "stream",
     "text": [
      "smth:0.5700: 100%|██████████| 1000/1000 [04:06<00:00,  4.06it/s]\n",
      "smth:0.3634: 100%|██████████| 941/941 [02:14<00:00,  7.02it/s]\n"
     ]
    },
    {
     "name": "stdout",
     "output_type": "stream",
     "text": [
      "Mon Sep 11 06:48:03 2023 Fold 3, Epoch 21, lr: 0.0001500, train loss: 0.49709, valid loss: 0.41088, metric: 0.410876.\n",
      "Mon Sep 11 06:48:03 2023 Epoch: 22\n"
     ]
    },
    {
     "name": "stderr",
     "output_type": "stream",
     "text": [
      "smth:0.5550: 100%|██████████| 1000/1000 [04:07<00:00,  4.05it/s]\n",
      "smth:0.3695: 100%|██████████| 941/941 [02:14<00:00,  7.02it/s]\n"
     ]
    },
    {
     "name": "stdout",
     "output_type": "stream",
     "text": [
      "Mon Sep 11 06:54:25 2023 Fold 3, Epoch 22, lr: 0.0001454, train loss: 0.49197, valid loss: 0.41442, metric: 0.414418.\n",
      "Mon Sep 11 06:54:26 2023 Epoch: 23\n"
     ]
    },
    {
     "name": "stderr",
     "output_type": "stream",
     "text": [
      "smth:0.4939: 100%|██████████| 1000/1000 [04:04<00:00,  4.10it/s]\n",
      "smth:0.3292: 100%|██████████| 941/941 [02:13<00:00,  7.02it/s]\n"
     ]
    },
    {
     "name": "stdout",
     "output_type": "stream",
     "text": [
      "Mon Sep 11 07:00:45 2023 Fold 3, Epoch 23, lr: 0.0001407, train loss: 0.47633, valid loss: 0.40414, metric: 0.404139.\n",
      "metric_best (0.404762 --> 0.404139). Saving model ...\n",
      "Mon Sep 11 07:00:45 2023 Epoch: 24\n"
     ]
    },
    {
     "name": "stderr",
     "output_type": "stream",
     "text": [
      "smth:0.4917: 100%|██████████| 1000/1000 [04:06<00:00,  4.06it/s]\n",
      "smth:0.4024: 100%|██████████| 941/941 [02:13<00:00,  7.04it/s]\n"
     ]
    },
    {
     "name": "stdout",
     "output_type": "stream",
     "text": [
      "Mon Sep 11 07:07:07 2023 Fold 3, Epoch 24, lr: 0.0001358, train loss: 0.46998, valid loss: 0.45751, metric: 0.457507.\n",
      "Mon Sep 11 07:07:07 2023 Epoch: 25\n"
     ]
    },
    {
     "name": "stderr",
     "output_type": "stream",
     "text": [
      "smth:0.5233: 100%|██████████| 1000/1000 [04:05<00:00,  4.08it/s]\n",
      "smth:0.3445: 100%|██████████| 941/941 [02:14<00:00,  7.00it/s]\n"
     ]
    },
    {
     "name": "stdout",
     "output_type": "stream",
     "text": [
      "Mon Sep 11 07:13:28 2023 Fold 3, Epoch 25, lr: 0.0001309, train loss: 0.47902, valid loss: 0.39841, metric: 0.398411.\n",
      "metric_best (0.404139 --> 0.398411). Saving model ...\n",
      "Mon Sep 11 07:13:28 2023 Epoch: 26\n"
     ]
    },
    {
     "name": "stderr",
     "output_type": "stream",
     "text": [
      "smth:0.4939: 100%|██████████| 1000/1000 [04:04<00:00,  4.09it/s]\n",
      "smth:0.3656: 100%|██████████| 941/941 [02:13<00:00,  7.05it/s]\n"
     ]
    },
    {
     "name": "stdout",
     "output_type": "stream",
     "text": [
      "Mon Sep 11 07:19:48 2023 Fold 3, Epoch 26, lr: 0.0001259, train loss: 0.45957, valid loss: 0.37850, metric: 0.378505.\n",
      "metric_best (0.398411 --> 0.378505). Saving model ...\n",
      "Mon Sep 11 07:19:48 2023 Epoch: 27\n"
     ]
    },
    {
     "name": "stderr",
     "output_type": "stream",
     "text": [
      "smth:0.5317: 100%|██████████| 1000/1000 [04:05<00:00,  4.07it/s]\n",
      "smth:0.2906: 100%|██████████| 941/941 [02:13<00:00,  7.04it/s]\n"
     ]
    },
    {
     "name": "stdout",
     "output_type": "stream",
     "text": [
      "Mon Sep 11 07:26:08 2023 Fold 3, Epoch 27, lr: 0.0001208, train loss: 0.46853, valid loss: 0.38482, metric: 0.384821.\n",
      "Mon Sep 11 07:26:09 2023 Epoch: 28\n"
     ]
    },
    {
     "name": "stderr",
     "output_type": "stream",
     "text": [
      "smth:0.5660: 100%|██████████| 1000/1000 [04:05<00:00,  4.08it/s]\n",
      "smth:0.3053: 100%|██████████| 941/941 [02:14<00:00,  7.01it/s]\n"
     ]
    },
    {
     "name": "stdout",
     "output_type": "stream",
     "text": [
      "Mon Sep 11 07:32:29 2023 Fold 3, Epoch 28, lr: 0.0001156, train loss: 0.47363, valid loss: 0.40692, metric: 0.406915.\n",
      "Mon Sep 11 07:32:30 2023 Epoch: 29\n"
     ]
    },
    {
     "name": "stderr",
     "output_type": "stream",
     "text": [
      "smth:0.7128: 100%|██████████| 1000/1000 [04:04<00:00,  4.09it/s]\n",
      "smth:0.4005: 100%|██████████| 941/941 [02:13<00:00,  7.03it/s]\n"
     ]
    },
    {
     "name": "stdout",
     "output_type": "stream",
     "text": [
      "Mon Sep 11 07:38:49 2023 Fold 3, Epoch 29, lr: 0.0001105, train loss: 0.48057, valid loss: 0.43477, metric: 0.434769.\n",
      "Mon Sep 11 07:38:51 2023 Epoch: 30\n"
     ]
    },
    {
     "name": "stderr",
     "output_type": "stream",
     "text": [
      "smth:0.5542: 100%|██████████| 1000/1000 [04:03<00:00,  4.10it/s]\n",
      "smth:0.3025: 100%|██████████| 941/941 [02:14<00:00,  7.00it/s]\n"
     ]
    },
    {
     "name": "stdout",
     "output_type": "stream",
     "text": [
      "Mon Sep 11 07:45:11 2023 Fold 3, Epoch 30, lr: 0.0001052, train loss: 0.44500, valid loss: 0.42511, metric: 0.425112.\n",
      "Mon Sep 11 07:45:11 2023 Epoch: 31\n"
     ]
    },
    {
     "name": "stderr",
     "output_type": "stream",
     "text": [
      "smth:0.5461: 100%|██████████| 1000/1000 [04:05<00:00,  4.07it/s]\n",
      "smth:0.3094: 100%|██████████| 941/941 [02:13<00:00,  7.03it/s]\n"
     ]
    },
    {
     "name": "stdout",
     "output_type": "stream",
     "text": [
      "Mon Sep 11 07:51:32 2023 Fold 3, Epoch 31, lr: 0.0001000, train loss: 0.43882, valid loss: 0.39195, metric: 0.391950.\n",
      "Mon Sep 11 07:51:32 2023 Epoch: 32\n"
     ]
    },
    {
     "name": "stderr",
     "output_type": "stream",
     "text": [
      "smth:0.4709: 100%|██████████| 1000/1000 [04:06<00:00,  4.06it/s]\n",
      "smth:0.3790: 100%|██████████| 941/941 [02:13<00:00,  7.02it/s]\n"
     ]
    },
    {
     "name": "stdout",
     "output_type": "stream",
     "text": [
      "Mon Sep 11 07:57:53 2023 Fold 3, Epoch 32, lr: 0.0000948, train loss: 0.46013, valid loss: 0.39019, metric: 0.390190.\n",
      "Mon Sep 11 07:57:54 2023 Epoch: 33\n"
     ]
    },
    {
     "name": "stderr",
     "output_type": "stream",
     "text": [
      "smth:0.3330: 100%|██████████| 1000/1000 [04:06<00:00,  4.06it/s]\n",
      "smth:0.3952: 100%|██████████| 941/941 [02:13<00:00,  7.05it/s]\n"
     ]
    },
    {
     "name": "stdout",
     "output_type": "stream",
     "text": [
      "Mon Sep 11 08:04:15 2023 Fold 3, Epoch 33, lr: 0.0000895, train loss: 0.40220, valid loss: 0.39634, metric: 0.396338.\n",
      "Mon Sep 11 08:04:15 2023 Epoch: 34\n"
     ]
    },
    {
     "name": "stderr",
     "output_type": "stream",
     "text": [
      "smth:0.3230: 100%|██████████| 1000/1000 [04:04<00:00,  4.09it/s]\n",
      "smth:0.3974: 100%|██████████| 941/941 [02:16<00:00,  6.89it/s]\n"
     ]
    },
    {
     "name": "stdout",
     "output_type": "stream",
     "text": [
      "Mon Sep 11 08:10:37 2023 Fold 3, Epoch 34, lr: 0.0000844, train loss: 0.43937, valid loss: 0.37694, metric: 0.376938.\n",
      "metric_best (0.378505 --> 0.376938). Saving model ...\n",
      "Mon Sep 11 08:10:37 2023 Epoch: 35\n"
     ]
    },
    {
     "name": "stderr",
     "output_type": "stream",
     "text": [
      "smth:0.3650: 100%|██████████| 1000/1000 [04:09<00:00,  4.01it/s]\n",
      "smth:0.3815: 100%|██████████| 941/941 [02:15<00:00,  6.94it/s]\n"
     ]
    },
    {
     "name": "stdout",
     "output_type": "stream",
     "text": [
      "Mon Sep 11 08:17:03 2023 Fold 3, Epoch 35, lr: 0.0000792, train loss: 0.41393, valid loss: 0.37631, metric: 0.376308.\n",
      "metric_best (0.376938 --> 0.376308). Saving model ...\n",
      "Mon Sep 11 08:17:04 2023 Epoch: 36\n"
     ]
    },
    {
     "name": "stderr",
     "output_type": "stream",
     "text": [
      "smth:0.3683: 100%|██████████| 1000/1000 [04:04<00:00,  4.08it/s]\n",
      "smth:0.3658: 100%|██████████| 941/941 [02:14<00:00,  7.01it/s]\n"
     ]
    },
    {
     "name": "stdout",
     "output_type": "stream",
     "text": [
      "Mon Sep 11 08:23:24 2023 Fold 3, Epoch 36, lr: 0.0000741, train loss: 0.40331, valid loss: 0.35792, metric: 0.357923.\n",
      "metric_best (0.376308 --> 0.357923). Saving model ...\n",
      "Mon Sep 11 08:23:24 2023 Epoch: 37\n"
     ]
    },
    {
     "name": "stderr",
     "output_type": "stream",
     "text": [
      "smth:0.2750: 100%|██████████| 1000/1000 [04:04<00:00,  4.09it/s]\n",
      "smth:0.3536: 100%|██████████| 941/941 [02:15<00:00,  6.93it/s]\n"
     ]
    },
    {
     "name": "stdout",
     "output_type": "stream",
     "text": [
      "Mon Sep 11 08:29:46 2023 Fold 3, Epoch 37, lr: 0.0000691, train loss: 0.43922, valid loss: 0.37578, metric: 0.375779.\n",
      "Mon Sep 11 08:29:46 2023 Epoch: 38\n"
     ]
    },
    {
     "name": "stderr",
     "output_type": "stream",
     "text": [
      "smth:0.3701: 100%|██████████| 1000/1000 [04:04<00:00,  4.08it/s]\n",
      "smth:0.3508: 100%|██████████| 941/941 [02:15<00:00,  6.95it/s]\n"
     ]
    },
    {
     "name": "stdout",
     "output_type": "stream",
     "text": [
      "Mon Sep 11 08:36:08 2023 Fold 3, Epoch 38, lr: 0.0000642, train loss: 0.41997, valid loss: 0.36111, metric: 0.361112.\n",
      "Mon Sep 11 08:36:08 2023 Epoch: 39\n"
     ]
    },
    {
     "name": "stderr",
     "output_type": "stream",
     "text": [
      "smth:0.2379: 100%|██████████| 1000/1000 [03:59<00:00,  4.17it/s]\n",
      "smth:0.3863: 100%|██████████| 941/941 [02:16<00:00,  6.88it/s]\n"
     ]
    },
    {
     "name": "stdout",
     "output_type": "stream",
     "text": [
      "Mon Sep 11 08:42:26 2023 Fold 3, Epoch 39, lr: 0.0000593, train loss: 0.43257, valid loss: 0.37121, metric: 0.371207.\n",
      "Mon Sep 11 08:42:26 2023 Epoch: 40\n"
     ]
    },
    {
     "name": "stderr",
     "output_type": "stream",
     "text": [
      "smth:0.4517: 100%|██████████| 1000/1000 [04:03<00:00,  4.11it/s]\n",
      "smth:0.2712: 100%|██████████| 941/941 [02:15<00:00,  6.95it/s]\n"
     ]
    },
    {
     "name": "stdout",
     "output_type": "stream",
     "text": [
      "Mon Sep 11 08:48:46 2023 Fold 3, Epoch 40, lr: 0.0000546, train loss: 0.40283, valid loss: 0.37285, metric: 0.372847.\n",
      "Mon Sep 11 08:48:46 2023 Epoch: 41\n"
     ]
    },
    {
     "name": "stderr",
     "output_type": "stream",
     "text": [
      "smth:0.4089: 100%|██████████| 1000/1000 [04:04<00:00,  4.09it/s]\n",
      "smth:0.3348: 100%|██████████| 941/941 [02:11<00:00,  7.16it/s]\n"
     ]
    },
    {
     "name": "stdout",
     "output_type": "stream",
     "text": [
      "Mon Sep 11 08:55:04 2023 Fold 3, Epoch 41, lr: 0.0000500, train loss: 0.41668, valid loss: 0.36217, metric: 0.362167.\n",
      "Mon Sep 11 08:55:04 2023 Epoch: 42\n"
     ]
    },
    {
     "name": "stderr",
     "output_type": "stream",
     "text": [
      "smth:0.5005: 100%|██████████| 1000/1000 [04:01<00:00,  4.14it/s]\n",
      "smth:0.3449: 100%|██████████| 941/941 [02:12<00:00,  7.11it/s]\n"
     ]
    },
    {
     "name": "stdout",
     "output_type": "stream",
     "text": [
      "Mon Sep 11 09:01:19 2023 Fold 3, Epoch 42, lr: 0.0000455, train loss: 0.42062, valid loss: 0.39330, metric: 0.393297.\n",
      "Mon Sep 11 09:01:20 2023 Epoch: 43\n"
     ]
    },
    {
     "name": "stderr",
     "output_type": "stream",
     "text": [
      "smth:0.4374: 100%|██████████| 1000/1000 [04:03<00:00,  4.10it/s]\n",
      "smth:0.3426: 100%|██████████| 941/941 [02:12<00:00,  7.13it/s]\n"
     ]
    },
    {
     "name": "stdout",
     "output_type": "stream",
     "text": [
      "Mon Sep 11 09:07:37 2023 Fold 3, Epoch 43, lr: 0.0000412, train loss: 0.40565, valid loss: 0.33985, metric: 0.339847.\n",
      "metric_best (0.357923 --> 0.339847). Saving model ...\n",
      "Mon Sep 11 09:07:37 2023 Epoch: 44\n"
     ]
    },
    {
     "name": "stderr",
     "output_type": "stream",
     "text": [
      "smth:0.4407: 100%|██████████| 1000/1000 [03:58<00:00,  4.20it/s]\n",
      "smth:0.3450: 100%|██████████| 941/941 [02:15<00:00,  6.96it/s]\n"
     ]
    },
    {
     "name": "stdout",
     "output_type": "stream",
     "text": [
      "Mon Sep 11 09:13:52 2023 Fold 3, Epoch 44, lr: 0.0000371, train loss: 0.41070, valid loss: 0.36826, metric: 0.368255.\n",
      "Mon Sep 11 09:13:52 2023 Epoch: 45\n"
     ]
    },
    {
     "name": "stderr",
     "output_type": "stream",
     "text": [
      "smth:0.5101: 100%|██████████| 1000/1000 [03:58<00:00,  4.19it/s]\n",
      "smth:0.3781: 100%|██████████| 941/941 [02:20<00:00,  6.72it/s]\n"
     ]
    },
    {
     "name": "stdout",
     "output_type": "stream",
     "text": [
      "Mon Sep 11 09:20:12 2023 Fold 3, Epoch 45, lr: 0.0000331, train loss: 0.37432, valid loss: 0.35903, metric: 0.359033.\n",
      "Mon Sep 11 09:20:12 2023 Epoch: 46\n"
     ]
    },
    {
     "name": "stderr",
     "output_type": "stream",
     "text": [
      "smth:0.2643: 100%|██████████| 1000/1000 [04:01<00:00,  4.14it/s]\n",
      "smth:0.4429: 100%|██████████| 941/941 [02:12<00:00,  7.11it/s]\n"
     ]
    },
    {
     "name": "stdout",
     "output_type": "stream",
     "text": [
      "Mon Sep 11 09:26:27 2023 Fold 3, Epoch 46, lr: 0.0000293, train loss: 0.35508, valid loss: 0.35800, metric: 0.357998.\n",
      "Mon Sep 11 09:26:27 2023 Epoch: 47\n"
     ]
    },
    {
     "name": "stderr",
     "output_type": "stream",
     "text": [
      "smth:0.3872: 100%|██████████| 1000/1000 [04:02<00:00,  4.13it/s]\n",
      "smth:0.4121: 100%|██████████| 941/941 [02:12<00:00,  7.08it/s]\n"
     ]
    },
    {
     "name": "stdout",
     "output_type": "stream",
     "text": [
      "Mon Sep 11 09:32:43 2023 Fold 3, Epoch 47, lr: 0.0000257, train loss: 0.36381, valid loss: 0.36212, metric: 0.362122.\n",
      "Mon Sep 11 09:32:44 2023 Epoch: 48\n"
     ]
    },
    {
     "name": "stderr",
     "output_type": "stream",
     "text": [
      "smth:0.3651: 100%|██████████| 1000/1000 [03:58<00:00,  4.19it/s]\n",
      "smth:0.3306: 100%|██████████| 941/941 [02:09<00:00,  7.26it/s]\n"
     ]
    },
    {
     "name": "stdout",
     "output_type": "stream",
     "text": [
      "Mon Sep 11 09:38:53 2023 Fold 3, Epoch 48, lr: 0.0000223, train loss: 0.35857, valid loss: 0.37451, metric: 0.374514.\n",
      "Mon Sep 11 09:38:53 2023 Epoch: 49\n"
     ]
    },
    {
     "name": "stderr",
     "output_type": "stream",
     "text": [
      "smth:0.3710: 100%|██████████| 1000/1000 [03:56<00:00,  4.24it/s]\n",
      "smth:0.4090: 100%|██████████| 941/941 [02:09<00:00,  7.27it/s]\n"
     ]
    },
    {
     "name": "stdout",
     "output_type": "stream",
     "text": [
      "Mon Sep 11 09:45:00 2023 Fold 3, Epoch 49, lr: 0.0000191, train loss: 0.39139, valid loss: 0.36131, metric: 0.361307.\n",
      "Mon Sep 11 09:45:00 2023 Epoch: 50\n"
     ]
    },
    {
     "name": "stderr",
     "output_type": "stream",
     "text": [
      "smth:0.4097: 100%|██████████| 1000/1000 [03:54<00:00,  4.26it/s]\n",
      "smth:0.3452: 100%|██████████| 941/941 [02:10<00:00,  7.21it/s]\n"
     ]
    },
    {
     "name": "stdout",
     "output_type": "stream",
     "text": [
      "Mon Sep 11 09:51:07 2023 Fold 3, Epoch 50, lr: 0.0000161, train loss: 0.39350, valid loss: 0.35833, metric: 0.358331.\n",
      "Mon Sep 11 09:51:09 2023 Epoch: 51\n"
     ]
    },
    {
     "name": "stderr",
     "output_type": "stream",
     "text": [
      "smth:0.3758: 100%|██████████| 1000/1000 [03:53<00:00,  4.29it/s]\n",
      "smth:0.3980: 100%|██████████| 941/941 [02:09<00:00,  7.25it/s]\n"
     ]
    },
    {
     "name": "stdout",
     "output_type": "stream",
     "text": [
      "Mon Sep 11 09:57:13 2023 Fold 3, Epoch 51, lr: 0.0000134, train loss: 0.38614, valid loss: 0.35694, metric: 0.356936.\n",
      "Mon Sep 11 09:57:13 2023 Epoch: 52\n"
     ]
    },
    {
     "name": "stderr",
     "output_type": "stream",
     "text": [
      "smth:0.4223: 100%|██████████| 1000/1000 [03:54<00:00,  4.26it/s]\n",
      "smth:0.4202: 100%|██████████| 941/941 [02:09<00:00,  7.26it/s]\n"
     ]
    },
    {
     "name": "stdout",
     "output_type": "stream",
     "text": [
      "Mon Sep 11 10:03:19 2023 Fold 3, Epoch 52, lr: 0.0000109, train loss: 0.36285, valid loss: 0.36110, metric: 0.361096.\n",
      "Mon Sep 11 10:03:19 2023 Epoch: 53\n"
     ]
    },
    {
     "name": "stderr",
     "output_type": "stream",
     "text": [
      "smth:0.2885: 100%|██████████| 1000/1000 [03:55<00:00,  4.25it/s]\n",
      "smth:0.3622: 100%|██████████| 941/941 [02:09<00:00,  7.28it/s]\n"
     ]
    },
    {
     "name": "stdout",
     "output_type": "stream",
     "text": [
      "Mon Sep 11 10:09:25 2023 Fold 3, Epoch 53, lr: 0.0000086, train loss: 0.35620, valid loss: 0.35089, metric: 0.350895.\n",
      "Mon Sep 11 10:09:25 2023 Epoch: 54\n"
     ]
    },
    {
     "name": "stderr",
     "output_type": "stream",
     "text": [
      "smth:0.3196: 100%|██████████| 1000/1000 [03:54<00:00,  4.26it/s]\n",
      "smth:0.3722: 100%|██████████| 941/941 [02:09<00:00,  7.28it/s]\n"
     ]
    },
    {
     "name": "stdout",
     "output_type": "stream",
     "text": [
      "Mon Sep 11 10:15:30 2023 Fold 3, Epoch 54, lr: 0.0000066, train loss: 0.34210, valid loss: 0.35207, metric: 0.352075.\n",
      "Mon Sep 11 10:15:31 2023 Epoch: 55\n"
     ]
    },
    {
     "name": "stderr",
     "output_type": "stream",
     "text": [
      "smth:0.2414: 100%|██████████| 1000/1000 [03:52<00:00,  4.30it/s]\n",
      "smth:0.3237: 100%|██████████| 941/941 [02:11<00:00,  7.18it/s]\n"
     ]
    },
    {
     "name": "stdout",
     "output_type": "stream",
     "text": [
      "Mon Sep 11 10:21:35 2023 Fold 3, Epoch 55, lr: 0.0000049, train loss: 0.36159, valid loss: 0.36144, metric: 0.361438.\n",
      "Mon Sep 11 10:21:35 2023 Epoch: 56\n"
     ]
    },
    {
     "name": "stderr",
     "output_type": "stream",
     "text": [
      "smth:0.2591: 100%|██████████| 1000/1000 [03:58<00:00,  4.19it/s]\n",
      "smth:0.3203: 100%|██████████| 941/941 [02:12<00:00,  7.11it/s]\n"
     ]
    },
    {
     "name": "stdout",
     "output_type": "stream",
     "text": [
      "Mon Sep 11 10:27:48 2023 Fold 3, Epoch 56, lr: 0.0000034, train loss: 0.35133, valid loss: 0.35355, metric: 0.353548.\n",
      "Mon Sep 11 10:27:48 2023 Epoch: 57\n"
     ]
    },
    {
     "name": "stderr",
     "output_type": "stream",
     "text": [
      "smth:0.2587: 100%|██████████| 1000/1000 [04:01<00:00,  4.15it/s]\n",
      "smth:0.3393: 100%|██████████| 941/941 [02:12<00:00,  7.10it/s]\n"
     ]
    },
    {
     "name": "stdout",
     "output_type": "stream",
     "text": [
      "Mon Sep 11 10:34:03 2023 Fold 3, Epoch 57, lr: 0.0000022, train loss: 0.35756, valid loss: 0.34697, metric: 0.346974.\n",
      "Mon Sep 11 10:34:03 2023 Epoch: 58\n"
     ]
    },
    {
     "name": "stderr",
     "output_type": "stream",
     "text": [
      "smth:0.2867: 100%|██████████| 1000/1000 [04:00<00:00,  4.15it/s]\n",
      "smth:0.3580: 100%|██████████| 941/941 [02:12<00:00,  7.08it/s]\n"
     ]
    },
    {
     "name": "stdout",
     "output_type": "stream",
     "text": [
      "Mon Sep 11 10:40:18 2023 Fold 3, Epoch 58, lr: 0.0000012, train loss: 0.37939, valid loss: 0.35267, metric: 0.352666.\n",
      "Mon Sep 11 10:40:18 2023 Epoch: 59\n"
     ]
    },
    {
     "name": "stderr",
     "output_type": "stream",
     "text": [
      "smth:0.2971: 100%|██████████| 1000/1000 [03:55<00:00,  4.24it/s]\n",
      "smth:0.3563: 100%|██████████| 941/941 [02:06<00:00,  7.46it/s]\n"
     ]
    },
    {
     "name": "stdout",
     "output_type": "stream",
     "text": [
      "Mon Sep 11 10:46:21 2023 Fold 3, Epoch 59, lr: 0.0000005, train loss: 0.34991, valid loss: 0.35178, metric: 0.351781.\n",
      "Mon Sep 11 10:46:21 2023 Epoch: 60\n"
     ]
    },
    {
     "name": "stderr",
     "output_type": "stream",
     "text": [
      "smth:0.3390: 100%|██████████| 1000/1000 [03:50<00:00,  4.34it/s]\n",
      "smth:0.3993: 100%|██████████| 941/941 [02:06<00:00,  7.43it/s]\n"
     ]
    },
    {
     "name": "stdout",
     "output_type": "stream",
     "text": [
      "Mon Sep 11 10:52:20 2023 Fold 3, Epoch 60, lr: 0.0000001, train loss: 0.36108, valid loss: 0.34964, metric: 0.349642.\n",
      "class_counts label1\n",
      "0    10219\n",
      "1      712\n",
      "2      331\n",
      "Name: count, dtype: int64\n",
      "11262 2871\n",
      "Mon Sep 11 10:52:22 2023 Epoch: 1\n"
     ]
    },
    {
     "name": "stderr",
     "output_type": "stream",
     "text": [
      "smth:0.7297: 100%|██████████| 1000/1000 [03:48<00:00,  4.38it/s]\n",
      "smth:0.2991: 100%|██████████| 957/957 [02:11<00:00,  7.27it/s]\n"
     ]
    },
    {
     "name": "stdout",
     "output_type": "stream",
     "text": [
      "Mon Sep 11 10:58:23 2023 Fold 4, Epoch 1, lr: 0.0002000, train loss: 0.70309, valid loss: 0.57258, metric: 0.572584.\n",
      "metric_best (inf --> 0.572584). Saving model ...\n",
      "Mon Sep 11 10:58:23 2023 Epoch: 2\n"
     ]
    },
    {
     "name": "stderr",
     "output_type": "stream",
     "text": [
      "smth:0.5976: 100%|██████████| 1000/1000 [03:51<00:00,  4.33it/s]\n",
      "smth:0.2880: 100%|██████████| 957/957 [02:08<00:00,  7.44it/s]\n"
     ]
    },
    {
     "name": "stdout",
     "output_type": "stream",
     "text": [
      "Mon Sep 11 11:04:24 2023 Fold 4, Epoch 2, lr: 0.0001999, train loss: 0.66615, valid loss: 0.53142, metric: 0.531425.\n",
      "metric_best (0.572584 --> 0.531425). Saving model ...\n",
      "Mon Sep 11 11:04:25 2023 Epoch: 3\n"
     ]
    },
    {
     "name": "stderr",
     "output_type": "stream",
     "text": [
      "smth:0.5376: 100%|██████████| 1000/1000 [03:51<00:00,  4.33it/s]\n",
      "smth:0.2745: 100%|██████████| 957/957 [02:08<00:00,  7.48it/s]\n"
     ]
    },
    {
     "name": "stdout",
     "output_type": "stream",
     "text": [
      "Mon Sep 11 11:10:25 2023 Fold 4, Epoch 3, lr: 0.0001995, train loss: 0.60575, valid loss: 0.54428, metric: 0.544284.\n",
      "Mon Sep 11 11:10:26 2023 Epoch: 4\n"
     ]
    },
    {
     "name": "stderr",
     "output_type": "stream",
     "text": [
      "smth:0.5583: 100%|██████████| 1000/1000 [03:51<00:00,  4.32it/s]\n",
      "smth:0.3286: 100%|██████████| 957/957 [02:08<00:00,  7.42it/s]\n"
     ]
    },
    {
     "name": "stdout",
     "output_type": "stream",
     "text": [
      "Mon Sep 11 11:16:27 2023 Fold 4, Epoch 4, lr: 0.0001988, train loss: 0.62280, valid loss: 0.54649, metric: 0.546486.\n",
      "Mon Sep 11 11:16:27 2023 Epoch: 5\n"
     ]
    },
    {
     "name": "stderr",
     "output_type": "stream",
     "text": [
      "smth:0.6760: 100%|██████████| 1000/1000 [03:51<00:00,  4.32it/s]\n",
      "smth:0.2567: 100%|██████████| 957/957 [02:11<00:00,  7.28it/s]\n"
     ]
    },
    {
     "name": "stdout",
     "output_type": "stream",
     "text": [
      "Mon Sep 11 11:22:31 2023 Fold 4, Epoch 5, lr: 0.0001978, train loss: 0.63420, valid loss: 0.51384, metric: 0.513841.\n",
      "metric_best (0.531425 --> 0.513841). Saving model ...\n",
      "Mon Sep 11 11:22:32 2023 Epoch: 6\n"
     ]
    },
    {
     "name": "stderr",
     "output_type": "stream",
     "text": [
      "smth:0.5578: 100%|██████████| 1000/1000 [03:59<00:00,  4.18it/s]\n",
      "smth:0.2548: 100%|██████████| 957/957 [02:18<00:00,  6.92it/s]\n"
     ]
    },
    {
     "name": "stdout",
     "output_type": "stream",
     "text": [
      "Mon Sep 11 11:28:51 2023 Fold 4, Epoch 6, lr: 0.0001966, train loss: 0.61139, valid loss: 0.49356, metric: 0.493556.\n",
      "metric_best (0.513841 --> 0.493556). Saving model ...\n",
      "Mon Sep 11 11:28:51 2023 Epoch: 7\n"
     ]
    },
    {
     "name": "stderr",
     "output_type": "stream",
     "text": [
      "smth:0.6066: 100%|██████████| 1000/1000 [03:59<00:00,  4.18it/s]\n",
      "smth:0.2215: 100%|██████████| 957/957 [02:15<00:00,  7.07it/s]\n"
     ]
    },
    {
     "name": "stdout",
     "output_type": "stream",
     "text": [
      "Mon Sep 11 11:35:07 2023 Fold 4, Epoch 7, lr: 0.0001951, train loss: 0.58295, valid loss: 0.49149, metric: 0.491494.\n",
      "metric_best (0.493556 --> 0.491494). Saving model ...\n",
      "Mon Sep 11 11:35:07 2023 Epoch: 8\n"
     ]
    },
    {
     "name": "stderr",
     "output_type": "stream",
     "text": [
      "smth:0.4087: 100%|██████████| 1000/1000 [03:58<00:00,  4.19it/s]\n",
      "smth:0.2012: 100%|██████████| 957/957 [02:11<00:00,  7.30it/s]\n"
     ]
    },
    {
     "name": "stdout",
     "output_type": "stream",
     "text": [
      "Mon Sep 11 11:41:18 2023 Fold 4, Epoch 8, lr: 0.0001934, train loss: 0.57465, valid loss: 0.47896, metric: 0.478963.\n",
      "metric_best (0.491494 --> 0.478963). Saving model ...\n",
      "Mon Sep 11 11:41:18 2023 Epoch: 9\n"
     ]
    },
    {
     "name": "stderr",
     "output_type": "stream",
     "text": [
      "smth:0.6433: 100%|██████████| 1000/1000 [03:55<00:00,  4.25it/s]\n",
      "smth:0.2128: 100%|██████████| 957/957 [02:12<00:00,  7.22it/s]\n"
     ]
    },
    {
     "name": "stdout",
     "output_type": "stream",
     "text": [
      "Mon Sep 11 11:47:27 2023 Fold 4, Epoch 9, lr: 0.0001914, train loss: 0.53776, valid loss: 0.45274, metric: 0.452739.\n",
      "metric_best (0.478963 --> 0.452739). Saving model ...\n",
      "Mon Sep 11 11:47:28 2023 Epoch: 10\n"
     ]
    },
    {
     "name": "stderr",
     "output_type": "stream",
     "text": [
      "smth:0.6243: 100%|██████████| 1000/1000 [03:55<00:00,  4.25it/s]\n",
      "smth:0.2741: 100%|██████████| 957/957 [02:11<00:00,  7.28it/s]\n"
     ]
    },
    {
     "name": "stdout",
     "output_type": "stream",
     "text": [
      "Mon Sep 11 11:53:36 2023 Fold 4, Epoch 10, lr: 0.0001891, train loss: 0.57358, valid loss: 0.48282, metric: 0.482821.\n",
      "Mon Sep 11 11:53:36 2023 Epoch: 11\n"
     ]
    },
    {
     "name": "stderr",
     "output_type": "stream",
     "text": [
      "smth:0.6744: 100%|██████████| 1000/1000 [04:03<00:00,  4.10it/s]\n",
      "smth:0.2035: 100%|██████████| 957/957 [02:16<00:00,  7.04it/s]\n"
     ]
    },
    {
     "name": "stdout",
     "output_type": "stream",
     "text": [
      "Mon Sep 11 11:59:57 2023 Fold 4, Epoch 11, lr: 0.0001866, train loss: 0.56369, valid loss: 0.45921, metric: 0.459208.\n",
      "Mon Sep 11 11:59:57 2023 Epoch: 12\n"
     ]
    },
    {
     "name": "stderr",
     "output_type": "stream",
     "text": [
      "smth:0.3820: 100%|██████████| 1000/1000 [04:01<00:00,  4.14it/s]\n",
      "smth:0.2017: 100%|██████████| 957/957 [02:18<00:00,  6.93it/s]\n"
     ]
    },
    {
     "name": "stdout",
     "output_type": "stream",
     "text": [
      "Mon Sep 11 12:06:18 2023 Fold 4, Epoch 12, lr: 0.0001839, train loss: 0.52734, valid loss: 0.42970, metric: 0.429698.\n",
      "metric_best (0.452739 --> 0.429698). Saving model ...\n",
      "Mon Sep 11 12:06:19 2023 Epoch: 13\n"
     ]
    },
    {
     "name": "stderr",
     "output_type": "stream",
     "text": [
      "smth:0.3812: 100%|██████████| 1000/1000 [03:58<00:00,  4.19it/s]\n",
      "smth:0.1617: 100%|██████████| 957/957 [02:12<00:00,  7.25it/s]\n"
     ]
    },
    {
     "name": "stdout",
     "output_type": "stream",
     "text": [
      "Mon Sep 11 12:12:31 2023 Fold 4, Epoch 13, lr: 0.0001809, train loss: 0.53646, valid loss: 0.43339, metric: 0.433387.\n",
      "Mon Sep 11 12:12:31 2023 Epoch: 14\n"
     ]
    },
    {
     "name": "stderr",
     "output_type": "stream",
     "text": [
      "smth:0.4426: 100%|██████████| 1000/1000 [03:55<00:00,  4.25it/s]\n",
      "smth:0.2593: 100%|██████████| 957/957 [02:11<00:00,  7.28it/s]\n"
     ]
    },
    {
     "name": "stdout",
     "output_type": "stream",
     "text": [
      "Mon Sep 11 12:18:39 2023 Fold 4, Epoch 14, lr: 0.0001777, train loss: 0.52182, valid loss: 0.43653, metric: 0.436534.\n",
      "Mon Sep 11 12:18:39 2023 Epoch: 15\n"
     ]
    },
    {
     "name": "stderr",
     "output_type": "stream",
     "text": [
      "smth:0.6112: 100%|██████████| 1000/1000 [03:56<00:00,  4.23it/s]\n",
      "smth:0.1782: 100%|██████████| 957/957 [02:16<00:00,  7.03it/s]\n"
     ]
    },
    {
     "name": "stdout",
     "output_type": "stream",
     "text": [
      "Mon Sep 11 12:24:52 2023 Fold 4, Epoch 15, lr: 0.0001743, train loss: 0.48660, valid loss: 0.41598, metric: 0.415980.\n",
      "metric_best (0.429698 --> 0.415980). Saving model ...\n",
      "Mon Sep 11 12:24:53 2023 Epoch: 16\n"
     ]
    },
    {
     "name": "stderr",
     "output_type": "stream",
     "text": [
      "smth:0.4767: 100%|██████████| 1000/1000 [04:01<00:00,  4.14it/s]\n",
      "smth:0.2381: 100%|██████████| 957/957 [02:15<00:00,  7.08it/s]\n"
     ]
    },
    {
     "name": "stdout",
     "output_type": "stream",
     "text": [
      "Mon Sep 11 12:31:11 2023 Fold 4, Epoch 16, lr: 0.0001707, train loss: 0.50936, valid loss: 0.41503, metric: 0.415029.\n",
      "metric_best (0.415980 --> 0.415029). Saving model ...\n",
      "Mon Sep 11 12:31:11 2023 Epoch: 17\n"
     ]
    },
    {
     "name": "stderr",
     "output_type": "stream",
     "text": [
      "smth:0.6691: 100%|██████████| 1000/1000 [03:59<00:00,  4.18it/s]\n",
      "smth:0.1923: 100%|██████████| 957/957 [02:19<00:00,  6.87it/s]\n"
     ]
    },
    {
     "name": "stdout",
     "output_type": "stream",
     "text": [
      "Mon Sep 11 12:37:31 2023 Fold 4, Epoch 17, lr: 0.0001669, train loss: 0.52190, valid loss: 0.43165, metric: 0.431652.\n",
      "Mon Sep 11 12:37:31 2023 Epoch: 18\n"
     ]
    },
    {
     "name": "stderr",
     "output_type": "stream",
     "text": [
      "smth:0.4489: 100%|██████████| 1000/1000 [03:59<00:00,  4.17it/s]\n",
      "smth:0.1741: 100%|██████████| 957/957 [02:15<00:00,  7.04it/s]\n"
     ]
    },
    {
     "name": "stdout",
     "output_type": "stream",
     "text": [
      "Mon Sep 11 12:43:48 2023 Fold 4, Epoch 18, lr: 0.0001629, train loss: 0.48698, valid loss: 0.46127, metric: 0.461271.\n",
      "Mon Sep 11 12:43:48 2023 Epoch: 19\n"
     ]
    },
    {
     "name": "stderr",
     "output_type": "stream",
     "text": [
      "smth:0.5833: 100%|██████████| 1000/1000 [04:02<00:00,  4.12it/s]\n",
      "smth:0.1976: 100%|██████████| 957/957 [02:15<00:00,  7.06it/s]\n"
     ]
    },
    {
     "name": "stdout",
     "output_type": "stream",
     "text": [
      "Mon Sep 11 12:50:08 2023 Fold 4, Epoch 19, lr: 0.0001588, train loss: 0.48857, valid loss: 0.39588, metric: 0.395884.\n",
      "metric_best (0.415029 --> 0.395884). Saving model ...\n",
      "Mon Sep 11 12:50:08 2023 Epoch: 20\n"
     ]
    },
    {
     "name": "stderr",
     "output_type": "stream",
     "text": [
      "smth:0.3112: 100%|██████████| 1000/1000 [04:01<00:00,  4.14it/s]\n",
      "smth:0.1821: 100%|██████████| 957/957 [02:14<00:00,  7.12it/s]\n"
     ]
    },
    {
     "name": "stdout",
     "output_type": "stream",
     "text": [
      "Mon Sep 11 12:56:25 2023 Fold 4, Epoch 20, lr: 0.0001545, train loss: 0.47576, valid loss: 0.40555, metric: 0.405546.\n",
      "Mon Sep 11 12:56:26 2023 Epoch: 21\n"
     ]
    },
    {
     "name": "stderr",
     "output_type": "stream",
     "text": [
      "smth:0.4179: 100%|██████████| 1000/1000 [03:58<00:00,  4.19it/s]\n",
      "smth:0.2424: 100%|██████████| 957/957 [02:11<00:00,  7.27it/s]\n"
     ]
    },
    {
     "name": "stdout",
     "output_type": "stream",
     "text": [
      "Mon Sep 11 13:02:37 2023 Fold 4, Epoch 21, lr: 0.0001500, train loss: 0.45830, valid loss: 0.44313, metric: 0.443125.\n",
      "Mon Sep 11 13:02:38 2023 Epoch: 22\n"
     ]
    },
    {
     "name": "stderr",
     "output_type": "stream",
     "text": [
      "smth:0.5197: 100%|██████████| 1000/1000 [03:54<00:00,  4.26it/s]\n",
      "smth:0.2007: 100%|██████████| 957/957 [02:14<00:00,  7.12it/s]\n"
     ]
    },
    {
     "name": "stdout",
     "output_type": "stream",
     "text": [
      "Mon Sep 11 13:08:48 2023 Fold 4, Epoch 22, lr: 0.0001454, train loss: 0.48041, valid loss: 0.42499, metric: 0.424986.\n",
      "Mon Sep 11 13:08:48 2023 Epoch: 23\n"
     ]
    },
    {
     "name": "stderr",
     "output_type": "stream",
     "text": [
      "smth:0.4671: 100%|██████████| 1000/1000 [04:00<00:00,  4.16it/s]\n",
      "smth:0.2729: 100%|██████████| 957/957 [02:15<00:00,  7.07it/s]\n"
     ]
    },
    {
     "name": "stdout",
     "output_type": "stream",
     "text": [
      "Mon Sep 11 13:15:05 2023 Fold 4, Epoch 23, lr: 0.0001407, train loss: 0.45656, valid loss: 0.44615, metric: 0.446153.\n",
      "Mon Sep 11 13:15:05 2023 Epoch: 24\n"
     ]
    },
    {
     "name": "stderr",
     "output_type": "stream",
     "text": [
      "smth:0.3666: 100%|██████████| 1000/1000 [04:02<00:00,  4.13it/s]\n",
      "smth:0.2459: 100%|██████████| 957/957 [02:14<00:00,  7.11it/s]\n"
     ]
    },
    {
     "name": "stdout",
     "output_type": "stream",
     "text": [
      "Mon Sep 11 13:21:23 2023 Fold 4, Epoch 24, lr: 0.0001358, train loss: 0.45368, valid loss: 0.43614, metric: 0.436142.\n",
      "Mon Sep 11 13:21:23 2023 Epoch: 25\n"
     ]
    },
    {
     "name": "stderr",
     "output_type": "stream",
     "text": [
      "smth:0.4550: 100%|██████████| 1000/1000 [03:57<00:00,  4.20it/s]\n",
      "smth:0.2017: 100%|██████████| 957/957 [02:11<00:00,  7.27it/s]\n"
     ]
    },
    {
     "name": "stdout",
     "output_type": "stream",
     "text": [
      "Mon Sep 11 13:27:34 2023 Fold 4, Epoch 25, lr: 0.0001309, train loss: 0.44732, valid loss: 0.40519, metric: 0.405192.\n",
      "Mon Sep 11 13:27:34 2023 Epoch: 26\n"
     ]
    },
    {
     "name": "stderr",
     "output_type": "stream",
     "text": [
      "smth:0.4130: 100%|██████████| 1000/1000 [03:54<00:00,  4.26it/s]\n",
      "smth:0.2111: 100%|██████████| 957/957 [02:12<00:00,  7.24it/s]\n"
     ]
    },
    {
     "name": "stdout",
     "output_type": "stream",
     "text": [
      "Mon Sep 11 13:33:43 2023 Fold 4, Epoch 26, lr: 0.0001259, train loss: 0.43759, valid loss: 0.42181, metric: 0.421815.\n",
      "Mon Sep 11 13:33:43 2023 Epoch: 27\n"
     ]
    },
    {
     "name": "stderr",
     "output_type": "stream",
     "text": [
      "smth:0.4857: 100%|██████████| 1000/1000 [03:54<00:00,  4.26it/s]\n",
      "smth:0.1617: 100%|██████████| 957/957 [02:12<00:00,  7.25it/s]\n"
     ]
    },
    {
     "name": "stdout",
     "output_type": "stream",
     "text": [
      "Mon Sep 11 13:39:51 2023 Fold 4, Epoch 27, lr: 0.0001208, train loss: 0.44011, valid loss: 0.43098, metric: 0.430984.\n",
      "Mon Sep 11 13:39:51 2023 Epoch: 28\n"
     ]
    },
    {
     "name": "stderr",
     "output_type": "stream",
     "text": [
      "smth:0.5269: 100%|██████████| 1000/1000 [03:52<00:00,  4.31it/s]\n",
      "smth:0.2244: 100%|██████████| 957/957 [02:18<00:00,  6.93it/s]\n"
     ]
    },
    {
     "name": "stdout",
     "output_type": "stream",
     "text": [
      "Mon Sep 11 13:46:03 2023 Fold 4, Epoch 28, lr: 0.0001156, train loss: 0.43800, valid loss: 0.42599, metric: 0.425986.\n",
      "Mon Sep 11 13:46:03 2023 Epoch: 29\n"
     ]
    },
    {
     "name": "stderr",
     "output_type": "stream",
     "text": [
      "smth:0.3645: 100%|██████████| 1000/1000 [03:58<00:00,  4.19it/s]\n",
      "smth:0.1735: 100%|██████████| 957/957 [02:13<00:00,  7.16it/s]\n"
     ]
    },
    {
     "name": "stdout",
     "output_type": "stream",
     "text": [
      "Mon Sep 11 13:52:16 2023 Fold 4, Epoch 29, lr: 0.0001105, train loss: 0.44870, valid loss: 0.39685, metric: 0.396849.\n",
      "Mon Sep 11 13:52:17 2023 Epoch: 30\n"
     ]
    },
    {
     "name": "stderr",
     "output_type": "stream",
     "text": [
      "smth:0.4228: 100%|██████████| 1000/1000 [03:55<00:00,  4.24it/s]\n",
      "smth:0.1609: 100%|██████████| 957/957 [02:13<00:00,  7.17it/s]\n"
     ]
    },
    {
     "name": "stdout",
     "output_type": "stream",
     "text": [
      "Mon Sep 11 13:58:27 2023 Fold 4, Epoch 30, lr: 0.0001052, train loss: 0.42891, valid loss: 0.40842, metric: 0.408416.\n",
      "Mon Sep 11 13:58:27 2023 Epoch: 31\n"
     ]
    },
    {
     "name": "stderr",
     "output_type": "stream",
     "text": [
      "smth:0.3651: 100%|██████████| 1000/1000 [03:56<00:00,  4.24it/s]\n",
      "smth:0.2028: 100%|██████████| 957/957 [02:12<00:00,  7.20it/s]\n"
     ]
    },
    {
     "name": "stdout",
     "output_type": "stream",
     "text": [
      "Mon Sep 11 14:04:37 2023 Fold 4, Epoch 31, lr: 0.0001000, train loss: 0.43229, valid loss: 0.41053, metric: 0.410533.\n",
      "Mon Sep 11 14:04:38 2023 Epoch: 32\n"
     ]
    },
    {
     "name": "stderr",
     "output_type": "stream",
     "text": [
      "smth:0.4945: 100%|██████████| 1000/1000 [03:55<00:00,  4.25it/s]\n",
      "smth:0.1730: 100%|██████████| 957/957 [02:12<00:00,  7.22it/s]\n"
     ]
    },
    {
     "name": "stdout",
     "output_type": "stream",
     "text": [
      "Mon Sep 11 14:10:47 2023 Fold 4, Epoch 32, lr: 0.0000948, train loss: 0.42091, valid loss: 0.41538, metric: 0.415384.\n",
      "Mon Sep 11 14:10:47 2023 Epoch: 33\n"
     ]
    },
    {
     "name": "stderr",
     "output_type": "stream",
     "text": [
      "smth:0.3728: 100%|██████████| 1000/1000 [03:55<00:00,  4.25it/s]\n",
      "smth:0.2070: 100%|██████████| 957/957 [02:11<00:00,  7.27it/s]\n"
     ]
    },
    {
     "name": "stdout",
     "output_type": "stream",
     "text": [
      "Mon Sep 11 14:16:55 2023 Fold 4, Epoch 33, lr: 0.0000895, train loss: 0.40101, valid loss: 0.43817, metric: 0.438173.\n",
      "Mon Sep 11 14:16:55 2023 Epoch: 34\n"
     ]
    },
    {
     "name": "stderr",
     "output_type": "stream",
     "text": [
      "smth:0.2738: 100%|██████████| 1000/1000 [03:53<00:00,  4.29it/s]\n",
      "smth:0.1359: 100%|██████████| 957/957 [02:15<00:00,  7.04it/s]\n"
     ]
    },
    {
     "name": "stdout",
     "output_type": "stream",
     "text": [
      "Mon Sep 11 14:23:06 2023 Fold 4, Epoch 34, lr: 0.0000844, train loss: 0.39746, valid loss: 0.44738, metric: 0.447381.\n",
      "Mon Sep 11 14:23:09 2023 Epoch: 35\n"
     ]
    },
    {
     "name": "stderr",
     "output_type": "stream",
     "text": [
      "smth:0.3834: 100%|██████████| 1000/1000 [04:02<00:00,  4.13it/s]\n",
      "smth:0.1592: 100%|██████████| 957/957 [02:16<00:00,  6.99it/s]\n"
     ]
    },
    {
     "name": "stdout",
     "output_type": "stream",
     "text": [
      "Mon Sep 11 14:29:30 2023 Fold 4, Epoch 35, lr: 0.0000792, train loss: 0.42402, valid loss: 0.39649, metric: 0.396494.\n",
      "Mon Sep 11 14:29:30 2023 Epoch: 36\n"
     ]
    },
    {
     "name": "stderr",
     "output_type": "stream",
     "text": [
      "smth:0.4235: 100%|██████████| 1000/1000 [04:08<00:00,  4.03it/s]\n",
      "smth:0.1646: 100%|██████████| 957/957 [02:16<00:00,  7.01it/s]\n"
     ]
    },
    {
     "name": "stdout",
     "output_type": "stream",
     "text": [
      "Mon Sep 11 14:35:56 2023 Fold 4, Epoch 36, lr: 0.0000741, train loss: 0.38440, valid loss: 0.44912, metric: 0.449123.\n",
      "Mon Sep 11 14:35:56 2023 Epoch: 37\n"
     ]
    },
    {
     "name": "stderr",
     "output_type": "stream",
     "text": [
      "smth:0.3836: 100%|██████████| 1000/1000 [04:04<00:00,  4.10it/s]\n",
      "smth:0.1832: 100%|██████████| 957/957 [02:15<00:00,  7.05it/s]\n"
     ]
    },
    {
     "name": "stdout",
     "output_type": "stream",
     "text": [
      "Mon Sep 11 14:42:17 2023 Fold 4, Epoch 37, lr: 0.0000691, train loss: 0.41354, valid loss: 0.39746, metric: 0.397464.\n",
      "Mon Sep 11 14:42:17 2023 Epoch: 38\n"
     ]
    },
    {
     "name": "stderr",
     "output_type": "stream",
     "text": [
      "smth:0.3268: 100%|██████████| 1000/1000 [04:03<00:00,  4.10it/s]\n",
      "smth:0.1588: 100%|██████████| 957/957 [02:15<00:00,  7.04it/s]\n"
     ]
    },
    {
     "name": "stdout",
     "output_type": "stream",
     "text": [
      "Mon Sep 11 14:48:38 2023 Fold 4, Epoch 38, lr: 0.0000642, train loss: 0.38048, valid loss: 0.41362, metric: 0.413624.\n",
      "Mon Sep 11 14:48:39 2023 Epoch: 39\n"
     ]
    },
    {
     "name": "stderr",
     "output_type": "stream",
     "text": [
      "smth:0.4483: 100%|██████████| 1000/1000 [03:54<00:00,  4.27it/s]\n",
      "smth:0.1798: 100%|██████████| 957/957 [02:12<00:00,  7.22it/s]\n"
     ]
    },
    {
     "name": "stdout",
     "output_type": "stream",
     "text": [
      "Mon Sep 11 14:54:46 2023 Fold 4, Epoch 39, lr: 0.0000593, train loss: 0.38305, valid loss: 0.41159, metric: 0.411590.\n",
      "Mon Sep 11 14:54:50 2023 Epoch: 40\n"
     ]
    },
    {
     "name": "stderr",
     "output_type": "stream",
     "text": [
      "smth:0.2479: 100%|██████████| 1000/1000 [03:58<00:00,  4.19it/s]\n",
      "smth:0.1239: 100%|██████████| 957/957 [02:17<00:00,  6.98it/s]\n"
     ]
    },
    {
     "name": "stdout",
     "output_type": "stream",
     "text": [
      "Mon Sep 11 15:01:07 2023 Fold 4, Epoch 40, lr: 0.0000546, train loss: 0.39696, valid loss: 0.48753, metric: 0.487528.\n",
      "Mon Sep 11 15:01:07 2023 Epoch: 41\n"
     ]
    },
    {
     "name": "stderr",
     "output_type": "stream",
     "text": [
      "smth:0.4066: 100%|██████████| 1000/1000 [04:02<00:00,  4.12it/s]\n",
      "smth:0.1377: 100%|██████████| 957/957 [02:15<00:00,  7.04it/s]\n"
     ]
    },
    {
     "name": "stdout",
     "output_type": "stream",
     "text": [
      "Mon Sep 11 15:07:27 2023 Fold 4, Epoch 41, lr: 0.0000500, train loss: 0.38064, valid loss: 0.46287, metric: 0.462871.\n",
      "Mon Sep 11 15:07:27 2023 Epoch: 42\n"
     ]
    },
    {
     "name": "stderr",
     "output_type": "stream",
     "text": [
      "smth:0.3996: 100%|██████████| 1000/1000 [04:02<00:00,  4.12it/s]\n",
      "smth:0.1142: 100%|██████████| 957/957 [02:12<00:00,  7.23it/s]\n"
     ]
    },
    {
     "name": "stdout",
     "output_type": "stream",
     "text": [
      "Mon Sep 11 15:13:43 2023 Fold 4, Epoch 42, lr: 0.0000455, train loss: 0.36550, valid loss: 0.51657, metric: 0.516571.\n",
      "Mon Sep 11 15:13:44 2023 Epoch: 43\n"
     ]
    },
    {
     "name": "stderr",
     "output_type": "stream",
     "text": [
      "smth:0.3955: 100%|██████████| 1000/1000 [03:59<00:00,  4.17it/s]\n",
      "smth:0.1546: 100%|██████████| 957/957 [02:16<00:00,  7.00it/s]\n"
     ]
    },
    {
     "name": "stdout",
     "output_type": "stream",
     "text": [
      "Mon Sep 11 15:20:01 2023 Fold 4, Epoch 43, lr: 0.0000412, train loss: 0.37818, valid loss: 0.46553, metric: 0.465532.\n",
      "Mon Sep 11 15:20:02 2023 Epoch: 44\n"
     ]
    },
    {
     "name": "stderr",
     "output_type": "stream",
     "text": [
      "smth:0.3312: 100%|██████████| 1000/1000 [03:50<00:00,  4.35it/s]\n",
      "smth:0.1553: 100%|██████████| 957/957 [02:11<00:00,  7.28it/s]\n"
     ]
    },
    {
     "name": "stdout",
     "output_type": "stream",
     "text": [
      "Mon Sep 11 15:26:04 2023 Fold 4, Epoch 44, lr: 0.0000371, train loss: 0.36290, valid loss: 0.47362, metric: 0.473620.\n",
      "Mon Sep 11 15:26:04 2023 Epoch: 45\n"
     ]
    },
    {
     "name": "stderr",
     "output_type": "stream",
     "text": [
      "smth:0.2498: 100%|██████████| 1000/1000 [03:48<00:00,  4.37it/s]\n",
      "smth:0.1136: 100%|██████████| 957/957 [02:13<00:00,  7.16it/s]\n"
     ]
    },
    {
     "name": "stdout",
     "output_type": "stream",
     "text": [
      "Mon Sep 11 15:32:08 2023 Fold 4, Epoch 45, lr: 0.0000331, train loss: 0.36377, valid loss: 0.48953, metric: 0.489527.\n",
      "Mon Sep 11 15:32:09 2023 Epoch: 46\n"
     ]
    },
    {
     "name": "stderr",
     "output_type": "stream",
     "text": [
      "smth:0.3132: 100%|██████████| 1000/1000 [04:04<00:00,  4.08it/s]\n",
      "smth:0.1371: 100%|██████████| 957/957 [02:16<00:00,  6.99it/s]\n"
     ]
    },
    {
     "name": "stdout",
     "output_type": "stream",
     "text": [
      "Mon Sep 11 15:38:32 2023 Fold 4, Epoch 46, lr: 0.0000293, train loss: 0.35667, valid loss: 0.48004, metric: 0.480041.\n",
      "Mon Sep 11 15:38:32 2023 Epoch: 47\n"
     ]
    },
    {
     "name": "stderr",
     "output_type": "stream",
     "text": [
      "smth:0.4119: 100%|██████████| 1000/1000 [04:04<00:00,  4.09it/s]\n",
      "smth:0.1024: 100%|██████████| 957/957 [02:16<00:00,  6.99it/s]\n"
     ]
    },
    {
     "name": "stdout",
     "output_type": "stream",
     "text": [
      "Mon Sep 11 15:44:55 2023 Fold 4, Epoch 47, lr: 0.0000257, train loss: 0.36296, valid loss: 0.50457, metric: 0.504575.\n",
      "Mon Sep 11 15:44:55 2023 Epoch: 48\n"
     ]
    },
    {
     "name": "stderr",
     "output_type": "stream",
     "text": [
      "smth:0.3796: 100%|██████████| 1000/1000 [04:05<00:00,  4.08it/s]\n",
      "smth:0.0963: 100%|██████████| 957/957 [02:14<00:00,  7.12it/s]\n"
     ]
    },
    {
     "name": "stdout",
     "output_type": "stream",
     "text": [
      "Mon Sep 11 15:51:16 2023 Fold 4, Epoch 48, lr: 0.0000223, train loss: 0.33268, valid loss: 0.49274, metric: 0.492740.\n",
      "Mon Sep 11 15:51:16 2023 Epoch: 49\n"
     ]
    },
    {
     "name": "stderr",
     "output_type": "stream",
     "text": [
      "smth:0.6202: 100%|██████████| 1000/1000 [03:55<00:00,  4.25it/s]\n",
      "smth:0.0952: 100%|██████████| 957/957 [02:13<00:00,  7.18it/s]\n"
     ]
    },
    {
     "name": "stdout",
     "output_type": "stream",
     "text": [
      "Mon Sep 11 15:57:27 2023 Fold 4, Epoch 49, lr: 0.0000191, train loss: 0.37743, valid loss: 0.47815, metric: 0.478153.\n",
      "Mon Sep 11 15:57:27 2023 Epoch: 50\n"
     ]
    },
    {
     "name": "stderr",
     "output_type": "stream",
     "text": [
      "smth:0.3772: 100%|██████████| 1000/1000 [03:54<00:00,  4.26it/s]\n",
      "smth:0.1116: 100%|██████████| 957/957 [02:13<00:00,  7.19it/s]\n"
     ]
    },
    {
     "name": "stdout",
     "output_type": "stream",
     "text": [
      "Mon Sep 11 16:03:37 2023 Fold 4, Epoch 50, lr: 0.0000161, train loss: 0.36654, valid loss: 0.54127, metric: 0.541268.\n",
      "Mon Sep 11 16:03:37 2023 Epoch: 51\n"
     ]
    },
    {
     "name": "stderr",
     "output_type": "stream",
     "text": [
      "smth:0.2562: 100%|██████████| 1000/1000 [03:56<00:00,  4.23it/s]\n",
      "smth:0.1106: 100%|██████████| 957/957 [02:13<00:00,  7.19it/s]\n"
     ]
    },
    {
     "name": "stdout",
     "output_type": "stream",
     "text": [
      "Mon Sep 11 16:09:48 2023 Fold 4, Epoch 51, lr: 0.0000134, train loss: 0.34260, valid loss: 0.51428, metric: 0.514282.\n",
      "Mon Sep 11 16:09:48 2023 Epoch: 52\n"
     ]
    },
    {
     "name": "stderr",
     "output_type": "stream",
     "text": [
      "smth:0.4494: 100%|██████████| 1000/1000 [03:56<00:00,  4.23it/s]\n",
      "smth:0.1400: 100%|██████████| 957/957 [02:12<00:00,  7.20it/s]\n"
     ]
    },
    {
     "name": "stdout",
     "output_type": "stream",
     "text": [
      "Mon Sep 11 16:15:59 2023 Fold 4, Epoch 52, lr: 0.0000109, train loss: 0.34182, valid loss: 0.47131, metric: 0.471312.\n",
      "Mon Sep 11 16:15:59 2023 Epoch: 53\n"
     ]
    },
    {
     "name": "stderr",
     "output_type": "stream",
     "text": [
      "smth:0.3953: 100%|██████████| 1000/1000 [03:55<00:00,  4.25it/s]\n",
      "smth:0.1009: 100%|██████████| 957/957 [02:14<00:00,  7.10it/s]\n"
     ]
    },
    {
     "name": "stdout",
     "output_type": "stream",
     "text": [
      "Mon Sep 11 16:22:10 2023 Fold 4, Epoch 53, lr: 0.0000086, train loss: 0.35657, valid loss: 0.48494, metric: 0.484939.\n",
      "Mon Sep 11 16:22:10 2023 Epoch: 54\n"
     ]
    },
    {
     "name": "stderr",
     "output_type": "stream",
     "text": [
      "smth:0.2640: 100%|██████████| 1000/1000 [04:02<00:00,  4.12it/s]\n",
      "smth:0.0983: 100%|██████████| 957/957 [02:18<00:00,  6.91it/s]\n"
     ]
    },
    {
     "name": "stdout",
     "output_type": "stream",
     "text": [
      "Mon Sep 11 16:28:32 2023 Fold 4, Epoch 54, lr: 0.0000066, train loss: 0.33123, valid loss: 0.49995, metric: 0.499946.\n",
      "Mon Sep 11 16:28:33 2023 Epoch: 55\n"
     ]
    },
    {
     "name": "stderr",
     "output_type": "stream",
     "text": [
      "smth:0.2717: 100%|██████████| 1000/1000 [04:01<00:00,  4.14it/s]\n",
      "smth:0.1230: 100%|██████████| 957/957 [02:15<00:00,  7.06it/s]\n"
     ]
    },
    {
     "name": "stdout",
     "output_type": "stream",
     "text": [
      "Mon Sep 11 16:34:51 2023 Fold 4, Epoch 55, lr: 0.0000049, train loss: 0.34194, valid loss: 0.46689, metric: 0.466893.\n",
      "Mon Sep 11 16:34:51 2023 Epoch: 56\n"
     ]
    },
    {
     "name": "stderr",
     "output_type": "stream",
     "text": [
      "smth:0.2280: 100%|██████████| 1000/1000 [04:03<00:00,  4.11it/s]\n",
      "smth:0.0966: 100%|██████████| 957/957 [02:17<00:00,  6.98it/s]\n"
     ]
    },
    {
     "name": "stdout",
     "output_type": "stream",
     "text": [
      "Mon Sep 11 16:41:13 2023 Fold 4, Epoch 56, lr: 0.0000034, train loss: 0.30899, valid loss: 0.48020, metric: 0.480201.\n",
      "Mon Sep 11 16:41:14 2023 Epoch: 57\n"
     ]
    },
    {
     "name": "stderr",
     "output_type": "stream",
     "text": [
      "smth:0.3301: 100%|██████████| 1000/1000 [03:55<00:00,  4.25it/s]\n",
      "smth:0.1041: 100%|██████████| 957/957 [02:12<00:00,  7.20it/s]\n"
     ]
    },
    {
     "name": "stdout",
     "output_type": "stream",
     "text": [
      "Mon Sep 11 16:47:23 2023 Fold 4, Epoch 57, lr: 0.0000022, train loss: 0.33997, valid loss: 0.47559, metric: 0.475594.\n",
      "Mon Sep 11 16:47:23 2023 Epoch: 58\n"
     ]
    },
    {
     "name": "stderr",
     "output_type": "stream",
     "text": [
      "smth:0.2245: 100%|██████████| 1000/1000 [03:54<00:00,  4.27it/s]\n",
      "smth:0.0874: 100%|██████████| 957/957 [02:12<00:00,  7.22it/s]\n"
     ]
    },
    {
     "name": "stdout",
     "output_type": "stream",
     "text": [
      "Mon Sep 11 16:53:31 2023 Fold 4, Epoch 58, lr: 0.0000012, train loss: 0.32765, valid loss: 0.52004, metric: 0.520041.\n",
      "Mon Sep 11 16:53:32 2023 Epoch: 59\n"
     ]
    },
    {
     "name": "stderr",
     "output_type": "stream",
     "text": [
      "smth:0.3185: 100%|██████████| 1000/1000 [03:53<00:00,  4.29it/s]\n",
      "smth:0.1065: 100%|██████████| 957/957 [02:14<00:00,  7.12it/s]\n"
     ]
    },
    {
     "name": "stdout",
     "output_type": "stream",
     "text": [
      "Mon Sep 11 16:59:40 2023 Fold 4, Epoch 59, lr: 0.0000005, train loss: 0.33771, valid loss: 0.50930, metric: 0.509304.\n",
      "Mon Sep 11 16:59:40 2023 Epoch: 60\n"
     ]
    },
    {
     "name": "stderr",
     "output_type": "stream",
     "text": [
      "smth:0.5010: 100%|██████████| 1000/1000 [03:53<00:00,  4.29it/s]\n",
      "smth:0.1153: 100%|██████████| 957/957 [02:12<00:00,  7.20it/s]\n"
     ]
    },
    {
     "name": "stdout",
     "output_type": "stream",
     "text": [
      "Mon Sep 11 17:05:47 2023 Fold 4, Epoch 60, lr: 0.0000001, train loss: 0.33396, valid loss: 0.47645, metric: 0.476449.\n"
     ]
    }
   ],
   "source": [
    "#run(0)\n",
    "run(1)\n",
    "run(2)\n",
    "run(3)\n",
    "run(4)"
   ]
  }
 ],
 "metadata": {
  "kernelspec": {
   "display_name": ".venv",
   "language": "python",
   "name": "python3"
  },
  "language_info": {
   "codemirror_mode": {
    "name": "ipython",
    "version": 3
   },
   "file_extension": ".py",
   "mimetype": "text/x-python",
   "name": "python",
   "nbconvert_exporter": "python",
   "pygments_lexer": "ipython3",
   "version": "3.10.12"
  },
  "orig_nbformat": 4
 },
 "nbformat": 4,
 "nbformat_minor": 2
}
