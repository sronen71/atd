{
 "cells": [
  {
   "cell_type": "code",
   "execution_count": 19,
   "metadata": {},
   "outputs": [],
   "source": [
    "import pandas as pd\n",
    "import numpy as np"
   ]
  },
  {
   "cell_type": "code",
   "execution_count": 17,
   "metadata": {},
   "outputs": [],
   "source": [
    "df=pd.read_csv(\"/kaggle/input/rsna-2023-abdominal-trauma-detection/image_level_labels.csv\")\n",
    "df_patient=pd.read_csv(\"/kaggle/input/rsna-2023-abdominal-trauma-detection/train.csv\")"
   ]
  },
  {
   "cell_type": "code",
   "execution_count": 25,
   "metadata": {},
   "outputs": [
    {
     "name": "stdout",
     "output_type": "stream",
     "text": [
      "246\n",
      "200\n",
      "64\n"
     ]
    }
   ],
   "source": [
    "dfe=df[df[\"injury_name\"]==\"Active_Extravasation\"]\n",
    "dfb=df[df[\"injury_name\"]==\"Bowel\"]\n",
    "print(len(df[\"patient_id\"].unique()))\n",
    "print(len(dfe[\"patient_id\"].unique()))\n",
    "print(len(dfb[\"patient_id\"].unique()))\n",
    "#print(np.sum(df_patient[\"bowel_injury\"]))\n",
    "#b1=dfb[\"patient_id\"].unique()\n",
    "#b2=df_patient[df_patient[\"bowel_injury\"]==1][\"patient_id\"]\n",
    "#(b1==b2).all()\n",
    "\n"
   ]
  }
 ],
 "metadata": {
  "kernelspec": {
   "display_name": ".venv",
   "language": "python",
   "name": "python3"
  },
  "language_info": {
   "codemirror_mode": {
    "name": "ipython",
    "version": 3
   },
   "file_extension": ".py",
   "mimetype": "text/x-python",
   "name": "python",
   "nbconvert_exporter": "python",
   "pygments_lexer": "ipython3",
   "version": "3.10.12"
  },
  "orig_nbformat": 4
 },
 "nbformat": 4,
 "nbformat_minor": 2
}
