{
 "cells": [
  {
   "cell_type": "code",
   "execution_count": 1,
   "metadata": {},
   "outputs": [],
   "source": [
    "import os\n",
    "import gc\n",
    "import time\n",
    "import random\n",
    "import numpy as np\n",
    "import pandas as pd\n",
    "from tqdm import tqdm\n",
    "from pylab import rcParams\n",
    "import matplotlib.pyplot as plt\n",
    "\n",
    "import torch\n",
    "import torch.nn as nn\n",
    "import torch.nn.functional as F\n",
    "import torch.optim as optim\n",
    "import torch.cuda.amp as amp\n",
    "from torch.utils.data import  Dataset\n",
    "\n",
    "%matplotlib inline\n",
    "rcParams['figure.figsize'] = 20, 8\n",
    "device = torch.device('cuda')\n",
    "torch.backends.cudnn.benchmark = True"
   ]
  },
  {
   "cell_type": "markdown",
   "metadata": {},
   "source": [
    "# Config"
   ]
  },
  {
   "cell_type": "code",
   "execution_count": 2,
   "metadata": {},
   "outputs": [],
   "source": [
    "\n",
    "n_folds = 5\n",
    "\n",
    "len_seq_bowl = 128 # all abdomen\n",
    "len_seq_lsk = 24 # liver/spleen/kidney\n",
    "\n",
    "\n",
    "init_lr = 1e-2\n",
    "\n",
    "eta_min = 0\n",
    "batch_size = 64\n",
    "\n",
    "data_dir_bowel = './logits2b'\n",
    "data_dir_lsk = './logits2lstm/'\n",
    "num_workers = 6\n",
    "n_epochs = 10 #5\n",
    "\n",
    "log_dir = './logs'\n",
    "model_dir = './models_stage3_all'\n",
    "os.makedirs(log_dir, exist_ok=True)\n",
    "os.makedirs(model_dir, exist_ok=True)"
   ]
  },
  {
   "cell_type": "markdown",
   "metadata": {},
   "source": [
    "# DataFrame"
   ]
  },
  {
   "cell_type": "code",
   "execution_count": 3,
   "metadata": {},
   "outputs": [],
   "source": [
    "from sklearn.model_selection import KFold\n",
    "\n",
    "organ_dict = {\n",
    "    0: \"liver\",\n",
    "    1: \"spleen\",\n",
    "    2: 'kidney',\n",
    "    3: \"bowel\", \n",
    "    4: 'extravasation'\n",
    "}\n",
    "\n",
    "df_p = pd.read_csv('/kaggle/input/rsna-2023-abdominal-trauma-detection/train.csv')\n",
    "\n",
    "\n",
    "df_s=pd.read_csv('/kaggle/input/rsna-2023-abdominal-trauma-detection/train_series_meta.csv')\n",
    "\n",
    "df_p['fold'] = -1\n",
    "kf = KFold(5,shuffle=True,random_state=42)\n",
    "for fold, (train_idx, valid_idx) in enumerate(kf.split(df_p,df_p)):\n",
    "    df_p.loc[valid_idx, 'fold'] = fold\n",
    "\n",
    "\n",
    "\n",
    "df=df_p.merge(df_s,on=\"patient_id\")\n",
    "df[\"count\"]=df.groupby([\"patient_id\"])[\"patient_id\"].transform(\"count\")\n",
    "\n",
    "\n",
    "pid=[]\n",
    "sid = []\n",
    "cs = []\n",
    "label = []\n",
    "fold = []\n",
    "hu=[]\n",
    "counts=[]\n",
    "lbowel=[]\n",
    "lliver=[]\n",
    "lspleen=[]\n",
    "lkidney=[]\n",
    "lextra=[]\n",
    "lany=[]\n",
    "for row in df.to_dict(orient=\"records\"):\n",
    "        pid.append(row[\"patient_id\"])\n",
    "        sid.append(row[\"series_id\"])\n",
    "        hu.append(row[\"aortic_hu\"])\n",
    "        lab_bowel=row[\"bowel_injury\"]\n",
    "        lab_extravasation=row[\"extravasation_injury\"]\n",
    "        lab_liver=np.argmax([row[\"liver_healthy\"],row[\"liver_low\"],row[\"liver_high\"]])\n",
    "        lab_spleen=np.argmax([row[\"spleen_healthy\"],row[\"spleen_low\"],row[\"spleen_high\"]])\n",
    "        lab_kidney=np.argmax([row[\"kidney_healthy\"],row[\"kidney_low\"],row[\"kidney_high\"]])\n",
    "        lab_any_injury=row[\"any_injury\"]\n",
    "\n",
    "        la=[lab_liver,lab_spleen,lab_kidney,lab_bowel,lab_extravasation]\n",
    "        label.append(la)\n",
    "        lliver.append(lab_liver)\n",
    "        lspleen.append(lab_spleen)\n",
    "        lkidney.append(lab_kidney)\n",
    "        lbowel.append(lab_bowel)\n",
    "        lextra.append(lab_extravasation)\n",
    "        lany.append(lab_any_injury)\n",
    "        fold.append(row[\"fold\"])\n",
    "        counts.append(row[\"count\"])\n",
    "\n",
    "df = pd.DataFrame({\n",
    "    'patient_id': pid,\n",
    "    'series_id': sid,\n",
    "    'hu':hu,\n",
    "    'label': label,\n",
    "    \"liver\":lliver,\n",
    "    \"spleen\":lspleen,\n",
    "    \"kidney\":lkidney,\n",
    "    'bowel':lbowel,\n",
    "    \"extravasation\":lextra,\n",
    "    \"any_injury\":lany,\n",
    "    'fold': fold,\n",
    "    'counts':counts,\n",
    "})\n",
    "df.set_index(['patient_id', 'series_id'], inplace=True,drop=False)\n",
    "df.index.names=[\"pid\",\"sid\"]\n",
    "df.sort_values(by=[\"patient_id\",\"hu\"],inplace=True)\n",
    "\n"
   ]
  },
  {
   "cell_type": "code",
   "execution_count": 4,
   "metadata": {},
   "outputs": [
    {
     "data": {
      "text/html": [
       "<div>\n",
       "<style scoped>\n",
       "    .dataframe tbody tr th:only-of-type {\n",
       "        vertical-align: middle;\n",
       "    }\n",
       "\n",
       "    .dataframe tbody tr th {\n",
       "        vertical-align: top;\n",
       "    }\n",
       "\n",
       "    .dataframe thead th {\n",
       "        text-align: right;\n",
       "    }\n",
       "</style>\n",
       "<table border=\"1\" class=\"dataframe\">\n",
       "  <thead>\n",
       "    <tr style=\"text-align: right;\">\n",
       "      <th></th>\n",
       "      <th></th>\n",
       "      <th>patient_id</th>\n",
       "      <th>series_id</th>\n",
       "      <th>hu</th>\n",
       "      <th>label</th>\n",
       "      <th>liver</th>\n",
       "      <th>spleen</th>\n",
       "      <th>kidney</th>\n",
       "      <th>bowel</th>\n",
       "      <th>extravasation</th>\n",
       "      <th>any_injury</th>\n",
       "      <th>fold</th>\n",
       "      <th>counts</th>\n",
       "    </tr>\n",
       "    <tr>\n",
       "      <th>pid</th>\n",
       "      <th>sid</th>\n",
       "      <th></th>\n",
       "      <th></th>\n",
       "      <th></th>\n",
       "      <th></th>\n",
       "      <th></th>\n",
       "      <th></th>\n",
       "      <th></th>\n",
       "      <th></th>\n",
       "      <th></th>\n",
       "      <th></th>\n",
       "      <th></th>\n",
       "      <th></th>\n",
       "    </tr>\n",
       "  </thead>\n",
       "  <tbody>\n",
       "    <tr>\n",
       "      <th>19</th>\n",
       "      <th>14374</th>\n",
       "      <td>19</td>\n",
       "      <td>14374</td>\n",
       "      <td>174.00</td>\n",
       "      <td>[0, 0, 0, 0, 0]</td>\n",
       "      <td>0</td>\n",
       "      <td>0</td>\n",
       "      <td>0</td>\n",
       "      <td>0</td>\n",
       "      <td>0</td>\n",
       "      <td>0</td>\n",
       "      <td>3</td>\n",
       "      <td>1</td>\n",
       "    </tr>\n",
       "    <tr>\n",
       "      <th rowspan=\"2\" valign=\"top\">26</th>\n",
       "      <th>41997</th>\n",
       "      <td>26</td>\n",
       "      <td>41997</td>\n",
       "      <td>101.00</td>\n",
       "      <td>[0, 0, 0, 0, 0]</td>\n",
       "      <td>0</td>\n",
       "      <td>0</td>\n",
       "      <td>0</td>\n",
       "      <td>0</td>\n",
       "      <td>0</td>\n",
       "      <td>0</td>\n",
       "      <td>2</td>\n",
       "      <td>2</td>\n",
       "    </tr>\n",
       "    <tr>\n",
       "      <th>18881</th>\n",
       "      <td>26</td>\n",
       "      <td>18881</td>\n",
       "      <td>255.00</td>\n",
       "      <td>[0, 0, 0, 0, 0]</td>\n",
       "      <td>0</td>\n",
       "      <td>0</td>\n",
       "      <td>0</td>\n",
       "      <td>0</td>\n",
       "      <td>0</td>\n",
       "      <td>0</td>\n",
       "      <td>2</td>\n",
       "      <td>2</td>\n",
       "    </tr>\n",
       "    <tr>\n",
       "      <th>33</th>\n",
       "      <th>55570</th>\n",
       "      <td>33</td>\n",
       "      <td>55570</td>\n",
       "      <td>105.00</td>\n",
       "      <td>[1, 0, 0, 1, 1]</td>\n",
       "      <td>1</td>\n",
       "      <td>0</td>\n",
       "      <td>0</td>\n",
       "      <td>1</td>\n",
       "      <td>1</td>\n",
       "      <td>1</td>\n",
       "      <td>1</td>\n",
       "      <td>1</td>\n",
       "    </tr>\n",
       "    <tr>\n",
       "      <th>43</th>\n",
       "      <th>36714</th>\n",
       "      <td>43</td>\n",
       "      <td>36714</td>\n",
       "      <td>54.75</td>\n",
       "      <td>[0, 0, 0, 1, 1]</td>\n",
       "      <td>0</td>\n",
       "      <td>0</td>\n",
       "      <td>0</td>\n",
       "      <td>1</td>\n",
       "      <td>1</td>\n",
       "      <td>1</td>\n",
       "      <td>1</td>\n",
       "      <td>2</td>\n",
       "    </tr>\n",
       "    <tr>\n",
       "      <th>...</th>\n",
       "      <th>...</th>\n",
       "      <td>...</td>\n",
       "      <td>...</td>\n",
       "      <td>...</td>\n",
       "      <td>...</td>\n",
       "      <td>...</td>\n",
       "      <td>...</td>\n",
       "      <td>...</td>\n",
       "      <td>...</td>\n",
       "      <td>...</td>\n",
       "      <td>...</td>\n",
       "      <td>...</td>\n",
       "      <td>...</td>\n",
       "    </tr>\n",
       "    <tr>\n",
       "      <th>65456</th>\n",
       "      <th>40781</th>\n",
       "      <td>65456</td>\n",
       "      <td>40781</td>\n",
       "      <td>162.00</td>\n",
       "      <td>[0, 2, 0, 1, 0]</td>\n",
       "      <td>0</td>\n",
       "      <td>2</td>\n",
       "      <td>0</td>\n",
       "      <td>1</td>\n",
       "      <td>0</td>\n",
       "      <td>1</td>\n",
       "      <td>2</td>\n",
       "      <td>1</td>\n",
       "    </tr>\n",
       "    <tr>\n",
       "      <th>65495</th>\n",
       "      <th>8371</th>\n",
       "      <td>65495</td>\n",
       "      <td>8371</td>\n",
       "      <td>248.00</td>\n",
       "      <td>[0, 0, 0, 0, 0]</td>\n",
       "      <td>0</td>\n",
       "      <td>0</td>\n",
       "      <td>0</td>\n",
       "      <td>0</td>\n",
       "      <td>0</td>\n",
       "      <td>0</td>\n",
       "      <td>1</td>\n",
       "      <td>1</td>\n",
       "    </tr>\n",
       "    <tr>\n",
       "      <th rowspan=\"2\" valign=\"top\">65504</th>\n",
       "      <th>55928</th>\n",
       "      <td>65504</td>\n",
       "      <td>55928</td>\n",
       "      <td>144.00</td>\n",
       "      <td>[1, 2, 0, 0, 0]</td>\n",
       "      <td>1</td>\n",
       "      <td>2</td>\n",
       "      <td>0</td>\n",
       "      <td>0</td>\n",
       "      <td>0</td>\n",
       "      <td>1</td>\n",
       "      <td>2</td>\n",
       "      <td>2</td>\n",
       "    </tr>\n",
       "    <tr>\n",
       "      <th>50212</th>\n",
       "      <td>65504</td>\n",
       "      <td>50212</td>\n",
       "      <td>276.00</td>\n",
       "      <td>[1, 2, 0, 0, 0]</td>\n",
       "      <td>1</td>\n",
       "      <td>2</td>\n",
       "      <td>0</td>\n",
       "      <td>0</td>\n",
       "      <td>0</td>\n",
       "      <td>1</td>\n",
       "      <td>2</td>\n",
       "      <td>2</td>\n",
       "    </tr>\n",
       "    <tr>\n",
       "      <th>65508</th>\n",
       "      <th>34551</th>\n",
       "      <td>65508</td>\n",
       "      <td>34551</td>\n",
       "      <td>153.00</td>\n",
       "      <td>[0, 0, 0, 0, 0]</td>\n",
       "      <td>0</td>\n",
       "      <td>0</td>\n",
       "      <td>0</td>\n",
       "      <td>0</td>\n",
       "      <td>0</td>\n",
       "      <td>0</td>\n",
       "      <td>0</td>\n",
       "      <td>1</td>\n",
       "    </tr>\n",
       "  </tbody>\n",
       "</table>\n",
       "<p>4711 rows × 12 columns</p>\n",
       "</div>"
      ],
      "text/plain": [
       "             patient_id  series_id      hu            label  liver  spleen  \\\n",
       "pid   sid                                                                    \n",
       "19    14374          19      14374  174.00  [0, 0, 0, 0, 0]      0       0   \n",
       "26    41997          26      41997  101.00  [0, 0, 0, 0, 0]      0       0   \n",
       "      18881          26      18881  255.00  [0, 0, 0, 0, 0]      0       0   \n",
       "33    55570          33      55570  105.00  [1, 0, 0, 1, 1]      1       0   \n",
       "43    36714          43      36714   54.75  [0, 0, 0, 1, 1]      0       0   \n",
       "...                 ...        ...     ...              ...    ...     ...   \n",
       "65456 40781       65456      40781  162.00  [0, 2, 0, 1, 0]      0       2   \n",
       "65495 8371        65495       8371  248.00  [0, 0, 0, 0, 0]      0       0   \n",
       "65504 55928       65504      55928  144.00  [1, 2, 0, 0, 0]      1       2   \n",
       "      50212       65504      50212  276.00  [1, 2, 0, 0, 0]      1       2   \n",
       "65508 34551       65508      34551  153.00  [0, 0, 0, 0, 0]      0       0   \n",
       "\n",
       "             kidney  bowel  extravasation  any_injury  fold  counts  \n",
       "pid   sid                                                            \n",
       "19    14374       0      0              0           0     3       1  \n",
       "26    41997       0      0              0           0     2       2  \n",
       "      18881       0      0              0           0     2       2  \n",
       "33    55570       0      1              1           1     1       1  \n",
       "43    36714       0      1              1           1     1       2  \n",
       "...             ...    ...            ...         ...   ...     ...  \n",
       "65456 40781       0      1              0           1     2       1  \n",
       "65495 8371        0      0              0           0     1       1  \n",
       "65504 55928       0      0              0           1     2       2  \n",
       "      50212       0      0              0           1     2       2  \n",
       "65508 34551       0      0              0           0     0       1  \n",
       "\n",
       "[4711 rows x 12 columns]"
      ]
     },
     "execution_count": 4,
     "metadata": {},
     "output_type": "execute_result"
    }
   ],
   "source": [
    "\n",
    "df\n"
   ]
  },
  {
   "cell_type": "markdown",
   "metadata": {},
   "source": [
    "# Dataset"
   ]
  },
  {
   "cell_type": "code",
   "execution_count": 5,
   "metadata": {},
   "outputs": [],
   "source": [
    "from ast import literal_eval\n",
    "\n",
    "def extract_list(df):\n",
    "    for i in range(5):\n",
    "        df[\"logits\"]=df.logits.str.replace(\"  \",\" \")\n",
    "    df[\"logits\"]=df.logits.str.replace(\"[ \",\"\")\n",
    "    df[\"logits\"]=df.logits.str.replace(\" ]\",\"\")\n",
    "    df[\"logits\"]=df.logits.str.replace(\"[\",\"\")\n",
    "    df[\"logits\"]=df.logits.str.replace(\"]\",\"\")\n",
    "    df[\"logits\"]=df.logits.str.replace(\" \",\",\")\n",
    "\n",
    "\n",
    "    df[\"logits\"]=df.logits.apply(literal_eval)\n",
    "\n",
    "\n",
    "class CLS3Dataset(Dataset):\n",
    "    def __init__(self, df, mode, fold):\n",
    "\n",
    "        self.df = df\n",
    "        self.mode = mode\n",
    "        self.fold=fold\n",
    "        self.logits_bowel=pd.read_csv(data_dir_bowel+\"/\"+f\"model{self.fold}/logits.csv\")\n",
    "        self.logits_lsk=pd.read_csv(data_dir_lsk+\"/\"+f\"model{self.fold}/logits.csv\")\n",
    "        self.logits_bowel.set_index([\"patient_id\",\"series_id\"],inplace=True)\n",
    "        self.logits_lsk.set_index([\"patient_id\",\"series_id\",\"organ\"],inplace=True)\n",
    "        extract_list(self.logits_bowel)\n",
    "        extract_list(self.logits_lsk)\n",
    "\n",
    "    def __len__(self):\n",
    "        return self.df.patient_id.nunique()\n",
    "\n",
    "    def __getitem__(self, index):\n",
    "        rows= self.df.loc[[self.df.index.unique(level=0)[index]]] # unique patient, may have up to two series (rows)\n",
    "\n",
    "        \n",
    "        data_bowel=[]\n",
    "        data_liver=[]\n",
    "        data_spleen=[]\n",
    "        data_kidney=[]\n",
    "        data_hu=[]\n",
    "        for i in range(len(rows)):\n",
    "            row=rows.iloc[i]\n",
    "            pid=row.patient_id\n",
    "            sid=row.series_id\n",
    "            dbowel=np.array(self.logits_bowel.loc[(pid,sid)].values[0])\n",
    "            dliver=np.array(self.logits_lsk.loc[(pid,sid,0)].values[0])\n",
    "            dspleen=np.array(self.logits_lsk.loc[(pid,sid,1)].values[0])\n",
    "            dkidney=np.array(self.logits_lsk.loc[(pid,sid,2)].values[0])\n",
    "\n",
    "            dbowel=np.concatenate((dbowel,np.array([row.hu])))\n",
    "            dliver=np.concatenate((dliver,np.array([row.hu])))\n",
    "            dspleen=np.concatenate((dspleen,np.array([row.hu])))\n",
    "            dkidney=np.concatenate((dkidney,np.array([row.hu])))\n",
    "\n",
    "            data_bowel.append(dbowel)\n",
    "            data_liver.append(dliver)\n",
    "            data_spleen.append(dspleen)\n",
    "            data_kidney.append(dkidney)\n",
    "            data_hu.append((row.hu,))\n",
    "\n",
    "        if len(rows)==1:\n",
    "            data_bowel.append(data_bowel[0])\n",
    "            data_liver.append(data_liver[0])\n",
    "            data_spleen.append(data_spleen[0])\n",
    "            data_kidney.append(data_kidney[0])\n",
    "            data_hu.append(data_hu[0])\n",
    "\n",
    "        data_bowel=np.stack(data_bowel,axis=0)\n",
    "        data_liver=np.stack(data_liver,axis=0)\n",
    "        data_spleen=np.stack(data_spleen,axis=0)\n",
    "        data_kidney=np.stack(data_kidney,axis=0)\n",
    "        data_hu=np.stack(data_hu)\n",
    "        data_bowel = torch.tensor(data_bowel).float()\n",
    "        data_liver = torch.tensor(data_liver).float()\n",
    "        data_spleen = torch.tensor(data_spleen).float()\n",
    "        data_kidney = torch.tensor(data_kidney).float()\n",
    "        data_hu = torch.tensor(data_hu).float()\n",
    "       \n",
    "                \n",
    "        data={\"bowel\":data_bowel,\"liver\":data_liver,\"spleen\":data_spleen,\"kidney\":data_kidney,\"hu\":data_hu}        \n",
    "        \n",
    "        if self.mode != 'test':\n",
    "            labels={\"liver\":row.liver,\"spleen\":row.spleen,\"kidney\":row.kidney,\"bowel\":row.bowel,\"extravasation\":row.extravasation,\"any_injury\":row.any_injury}\n",
    "            labels={k:torch.tensor((labels[k])).float() for k in labels}\n",
    "           \n",
    "            return data, labels\n",
    "        else:\n",
    "            return data"
   ]
  },
  {
   "cell_type": "code",
   "execution_count": 6,
   "metadata": {},
   "outputs": [
    {
     "name": "stdout",
     "output_type": "stream",
     "text": [
      "4711 3147\n"
     ]
    }
   ],
   "source": [
    "rcParams['figure.figsize'] = 20,8\n",
    "\n",
    "df_show = df\n",
    "dataset_show = CLS3Dataset(df_show, 'train', fold=0)\n",
    "print(len(df),len(dataset_show))\n",
    "loader_show = torch.utils.data.DataLoader(dataset_show, batch_size=batch_size, shuffle=True, num_workers=num_workers,pin_memory=True)"
   ]
  },
  {
   "cell_type": "code",
   "execution_count": 7,
   "metadata": {},
   "outputs": [
    {
     "name": "stdout",
     "output_type": "stream",
     "text": [
      "{'bowel': tensor([[ -2.9840,  -0.9946, 174.0000],\n",
      "        [ -2.9840,  -0.9946, 174.0000]]), 'liver': tensor([[  2.3670,  -0.1782,  -2.9860, 174.0000],\n",
      "        [  2.3670,  -0.1782,  -2.9860, 174.0000]]), 'spleen': tensor([[  2.3480,  -0.5610,  -2.7360, 174.0000],\n",
      "        [  2.3480,  -0.5610,  -2.7360, 174.0000]]), 'kidney': tensor([[ 2.4840e+00, -1.0657e-01, -3.2320e+00,  1.7400e+02],\n",
      "        [ 2.4840e+00, -1.0657e-01, -3.2320e+00,  1.7400e+02]]), 'hu': tensor([[174.],\n",
      "        [174.]])}\n",
      "{'liver': tensor(0.), 'spleen': tensor(0.), 'kidney': tensor(0.), 'bowel': tensor(0.), 'extravasation': tensor(0.), 'any_injury': tensor(0.)}\n",
      "{'bowel': tensor([[ -3.1560,  -1.0410, 101.0000],\n",
      "        [ -3.2640,  -1.0810, 255.0000]]), 'liver': tensor([[ 3.6560e+00, -1.1900e-01, -4.4000e+00,  1.0100e+02],\n",
      "        [ 3.7420e+00, -3.1270e-01, -4.3160e+00,  2.5500e+02]]), 'spleen': tensor([[ 3.2680e+00,  3.2080e-01, -4.7420e+00,  1.0100e+02],\n",
      "        [ 3.1040e+00, -2.3510e-01, -4.2730e+00,  2.5500e+02]]), 'kidney': tensor([[ 2.1460e+00, -1.4390e-01, -2.9220e+00,  1.0100e+02],\n",
      "        [ 2.8610e+00, -2.2530e-01, -3.5760e+00,  2.5500e+02]]), 'hu': tensor([[101.],\n",
      "        [255.]])}\n",
      "{'liver': tensor(0.), 'spleen': tensor(0.), 'kidney': tensor(0.), 'bowel': tensor(0.), 'extravasation': tensor(0.), 'any_injury': tensor(0.)}\n",
      "{'bowel': tensor([[ -3.0620,  -0.9320, 105.0000],\n",
      "        [ -3.0620,  -0.9320, 105.0000]]), 'liver': tensor([[  1.4560,   0.1209,  -2.1150, 105.0000],\n",
      "        [  1.4560,   0.1209,  -2.1150, 105.0000]]), 'spleen': tensor([[ 2.5350e+00,  6.5600e-02, -3.6110e+00,  1.0500e+02],\n",
      "        [ 2.5350e+00,  6.5600e-02, -3.6110e+00,  1.0500e+02]]), 'kidney': tensor([[  3.3140,  -0.6274,  -3.7050, 105.0000],\n",
      "        [  3.3140,  -0.6274,  -3.7050, 105.0000]]), 'hu': tensor([[105.],\n",
      "        [105.]])}\n",
      "{'liver': tensor(1.), 'spleen': tensor(0.), 'kidney': tensor(0.), 'bowel': tensor(1.), 'extravasation': tensor(1.), 'any_injury': tensor(1.)}\n",
      "{'bowel': tensor([[ -3.2900,  -1.2240,  54.7500],\n",
      "        [ -3.0210,  -0.8370, 127.0000]]), 'liver': tensor([[  1.2480,  -0.1445,  -1.8920,  54.7500],\n",
      "        [  2.0760,   0.2189,  -2.9220, 127.0000]]), 'spleen': tensor([[ 2.2910e+00, -1.8400e-01, -3.0330e+00,  5.4750e+01],\n",
      "        [ 2.9080e+00,  1.2305e-01, -4.1170e+00,  1.2700e+02]]), 'kidney': tensor([[  2.1330,  -1.4180,  -1.3500,  54.7500],\n",
      "        [  2.8460,  -0.4382,  -3.3890, 127.0000]]), 'hu': tensor([[ 54.7500],\n",
      "        [127.0000]])}\n",
      "{'liver': tensor(0.), 'spleen': tensor(0.), 'kidney': tensor(0.), 'bowel': tensor(1.), 'extravasation': tensor(1.), 'any_injury': tensor(1.)}\n",
      "{'bowel': tensor([[ -3.3890,  -1.0110, 134.0000],\n",
      "        [ -3.3890,  -1.0110, 134.0000]]), 'liver': tensor([[  2.6130,   0.2747,  -3.6620, 134.0000],\n",
      "        [  2.6130,   0.2747,  -3.6620, 134.0000]]), 'spleen': tensor([[  1.4160,   0.2412,  -2.2520, 134.0000],\n",
      "        [  1.4160,   0.2412,  -2.2520, 134.0000]]), 'kidney': tensor([[ 2.6580e+00, -1.0425e-01, -3.4160e+00,  1.3400e+02],\n",
      "        [ 2.6580e+00, -1.0425e-01, -3.4160e+00,  1.3400e+02]]), 'hu': tensor([[134.],\n",
      "        [134.]])}\n",
      "{'liver': tensor(0.), 'spleen': tensor(0.), 'kidney': tensor(0.), 'bowel': tensor(0.), 'extravasation': tensor(0.), 'any_injury': tensor(0.)}\n",
      "{'bowel': tensor([[ -3.5840,  -1.0190, 118.0000],\n",
      "        [ -3.5760,  -1.0810, 194.0000]]), 'liver': tensor([[ 2.6580e+00, -9.5150e-02, -3.2050e+00,  1.1800e+02],\n",
      "        [ 2.1760e+00, -6.9300e-02, -2.6500e+00,  1.9400e+02]]), 'spleen': tensor([[  3.7340,  -0.9595,  -4.0040, 118.0000],\n",
      "        [  3.6390,  -0.6567,  -4.2150, 194.0000]]), 'kidney': tensor([[ 3.1250e+00, -3.0000e-01, -3.9160e+00,  1.1800e+02],\n",
      "        [ 2.3870e+00, -5.9170e-03, -3.0900e+00,  1.9400e+02]]), 'hu': tensor([[118.],\n",
      "        [194.]])}\n",
      "{'liver': tensor(0.), 'spleen': tensor(0.), 'kidney': tensor(0.), 'bowel': tensor(0.), 'extravasation': tensor(0.), 'any_injury': tensor(0.)}\n"
     ]
    }
   ],
   "source": [
    "for idx in range(6):\n",
    "    \n",
    "    data, lbl = dataset_show[idx]\n",
    "    print(data)\n",
    "    print(lbl)"
   ]
  },
  {
   "cell_type": "code",
   "execution_count": 8,
   "metadata": {},
   "outputs": [
    {
     "name": "stdout",
     "output_type": "stream",
     "text": [
      "tensor([[[ -3.2440,  -0.9004, 164.0000],\n",
      "         [ -3.1150,  -0.8833, 502.5000]],\n",
      "\n",
      "        [[ -2.9750,  -0.9214, 327.0000],\n",
      "         [ -2.9750,  -0.9214, 327.0000]],\n",
      "\n",
      "        [[ -3.5020,  -1.0850, 186.0000],\n",
      "         [ -3.5020,  -1.0850, 186.0000]],\n",
      "\n",
      "        [[ -3.5000,  -1.0620, 126.0000],\n",
      "         [ -3.4280,  -0.9990, 221.0000]],\n",
      "\n",
      "        [[ -3.3630,  -1.0230, 164.2500],\n",
      "         [ -3.3630,  -1.0230, 164.2500]],\n",
      "\n",
      "        [[ -3.2900,  -0.9400, 201.0000],\n",
      "         [ -3.5570,  -1.3500, 572.0000]],\n",
      "\n",
      "        [[ -3.3730,  -1.0310, 221.0000],\n",
      "         [ -3.3730,  -1.0310, 221.0000]],\n",
      "\n",
      "        [[ -3.3550,  -0.9663, 154.0000],\n",
      "         [ -3.3380,  -0.9805, 271.0000]],\n",
      "\n",
      "        [[ -3.3120,  -0.9670, 180.0000],\n",
      "         [ -3.2230,  -1.1410, 377.0000]],\n",
      "\n",
      "        [[ -3.2970,  -0.9960, 232.0000],\n",
      "         [ -3.2970,  -0.9960, 232.0000]],\n",
      "\n",
      "        [[ -3.3950,  -1.1150, 136.0000],\n",
      "         [ -3.4470,  -1.2420, 321.0000]],\n",
      "\n",
      "        [[ -3.0880,  -0.9150, 165.0000],\n",
      "         [ -2.9020,  -0.9663, 204.2500]],\n",
      "\n",
      "        [[ -3.0760,  -0.9863, 112.0000],\n",
      "         [ -3.1290,  -1.0960, 381.0000]],\n",
      "\n",
      "        [[ -3.1350,  -1.0205, 394.0000],\n",
      "         [ -3.1350,  -1.0205, 394.0000]],\n",
      "\n",
      "        [[ -3.2270,  -0.8470, 171.0000],\n",
      "         [ -3.2270,  -0.8470, 171.0000]],\n",
      "\n",
      "        [[ -3.1210,  -0.9883, 244.0000],\n",
      "         [ -3.1210,  -0.9883, 244.0000]],\n",
      "\n",
      "        [[ -3.0600,  -0.9795, 120.0000],\n",
      "         [ -2.7950,  -0.9375, 280.7500]],\n",
      "\n",
      "        [[ -3.0680,  -0.9190, 310.2500],\n",
      "         [ -3.0680,  -0.9190, 310.2500]],\n",
      "\n",
      "        [[ -3.0230,  -0.9985, 160.0000],\n",
      "         [ -3.0230,  -0.9985, 160.0000]],\n",
      "\n",
      "        [[ -3.3070,  -1.0380, 133.0000],\n",
      "         [ -3.4600,  -1.1800, 299.0000]],\n",
      "\n",
      "        [[ -3.2380,  -0.8950, 157.0000],\n",
      "         [ -3.1520,  -1.1170, 422.0000]],\n",
      "\n",
      "        [[ -3.1800,  -0.8810, 168.0000],\n",
      "         [ -3.1800,  -0.8810, 168.0000]],\n",
      "\n",
      "        [[ -3.1460,  -0.9414, 204.0000],\n",
      "         [ -3.1460,  -0.9414, 204.0000]],\n",
      "\n",
      "        [[ -3.3650,  -0.9487, 157.0000],\n",
      "         [ -3.2070,  -0.9077, 318.5000]],\n",
      "\n",
      "        [[ -2.7700,  -0.7266, 192.0000],\n",
      "         [ -2.3830,  -0.6484, 619.0000]],\n",
      "\n",
      "        [[ -3.1930,  -1.0800, 175.0000],\n",
      "         [ -3.0840,  -1.0350, 440.0000]],\n",
      "\n",
      "        [[ -3.3030,  -1.0440, 181.0000],\n",
      "         [ -3.3380,  -1.1430, 329.0000]],\n",
      "\n",
      "        [[ -3.1350,  -0.8613, 234.0000],\n",
      "         [ -3.1350,  -0.8613, 234.0000]],\n",
      "\n",
      "        [[ -3.4320,  -1.0740, 196.0000],\n",
      "         [ -3.4320,  -1.0740, 196.0000]],\n",
      "\n",
      "        [[ -3.3360,  -1.0270, 154.0000],\n",
      "         [ -3.3360,  -1.0270, 154.0000]],\n",
      "\n",
      "        [[ -3.3480,  -1.1700, 117.0000],\n",
      "         [ -3.2320,  -1.1920, 332.0000]],\n",
      "\n",
      "        [[ -3.2010,  -0.8650, 143.0000],\n",
      "         [ -3.0410,  -0.8154, 433.0000]],\n",
      "\n",
      "        [[ -3.3260,  -1.0625, 157.0000],\n",
      "         [ -3.1910,  -1.0060, 278.0000]],\n",
      "\n",
      "        [[ -3.5100,  -1.0770, 115.0000],\n",
      "         [ -3.7010,  -1.1370, 279.0000]],\n",
      "\n",
      "        [[ -3.1210,  -0.9930, 174.0000],\n",
      "         [ -2.8960,  -1.1310, 245.0000]],\n",
      "\n",
      "        [[ -3.1070,  -0.9560, 192.0000],\n",
      "         [ -3.0490,  -0.9854, 410.0000]],\n",
      "\n",
      "        [[ -3.1110,  -0.9785, 299.0000],\n",
      "         [ -3.1110,  -0.9785, 299.0000]],\n",
      "\n",
      "        [[ -3.3030,  -1.1710, 146.0000],\n",
      "         [ -3.3360,  -1.2040, 226.0000]],\n",
      "\n",
      "        [[ -3.4340,  -0.9850, 179.0000],\n",
      "         [ -3.4340,  -0.9850, 179.0000]],\n",
      "\n",
      "        [[ -3.1500,  -0.9300, 230.0000],\n",
      "         [ -3.1500,  -0.9300, 230.0000]],\n",
      "\n",
      "        [[ -3.3890,  -1.0110, 134.0000],\n",
      "         [ -3.3890,  -1.0110, 134.0000]],\n",
      "\n",
      "        [[ -3.4240,  -0.9760, 131.0000],\n",
      "         [ -3.4240,  -0.9760, 131.0000]],\n",
      "\n",
      "        [[ -3.2170,  -0.8696, 130.0000],\n",
      "         [ -3.2170,  -0.8696, 130.0000]],\n",
      "\n",
      "        [[ -2.5530,  -0.6280, 426.0000],\n",
      "         [ -2.5530,  -0.6280, 426.0000]],\n",
      "\n",
      "        [[ -2.7380,  -0.9873,  92.0000],\n",
      "         [ -3.5900,  -1.4050, 224.0000]],\n",
      "\n",
      "        [[ -3.2270,  -0.8613, 145.0000],\n",
      "         [ -3.4980,  -1.4240, 302.0000]],\n",
      "\n",
      "        [[ -2.9260,  -0.8590, 254.0000],\n",
      "         [ -2.9260,  -0.8590, 254.0000]],\n",
      "\n",
      "        [[ -3.3460,  -0.9946, 207.0000],\n",
      "         [ -3.3460,  -0.9946, 207.0000]],\n",
      "\n",
      "        [[ -3.2000,  -1.0240, 143.0000],\n",
      "         [ -3.1760,  -1.0760, 307.0000]],\n",
      "\n",
      "        [[ -3.3220,  -1.0920, 153.0000],\n",
      "         [ -3.3220,  -1.0920, 153.0000]],\n",
      "\n",
      "        [[ -3.3260,  -1.0120, 118.0000],\n",
      "         [ -3.3260,  -1.0120, 118.0000]],\n",
      "\n",
      "        [[ -2.9550,  -1.0360, 280.0000],\n",
      "         [ -2.9550,  -1.0360, 280.0000]],\n",
      "\n",
      "        [[ -3.2600,  -1.0090, 303.0000],\n",
      "         [ -3.2600,  -1.0090, 303.0000]],\n",
      "\n",
      "        [[ -2.9510,  -0.8650, 278.0000],\n",
      "         [ -2.9510,  -0.8650, 278.0000]],\n",
      "\n",
      "        [[ -3.0500,  -0.9224, 309.0000],\n",
      "         [ -3.0500,  -0.9224, 309.0000]],\n",
      "\n",
      "        [[ -2.6910,  -0.7383, 323.0000],\n",
      "         [ -2.6910,  -0.7383, 323.0000]],\n",
      "\n",
      "        [[ -2.8950,  -0.8360, 302.0000],\n",
      "         [ -2.8950,  -0.8360, 302.0000]],\n",
      "\n",
      "        [[ -3.1230,  -0.9980,  80.0000],\n",
      "         [ -3.5060,  -1.2940, 161.0000]],\n",
      "\n",
      "        [[ -3.3520,  -1.0070, 265.0000],\n",
      "         [ -3.3520,  -1.0070, 265.0000]],\n",
      "\n",
      "        [[ -2.9040,  -0.8594, 194.0000],\n",
      "         [ -2.9040,  -0.8594, 194.0000]],\n",
      "\n",
      "        [[ -3.3050,  -1.1045, 180.0000],\n",
      "         [ -3.3050,  -1.1045, 180.0000]],\n",
      "\n",
      "        [[ -3.2560,  -0.9653, 115.0000],\n",
      "         [ -3.2170,  -0.9336, 271.0000]],\n",
      "\n",
      "        [[ -3.0210,  -0.7900, 387.0000],\n",
      "         [ -3.0210,  -0.7900, 387.0000]],\n",
      "\n",
      "        [[ -3.3730,  -0.9510, 392.0000],\n",
      "         [ -3.3730,  -0.9510, 392.0000]]])\n"
     ]
    }
   ],
   "source": [
    "batch=next(iter(loader_show)) \n",
    "print(batch[0][\"bowel\"])"
   ]
  },
  {
   "cell_type": "code",
   "execution_count": 9,
   "metadata": {},
   "outputs": [],
   "source": [
    "class AverageMeter(object):\n",
    "    \"\"\"Computes and stores the average and current value\"\"\"\n",
    "    def __init__(self):\n",
    "        self.reset()\n",
    "    def reset(self):\n",
    "        self.avg = 0\n",
    "        self.sum = 0\n",
    "        self.weight = 0\n",
    "        self.count=0\n",
    "    def update(self, vals, w=1):\n",
    "        self.val = vals\n",
    "        self.count += len(vals)\n",
    "        self.sum += np.sum(vals * w)\n",
    "        self.weight += np.sum(w)\n",
    "        self.avg = self.sum / self.weight"
   ]
  },
  {
   "cell_type": "markdown",
   "metadata": {},
   "source": [
    "\n",
    "# Model"
   ]
  },
  {
   "cell_type": "code",
   "execution_count": 10,
   "metadata": {},
   "outputs": [],
   "source": [
    "\n",
    "\n",
    "class PENet(nn.Module):\n",
    "    def __init__(self):\n",
    "        super().__init__()\n",
    "\n",
    "        self.hu_weight=nn.Sequential(nn.Linear(2,16),nn.ReLU(),nn.Linear(16,1),nn.Sigmoid()) # extravasation weighting by hu\n",
    "        self.inj_bias=nn.Parameter(torch.zeros(8))\n",
    "        #self.inj_liver=nn.Sequential(nn.Linear(3,3))\n",
    "        #self.inj_spleen=nn.Sequential(nn.Linear(3,3))\n",
    "        #self.inj_kidney=nn.Sequential(nn.Linear(3,3))\n",
    "        #self.inj_bowel=nn.Sequential(nn.Linear(1,1))\n",
    "        #self.inj_extravasation=nn.Sequential(nn.Linear(1,1))\n",
    "\n",
    "    def forward(self, x):  #N,series,logits\n",
    "\n",
    "        hu= x[\"bowel\"][:,:,2] \n",
    "        bowel  = x[\"bowel\"][:,:,0]\n",
    "        extravasation=x[\"bowel\"][:,:,1]\n",
    "        liver=x[\"liver\"][:,:,:-1]\n",
    "        spleen=x[\"spleen\"][:,:,:-1]\n",
    "        kidney=x[\"kidney\"][:,:,:-1]\n",
    "        hu_weight=self.hu_weight(hu).squeeze() # N\n",
    "\n",
    "        choose=0 # lower hu -> portal venous phase seems more reliable\n",
    "        if choose==\"mean\":\n",
    "            extravasation=extravasation*torch.stack((hu_weight,1-hu_weight),dim=1)\n",
    "            extravasation=extravasation.sum(dim=1)\n",
    "            bowel = bowel.mean(dim=1)\n",
    "            liver= liver.mean(dim=1)\n",
    "            spleen=spleen.mean(dim=1)\n",
    "            kidney=kidney.mean(dim=1)\n",
    "        \n",
    "        elif choose==\"max\":\n",
    "            extravasation=extravasation.max(dim=1)[0]\n",
    "            bowel = bowel.max(dim=1)[0]\n",
    "            liver= liver.max(dim=1)[0]\n",
    "            spleen=spleen.max(dim=1)[0]\n",
    "            kidney=kidney.max(dim=1)[0]\n",
    "\n",
    "        else:\n",
    "            extravasation=extravasation[:,1]  #extravsation maybe slightly better from late arterial phase (higher hu)\n",
    "            bowel = bowel[:,choose]\n",
    "            liver= liver[:,choose,:]\n",
    "            spleen=spleen[:,choose,:]\n",
    "            kidney=kidney[:,choose,:]\n",
    "        \n",
    "\n",
    "        #liver=self.inj_liver(liver)\n",
    "        #spleen=self.inj_spleen(spleen)\n",
    "        #kidney=self.inj_kidney(kidney)\n",
    "        #bowel=self.inj_bowel(bowel[:,None])\n",
    "        #extravasation=self.inj_extravasation(extravasation[:,None])\n",
    "        inj_bias=self.inj_bias\n",
    "        bowel=bowel+inj_bias[0]\n",
    "        extravasation=extravasation+inj_bias[1]\n",
    "        liver=liver+F.pad(inj_bias[2:4],(1,0))\n",
    "        spleen=spleen+F.pad(inj_bias[4:6],(1,0))\n",
    "        kidney=kidney+F.pad(inj_bias[6:8],(1,0))        \n",
    "        bowel=bowel.squeeze()\n",
    "        extravasation=extravasation.squeeze()\n",
    "        logits={\"liver\":liver,\"spleen\":spleen,\"kidney\":kidney,\"bowel\":bowel,\"extravasation\":extravasation}\n",
    "        return logits"
   ]
  },
  {
   "cell_type": "code",
   "execution_count": 11,
   "metadata": {},
   "outputs": [
    {
     "name": "stdout",
     "output_type": "stream",
     "text": [
      "=================================================================\n",
      "Layer (type:depth-idx)                   Param #\n",
      "=================================================================\n",
      "PENet                                    8\n",
      "├─Sequential: 1-1                        --\n",
      "│    └─Linear: 2-1                       48\n",
      "│    └─ReLU: 2-2                         --\n",
      "│    └─Linear: 2-3                       17\n",
      "│    └─Sigmoid: 2-4                      --\n",
      "=================================================================\n",
      "Total params: 73\n",
      "Trainable params: 73\n",
      "Non-trainable params: 0\n",
      "=================================================================\n"
     ]
    }
   ],
   "source": [
    "from torchinfo import summary\n",
    "model = PENet()\n",
    "model = model.cuda()\n",
    "print(summary(model))\n"
   ]
  },
  {
   "cell_type": "markdown",
   "metadata": {},
   "source": [
    "# Scoring"
   ]
  },
  {
   "cell_type": "code",
   "execution_count": 12,
   "metadata": {},
   "outputs": [],
   "source": [
    "import sklearn\n",
    "\n",
    "class ParticipantVisibleError(Exception):\n",
    "    pass\n",
    "\n",
    "def normalize_probabilities_to_one(df: pd.DataFrame, group_columns: list) -> pd.DataFrame:\n",
    "    # Normalize the sum of each row's probabilities to 100%.\n",
    "    # 0.75, 0.75 => 0.5, 0.5\n",
    "    # 0.1, 0.1 => 0.5, 0.5\n",
    "    row_totals = df[group_columns].sum(axis=1)\n",
    "    if row_totals.min() == 0:\n",
    "        raise ParticipantVisibleError('All rows must contain at least one non-zero prediction')\n",
    "    for col in group_columns:\n",
    "        df[col] /= row_totals\n",
    "    return df\n",
    "\n",
    "\n",
    "def score(solution: pd.DataFrame, submission: pd.DataFrame, row_id_column_name: str) -> float:\n",
    "    '''\n",
    "    Pseudocode:\n",
    "    1. For every label group (liver, bowel, etc):\n",
    "        - Normalize the sum of each row's probabilities to 100%.\n",
    "        - Calculate the sample weighted log loss.\n",
    "    2. Derive a new any_injury label by taking the max of 1 - p(healthy) for each label group\n",
    "    3. Calculate the sample weighted log loss for the new label group\n",
    "    4. Return the average of all of the label group log losses as the final score.\n",
    "    '''\n",
    "    del solution[row_id_column_name]\n",
    "    del submission[row_id_column_name]\n",
    "    # Run basic QC checks on the inputs\n",
    "    if not pd.api.types.is_numeric_dtype(submission.values):\n",
    "        raise ParticipantVisibleError('All submission values must be numeric')\n",
    "\n",
    "    if not np.isfinite(submission.values).all():\n",
    "        raise ParticipantVisibleError('All submission values must be finite')\n",
    "\n",
    "    if solution.min().min() < 0:\n",
    "        raise ParticipantVisibleError('All labels must be at least zero')\n",
    "    if submission.min().min() < 0:\n",
    "        raise ParticipantVisibleError('All predictions must be at least zero')\n",
    "\n",
    "    # Calculate the label group log losses\n",
    "    binary_targets = ['bowel', 'extravasation']\n",
    "    triple_level_targets = ['kidney', 'liver', 'spleen']\n",
    "    all_target_categories = binary_targets + triple_level_targets\n",
    "\n",
    "    label_group_losses = []\n",
    "    for category in all_target_categories:\n",
    "        if category in binary_targets:\n",
    "            col_group = [f'{category}_healthy', f'{category}_injury']\n",
    "        else:\n",
    "            col_group = [f'{category}_healthy', f'{category}_low', f'{category}_high']\n",
    "\n",
    "        solution = normalize_probabilities_to_one(solution, col_group)\n",
    "\n",
    "        for col in col_group:\n",
    "            if col not in submission.columns:\n",
    "                raise ParticipantVisibleError(f'Missing submission column {col}')\n",
    "        submission = normalize_probabilities_to_one(submission, col_group)\n",
    "        label_group_losses.append(\n",
    "            sklearn.metrics.log_loss(\n",
    "                y_true=solution[col_group].values,\n",
    "                y_pred=submission[col_group].values,\n",
    "                sample_weight=solution[f'{category}_weight'].values\n",
    "            )\n",
    "        )\n",
    "\n",
    "    # Derive a new any_injury label by taking the max of 1 - p(healthy) for each label group\n",
    "    healthy_cols = [x + '_healthy' for x in all_target_categories]\n",
    "    any_injury_labels = (1 - solution[healthy_cols]).max(axis=1)\n",
    "    any_injury_predictions = (1 - submission[healthy_cols]).max(axis=1)\n",
    "    any_injury_loss = sklearn.metrics.log_loss(\n",
    "        y_true=any_injury_labels.values,\n",
    "        y_pred=any_injury_predictions.values,\n",
    "        sample_weight=solution['any_injury_weight'].values\n",
    "    )\n",
    "\n",
    "    label_group_losses.append(any_injury_loss)\n",
    "    all_target_categories.append(\"any_injury\")\n",
    "    \n",
    "    group_losses={all_target_categories[i]:label_group_losses[i] for i in range(len(all_target_categories)) }\n",
    "    return np.mean(label_group_losses),group_losses\n"
   ]
  },
  {
   "cell_type": "code",
   "execution_count": 13,
   "metadata": {},
   "outputs": [],
   "source": [
    "# Assign the appropriate weights to each category\n",
    "def create_training_solution(y_train):\n",
    "    sol_train = y_train.copy()\n",
    "    \n",
    "    # bowel healthy|injury sample weight = 1|2\n",
    "    sol_train['bowel_weight'] = np.where(sol_train['bowel_injury'] == 1, 2, 1)\n",
    "    \n",
    "    # extravasation healthy/injury sample weight = 1|6\n",
    "    sol_train['extravasation_weight'] = np.where(sol_train['extravasation_injury'] == 1, 6, 1)\n",
    "    \n",
    "    # kidney healthy|low|high sample weight = 1|2|4\n",
    "    sol_train['kidney_weight'] = np.where(sol_train['kidney_low'] == 1, 2, np.where(sol_train['kidney_high'] == 1, 4, 1))\n",
    "    \n",
    "    # liver healthy|low|high sample weight = 1|2|4\n",
    "    sol_train['liver_weight'] = np.where(sol_train['liver_low'] == 1, 2, np.where(sol_train['liver_high'] == 1, 4, 1))\n",
    "    \n",
    "    # spleen healthy|low|high sample weight = 1|2|4\n",
    "    sol_train['spleen_weight'] = np.where(sol_train['spleen_low'] == 1, 2, np.where(sol_train['spleen_high'] == 1, 4, 1))\n",
    "    \n",
    "    # any healthy|injury sample weight = 1|6\n",
    "    sol_train['any_injury_weight'] = np.where(sol_train['any_injury'] == 1, 6, 1)\n",
    "    return sol_train\n"
   ]
  },
  {
   "cell_type": "code",
   "execution_count": 14,
   "metadata": {},
   "outputs": [],
   "source": [
    "criterion = nn.CrossEntropyLoss(reduction='none').cuda()\n",
    "criterion2 = nn.BCEWithLogitsLoss(reduction='none').cuda()\n",
    "criterion2a=nn.BCELoss(reduction=\"none\").cuda()"
   ]
  },
  {
   "cell_type": "markdown",
   "metadata": {},
   "source": [
    "# Train/Valid funuctions"
   ]
  },
  {
   "cell_type": "code",
   "execution_count": 15,
   "metadata": {},
   "outputs": [],
   "source": [
    "\n",
    "\n",
    "\n",
    "def train_func(model, loader_train, optimizer, scaler,total_weight,debug=False):\n",
    "    model.train()\n",
    "    train_loss = [] \n",
    "    group_loss={k:[] for k in [\"liver\",\"spleen\",\"kidney\",\"bowel\",\"extravasation\",\"any_injury\"]}\n",
    "    bar = tqdm(loader_train)\n",
    "    for data, targets  in bar:\n",
    "        optimizer.zero_grad()\n",
    "        data = {k:data[k].cuda() for k in data}\n",
    "        targets = {k: targets[k].cuda() for k in targets}\n",
    "        for k in [\"liver\",\"spleen\",\"kidney\"]:\n",
    "            targets[k]=F.one_hot(targets[k].long(), num_classes= 3).float()\n",
    "            \n",
    "  \n",
    "        with amp.autocast():\n",
    "\n",
    "            logits=model(data)\n",
    "            dloss={}\n",
    "            prob_injury={}\n",
    "            dloss[\"bowel\"] = criterion2(logits[\"bowel\"], targets[\"bowel\"])\n",
    "            dloss[\"extravasation\"]=criterion2(logits[\"extravasation\"],targets[\"extravasation\"])\n",
    "            for k in [\"liver\",\"spleen\",\"kidney\"]:\n",
    "                #print(targets[k].shape,logits[k].shape)\n",
    "                dloss[k]=criterion(logits[k],targets[k])\n",
    "                #print(\"D\",dloss[k],targets[k])\n",
    "            weights={}\n",
    "            weights[\"bowel\"]=1+targets[\"bowel\"]\n",
    "            weights[\"extravasation\"]= 1+targets[\"extravasation\"]*5\n",
    "            for k in [\"liver\",\"spleen\",\"kidney\"]:\n",
    "                weights[k]=targets[k][:,0]+targets[k][:,1]*2+targets[k][:,2]*4\n",
    "\n",
    "        \n",
    "        # without amp            \n",
    "        for k in [\"liver\",\"spleen\",\"kidney\"]:\n",
    "            prob_injury[k]=1-nn.Softmax(dim=1)(logits[k].float())[:,0]\n",
    "        for k in [\"bowel\",\"extravasation\"]:\n",
    "            prob_injury[k]=nn.Sigmoid()(logits[k].float())\n",
    "        any_injury_prob=torch.stack([prob_injury[k] for k in prob_injury],dim=1).max(dim=1)[0]\n",
    "\n",
    "        dloss[\"any_injury\"] = criterion2a(any_injury_prob,targets[\"any_injury\"])     \n",
    "        weights[\"any_injury\"]= 1+targets[\"any_injury\"]*5\n",
    "\n",
    "\n",
    "        for k in dloss:\n",
    "            dloss[k]=torch.mean(dloss[k]*weights[k])/total_weight[k]\n",
    "\n",
    "        loss=0\n",
    "        \n",
    "        nloss=0\n",
    "        for key in dloss : \n",
    "            loss += dloss[key]\n",
    "            nloss+=1\n",
    "        loss=loss/nloss\n",
    "\n",
    "        if not debug:\n",
    "            scaler.scale(loss).backward()\n",
    "            scaler.step(optimizer)\n",
    "            scaler.update()\n",
    "        train_loss.append(loss.item())\n",
    "        bar.set_description(f'smth:{np.mean(train_loss[-100:]):.4f}')\n",
    "        for k in dloss:\n",
    "            group_loss[k].append(dloss[k].item())\n",
    "    for k in group_loss:\n",
    "        group_loss[k]=np.mean(group_loss[k])\n",
    "    return np.mean(train_loss),group_loss\n",
    "\n",
    "\n",
    "def valid_func(model, loader_valid,solution):\n",
    "    model.eval()\n",
    "    bar = tqdm(loader_valid)\n",
    "    probs={\"liver\":[],\"spleen\":[],\"kidney\":[],\"bowel\":[],\"extravasation\":[]}\n",
    "    submission={}\n",
    "    with torch.no_grad():\n",
    "        for data, targets in bar:\n",
    "            data = {k:data[k].cuda() for k in data}\n",
    "            targets = {k: targets[k].cuda() for k in targets}\n",
    "  \n",
    "            with amp.autocast():\n",
    "                logits = model(data)\n",
    "                \n",
    "            for k in [\"bowel\",\"extravasation\"]:\n",
    "                probs[k].append(nn.Sigmoid()(logits[k].float()))\n",
    "            for k in [\"liver\",\"spleen\",\"kidney\"]:\n",
    "                probs[k].append(nn.Softmax(dim=1)(logits[k].float()))\n",
    "    \n",
    "    for k in probs:\n",
    "        probs[k]=torch.cat(probs[k],dim=0).numpy(force=True)        \n",
    "\n",
    "    for k in [\"liver\",\"spleen\",\"kidney\"]:\n",
    "        submission[f\"{k}_healthy\"]=probs[k][:,0]\n",
    "        submission[f\"{k}_low\"]=probs[k][:,1]\n",
    "        submission[f\"{k}_high\"]=probs[k][:,2]\n",
    "    for k in [\"bowel\",\"extravasation\"]:\n",
    "        submission[f\"{k}_healthy\"]=1-probs[k]\n",
    "        submission[f\"{k}_injury\"]=probs[k]\n",
    "                   \n",
    "                   \n",
    "    submission[\"patient_id\"]=solution[\"patient_id\"]\n",
    "    submission=pd.DataFrame(submission)\n",
    "    valid_loss,group_losses = score(solution.copy(),submission,'patient_id')\n",
    "    #print(\"valid_func\",group_losses)\n",
    "    return valid_loss,group_losses\n",
    "            "
   ]
  },
  {
   "cell_type": "markdown",
   "metadata": {},
   "source": [
    "# Training"
   ]
  },
  {
   "cell_type": "code",
   "execution_count": 16,
   "metadata": {},
   "outputs": [],
   "source": [
    "from torch.utils.data import WeightedRandomSampler\n",
    "kernel_type=\"lstm \"\n",
    "def total_weights(df):\n",
    "    dfp=df.drop_duplicates(\"patient_id\")\n",
    "    total_weight={}\n",
    "    total_weight[\"bowel\"]=np.mean(1+dfp.bowel)\n",
    "    total_weight[\"extravasation\"]=np.mean(1+5*dfp.extravasation)\n",
    "    total_weight[\"any_injury\"]=np.mean(1+5*dfp.any_injury)\n",
    "    for k in [\"liver\",\"spleen\",\"kidney\"]:\n",
    "        total_weight[k]=np.mean(np.where(dfp[k]==0,1,0)+np.where(dfp[k]==1,2,0)+np.where(dfp[k]==2,4,0))\n",
    "    return total_weight\n",
    "\n",
    "\n",
    "def run(fold):\n",
    "\n",
    "    log_file = os.path.join(log_dir, f'{kernel_type}.txt')\n",
    "    model_file = os.path.join(model_dir, f'{kernel_type}_fold{fold}_best.pth')\n",
    "\n",
    "    train_ = df[(df['fold'] != fold)]\n",
    "    valid_ = df[(df['fold'] == fold)]\n",
    "    total_weights_train=total_weights(train_)\n",
    "    print(\"total weights\",total_weights_train)\n",
    "    total_weights_valid=total_weights(valid_)\n",
    "    #print(train_bowel_weight,train_extravasation_weight)\n",
    "    \n",
    "    dataset_train = CLS3Dataset(train_, 'train',fold=fold)\n",
    "    dataset_valid = CLS3Dataset(valid_, 'valid',fold=fold)\n",
    "\n",
    "    \n",
    "    loader_train = torch.utils.data.DataLoader(dataset_train, batch_size=batch_size, shuffle=True, num_workers=num_workers, drop_last=True,pin_memory=True)\n",
    "\n",
    "    loader_valid = torch.utils.data.DataLoader(dataset_valid, batch_size=batch_size, shuffle=False, num_workers=num_workers,pin_memory=True)\n",
    "\n",
    "    model = PENet()\n",
    "    model = model.to(device)\n",
    "\n",
    "    optimizer = optim.AdamW(model.parameters(), lr=init_lr,weight_decay=1e-1)\n",
    "    scaler = torch.cuda.amp.GradScaler() \n",
    "\n",
    "    metric_best = np.inf\n",
    "\n",
    "    scheduler_cosine = torch.optim.lr_scheduler.CosineAnnealingWarmRestarts(optimizer, n_epochs, eta_min=eta_min)\n",
    "\n",
    "    print(\"#train\", len(dataset_train), \"#valid\",len(dataset_valid))\n",
    "    pvalid=valid_.drop_duplicates(subset=[\"patient_id\"])\n",
    "    solution=create_training_solution(df_p.set_index(\"patient_id\",drop=False).loc[pvalid.patient_id])\n",
    "    for epoch in range(1, n_epochs+1):\n",
    "        print(time.ctime(), 'Epoch:', epoch)\n",
    "        train_loss,train_group_loss = train_func(model, loader_train, optimizer, scaler,total_weights_train)\n",
    "        #train_loss=0\n",
    "        scheduler_cosine.step(epoch-1)   \n",
    "        valid_loss,valid_group_loss = valid_func(model, loader_valid,solution)\n",
    "        metric = valid_loss\n",
    "\n",
    "        content = time.ctime() + ' ' + f'Fold {fold}, Epoch {epoch}, lr: {optimizer.param_groups[0][\"lr\"]:.7f}, train loss: {train_loss:.5f}, valid loss: {valid_loss:.5f}, metric: {(metric):.6f}.'\n",
    "        print(content)\n",
    "        with open(log_file, 'a') as appender:\n",
    "            appender.write(content + '\\n')\n",
    "\n",
    "        if metric < metric_best:\n",
    "            print(f'metric_best ({metric_best:.6f} --> {metric:.6f}). Saving model ...')\n",
    "            torch.save(model.state_dict(), model_file)\n",
    "            metric_best = metric\n",
    "\n",
    "    print(valid_group_loss)\n",
    "    print(model.inj_bias)\n",
    "    del model\n",
    "    torch.cuda.empty_cache()\n",
    "    gc.collect()\n",
    "    return metric_best"
   ]
  },
  {
   "cell_type": "markdown",
   "metadata": {},
   "source": [
    "# Run"
   ]
  },
  {
   "cell_type": "code",
   "execution_count": 17,
   "metadata": {},
   "outputs": [
    {
     "name": "stdout",
     "output_type": "stream",
     "text": [
      "total weights {'bowel': 1.0218514104092173, 'extravasation': 1.313865713150576, 'any_injury': 2.3369090186730235, 'liver': 1.1386571315057608, 'spleen': 1.2042113627334128, 'kidney': 1.0985299960270163}\n"
     ]
    },
    {
     "name": "stdout",
     "output_type": "stream",
     "text": [
      "#train 2517 #valid 630\n",
      "Wed Sep 20 12:16:04 2023 Epoch: 1\n"
     ]
    },
    {
     "name": "stderr",
     "output_type": "stream",
     "text": [
      "smth:0.3677: 100%|██████████| 39/39 [00:01<00:00, 28.27it/s]\n",
      "100%|██████████| 10/10 [00:00<00:00, 24.18it/s]\n"
     ]
    },
    {
     "name": "stdout",
     "output_type": "stream",
     "text": [
      "Wed Sep 20 12:16:06 2023 Fold 0, Epoch 1, lr: 0.0100000, train loss: 0.36765, valid loss: 0.41224, metric: 0.412237.\n",
      "metric_best (inf --> 0.412237). Saving model ...\n",
      "Wed Sep 20 12:16:06 2023 Epoch: 2\n"
     ]
    },
    {
     "name": "stderr",
     "output_type": "stream",
     "text": [
      "smth:0.3643: 100%|██████████| 39/39 [00:01<00:00, 33.45it/s]\n",
      "100%|██████████| 10/10 [00:00<00:00, 23.66it/s]\n"
     ]
    },
    {
     "name": "stdout",
     "output_type": "stream",
     "text": [
      "Wed Sep 20 12:16:08 2023 Fold 0, Epoch 2, lr: 0.0097553, train loss: 0.36433, valid loss: 0.40991, metric: 0.409911.\n",
      "metric_best (0.412237 --> 0.409911). Saving model ...\n",
      "Wed Sep 20 12:16:08 2023 Epoch: 3\n"
     ]
    },
    {
     "name": "stderr",
     "output_type": "stream",
     "text": [
      "smth:0.3642: 100%|██████████| 39/39 [00:01<00:00, 35.33it/s]\n",
      "100%|██████████| 10/10 [00:00<00:00, 22.97it/s]\n"
     ]
    },
    {
     "name": "stdout",
     "output_type": "stream",
     "text": [
      "Wed Sep 20 12:16:09 2023 Fold 0, Epoch 3, lr: 0.0090451, train loss: 0.36418, valid loss: 0.40955, metric: 0.409549.\n",
      "metric_best (0.409911 --> 0.409549). Saving model ...\n",
      "Wed Sep 20 12:16:09 2023 Epoch: 4\n"
     ]
    },
    {
     "name": "stderr",
     "output_type": "stream",
     "text": [
      "smth:0.3631: 100%|██████████| 39/39 [00:01<00:00, 32.96it/s]\n",
      "100%|██████████| 10/10 [00:00<00:00, 23.77it/s]\n"
     ]
    },
    {
     "name": "stdout",
     "output_type": "stream",
     "text": [
      "Wed Sep 20 12:16:11 2023 Fold 0, Epoch 4, lr: 0.0079389, train loss: 0.36310, valid loss: 0.40886, metric: 0.408864.\n",
      "metric_best (0.409549 --> 0.408864). Saving model ...\n",
      "Wed Sep 20 12:16:11 2023 Epoch: 5\n"
     ]
    },
    {
     "name": "stderr",
     "output_type": "stream",
     "text": [
      "smth:0.3638: 100%|██████████| 39/39 [00:01<00:00, 36.19it/s]\n",
      "100%|██████████| 10/10 [00:00<00:00, 24.07it/s]\n"
     ]
    },
    {
     "name": "stdout",
     "output_type": "stream",
     "text": [
      "Wed Sep 20 12:16:12 2023 Fold 0, Epoch 5, lr: 0.0065451, train loss: 0.36380, valid loss: 0.40873, metric: 0.408729.\n",
      "metric_best (0.408864 --> 0.408729). Saving model ...\n",
      "Wed Sep 20 12:16:12 2023 Epoch: 6\n"
     ]
    },
    {
     "name": "stderr",
     "output_type": "stream",
     "text": [
      "smth:0.3640: 100%|██████████| 39/39 [00:01<00:00, 33.46it/s]\n",
      "100%|██████████| 10/10 [00:00<00:00, 20.05it/s]\n"
     ]
    },
    {
     "name": "stdout",
     "output_type": "stream",
     "text": [
      "Wed Sep 20 12:16:14 2023 Fold 0, Epoch 6, lr: 0.0050000, train loss: 0.36404, valid loss: 0.40856, metric: 0.408556.\n",
      "metric_best (0.408729 --> 0.408556). Saving model ...\n",
      "Wed Sep 20 12:16:14 2023 Epoch: 7\n"
     ]
    },
    {
     "name": "stderr",
     "output_type": "stream",
     "text": [
      "smth:0.3619: 100%|██████████| 39/39 [00:01<00:00, 34.86it/s]\n",
      "100%|██████████| 10/10 [00:00<00:00, 25.07it/s]\n"
     ]
    },
    {
     "name": "stdout",
     "output_type": "stream",
     "text": [
      "Wed Sep 20 12:16:16 2023 Fold 0, Epoch 7, lr: 0.0034549, train loss: 0.36194, valid loss: 0.40884, metric: 0.408835.\n",
      "Wed Sep 20 12:16:16 2023 Epoch: 8\n"
     ]
    },
    {
     "name": "stderr",
     "output_type": "stream",
     "text": [
      "smth:0.3623: 100%|██████████| 39/39 [00:01<00:00, 36.14it/s]\n",
      "100%|██████████| 10/10 [00:00<00:00, 24.01it/s]\n"
     ]
    },
    {
     "name": "stdout",
     "output_type": "stream",
     "text": [
      "Wed Sep 20 12:16:17 2023 Fold 0, Epoch 8, lr: 0.0020611, train loss: 0.36226, valid loss: 0.40849, metric: 0.408490.\n",
      "metric_best (0.408556 --> 0.408490). Saving model ...\n",
      "Wed Sep 20 12:16:17 2023 Epoch: 9\n"
     ]
    },
    {
     "name": "stderr",
     "output_type": "stream",
     "text": [
      "smth:0.3641: 100%|██████████| 39/39 [00:01<00:00, 35.68it/s]\n",
      "100%|██████████| 10/10 [00:00<00:00, 22.92it/s]\n"
     ]
    },
    {
     "name": "stdout",
     "output_type": "stream",
     "text": [
      "Wed Sep 20 12:16:19 2023 Fold 0, Epoch 9, lr: 0.0009549, train loss: 0.36413, valid loss: 0.40857, metric: 0.408570.\n",
      "Wed Sep 20 12:16:19 2023 Epoch: 10\n"
     ]
    },
    {
     "name": "stderr",
     "output_type": "stream",
     "text": [
      "smth:0.3630: 100%|██████████| 39/39 [00:01<00:00, 37.34it/s]\n",
      "100%|██████████| 10/10 [00:00<00:00, 22.92it/s]\n"
     ]
    },
    {
     "name": "stdout",
     "output_type": "stream",
     "text": [
      "Wed Sep 20 12:16:20 2023 Fold 0, Epoch 10, lr: 0.0002447, train loss: 0.36297, valid loss: 0.40854, metric: 0.408536.\n",
      "{'bowel': 0.1284149841568599, 'extravasation': 0.6097980313499993, 'kidney': 0.33176203581900143, 'liver': 0.41240558664293664, 'spleen': 0.43513212875666546, 'any_injury': 0.5337059916159567}\n",
      "Parameter containing:\n",
      "tensor([ 0.0837,  0.1072,  0.2187,  0.5386,  0.1966,  0.6212, -0.2894,  0.1659],\n",
      "       device='cuda:0', requires_grad=True)\n",
      "total weights {'bowel': 1.0214541120381406, 'extravasation': 1.3019467620182756, 'any_injury': 2.360746920937624, 'liver': 1.1394517282479142, 'spleen': 1.2256654747715534, 'kidney': 1.1017083829956298}\n",
      "#train 2517 #valid 630\n",
      "Wed Sep 20 12:16:21 2023 Epoch: 1\n"
     ]
    },
    {
     "name": "stderr",
     "output_type": "stream",
     "text": [
      "smth:0.3473: 100%|██████████| 39/39 [00:01<00:00, 36.14it/s]\n",
      "100%|██████████| 10/10 [00:00<00:00, 26.26it/s]\n"
     ]
    },
    {
     "name": "stdout",
     "output_type": "stream",
     "text": [
      "Wed Sep 20 12:16:22 2023 Fold 1, Epoch 1, lr: 0.0100000, train loss: 0.34731, valid loss: 0.38859, metric: 0.388586.\n",
      "metric_best (inf --> 0.388586). Saving model ...\n",
      "Wed Sep 20 12:16:22 2023 Epoch: 2\n"
     ]
    },
    {
     "name": "stderr",
     "output_type": "stream",
     "text": [
      "smth:0.3452: 100%|██████████| 39/39 [00:01<00:00, 36.36it/s]\n",
      "100%|██████████| 10/10 [00:00<00:00, 25.27it/s]\n"
     ]
    },
    {
     "name": "stdout",
     "output_type": "stream",
     "text": [
      "Wed Sep 20 12:16:24 2023 Fold 1, Epoch 2, lr: 0.0097553, train loss: 0.34515, valid loss: 0.38633, metric: 0.386329.\n",
      "metric_best (0.388586 --> 0.386329). Saving model ...\n",
      "Wed Sep 20 12:16:24 2023 Epoch: 3\n"
     ]
    },
    {
     "name": "stderr",
     "output_type": "stream",
     "text": [
      "smth:0.3428: 100%|██████████| 39/39 [00:01<00:00, 35.95it/s]\n",
      "100%|██████████| 10/10 [00:00<00:00, 24.49it/s]\n"
     ]
    },
    {
     "name": "stdout",
     "output_type": "stream",
     "text": [
      "Wed Sep 20 12:16:25 2023 Fold 1, Epoch 3, lr: 0.0090451, train loss: 0.34281, valid loss: 0.38542, metric: 0.385424.\n",
      "metric_best (0.386329 --> 0.385424). Saving model ...\n",
      "Wed Sep 20 12:16:25 2023 Epoch: 4\n"
     ]
    },
    {
     "name": "stderr",
     "output_type": "stream",
     "text": [
      "smth:0.3443: 100%|██████████| 39/39 [00:01<00:00, 37.16it/s]\n",
      "100%|██████████| 10/10 [00:00<00:00, 23.32it/s]\n"
     ]
    },
    {
     "name": "stdout",
     "output_type": "stream",
     "text": [
      "Wed Sep 20 12:16:27 2023 Fold 1, Epoch 4, lr: 0.0079389, train loss: 0.34434, valid loss: 0.38536, metric: 0.385358.\n",
      "metric_best (0.385424 --> 0.385358). Saving model ...\n",
      "Wed Sep 20 12:16:27 2023 Epoch: 5\n"
     ]
    },
    {
     "name": "stderr",
     "output_type": "stream",
     "text": [
      "smth:0.3421: 100%|██████████| 39/39 [00:01<00:00, 35.74it/s]\n",
      "100%|██████████| 10/10 [00:00<00:00, 23.96it/s]\n"
     ]
    },
    {
     "name": "stdout",
     "output_type": "stream",
     "text": [
      "Wed Sep 20 12:16:28 2023 Fold 1, Epoch 5, lr: 0.0065451, train loss: 0.34211, valid loss: 0.38505, metric: 0.385050.\n",
      "metric_best (0.385358 --> 0.385050). Saving model ...\n",
      "Wed Sep 20 12:16:28 2023 Epoch: 6\n"
     ]
    },
    {
     "name": "stderr",
     "output_type": "stream",
     "text": [
      "smth:0.3416: 100%|██████████| 39/39 [00:01<00:00, 36.02it/s]\n",
      "100%|██████████| 10/10 [00:00<00:00, 23.81it/s]\n"
     ]
    },
    {
     "name": "stdout",
     "output_type": "stream",
     "text": [
      "Wed Sep 20 12:16:30 2023 Fold 1, Epoch 6, lr: 0.0050000, train loss: 0.34165, valid loss: 0.38525, metric: 0.385251.\n",
      "Wed Sep 20 12:16:30 2023 Epoch: 7\n"
     ]
    },
    {
     "name": "stderr",
     "output_type": "stream",
     "text": [
      "smth:0.3423: 100%|██████████| 39/39 [00:01<00:00, 34.95it/s]\n",
      "100%|██████████| 10/10 [00:00<00:00, 24.64it/s]\n"
     ]
    },
    {
     "name": "stdout",
     "output_type": "stream",
     "text": [
      "Wed Sep 20 12:16:31 2023 Fold 1, Epoch 7, lr: 0.0034549, train loss: 0.34229, valid loss: 0.38534, metric: 0.385341.\n",
      "Wed Sep 20 12:16:31 2023 Epoch: 8\n"
     ]
    },
    {
     "name": "stderr",
     "output_type": "stream",
     "text": [
      "smth:0.3423: 100%|██████████| 39/39 [00:01<00:00, 36.01it/s]\n",
      "100%|██████████| 10/10 [00:00<00:00, 22.52it/s]\n"
     ]
    },
    {
     "name": "stdout",
     "output_type": "stream",
     "text": [
      "Wed Sep 20 12:16:33 2023 Fold 1, Epoch 8, lr: 0.0020611, train loss: 0.34232, valid loss: 0.38525, metric: 0.385254.\n",
      "Wed Sep 20 12:16:33 2023 Epoch: 9\n"
     ]
    },
    {
     "name": "stderr",
     "output_type": "stream",
     "text": [
      "smth:0.3426: 100%|██████████| 39/39 [00:01<00:00, 33.60it/s]\n",
      "100%|██████████| 10/10 [00:00<00:00, 23.16it/s]\n"
     ]
    },
    {
     "name": "stdout",
     "output_type": "stream",
     "text": [
      "Wed Sep 20 12:16:35 2023 Fold 1, Epoch 9, lr: 0.0009549, train loss: 0.34261, valid loss: 0.38524, metric: 0.385240.\n",
      "Wed Sep 20 12:16:35 2023 Epoch: 10\n"
     ]
    },
    {
     "name": "stderr",
     "output_type": "stream",
     "text": [
      "smth:0.3426: 100%|██████████| 39/39 [00:01<00:00, 36.00it/s]\n",
      "100%|██████████| 10/10 [00:00<00:00, 24.17it/s]\n"
     ]
    },
    {
     "name": "stdout",
     "output_type": "stream",
     "text": [
      "Wed Sep 20 12:16:36 2023 Fold 1, Epoch 10, lr: 0.0002447, train loss: 0.34264, valid loss: 0.38521, metric: 0.385210.\n",
      "{'bowel': 0.13894743822757363, 'extravasation': 0.6235678994559013, 'kidney': 0.23528833772541521, 'liver': 0.4050711273327272, 'spleen': 0.3623365032825727, 'any_injury': 0.5460500782119483}\n",
      "Parameter containing:\n",
      "tensor([ 0.4287, -0.1421,  0.6426,  0.4877,  0.5553,  0.6233,  0.0278,  0.1532],\n",
      "       device='cuda:0', requires_grad=True)\n",
      "total weights {'bowel': 1.0206513105639397, 'extravasation': 1.3157267672756157, 'any_injury': 2.340349483717236, 'liver': 1.1389992057188245, 'spleen': 1.1977760127084989, 'kidney': 1.096902303415409}\n",
      "#train 2518 #valid 629\n",
      "Wed Sep 20 12:16:37 2023 Epoch: 1\n"
     ]
    },
    {
     "name": "stderr",
     "output_type": "stream",
     "text": [
      "smth:0.3463: 100%|██████████| 39/39 [00:01<00:00, 34.65it/s]\n",
      "100%|██████████| 10/10 [00:00<00:00, 24.23it/s]\n"
     ]
    },
    {
     "name": "stdout",
     "output_type": "stream",
     "text": [
      "Wed Sep 20 12:16:38 2023 Fold 2, Epoch 1, lr: 0.0100000, train loss: 0.34633, valid loss: 0.39942, metric: 0.399425.\n",
      "metric_best (inf --> 0.399425). Saving model ...\n",
      "Wed Sep 20 12:16:38 2023 Epoch: 2\n"
     ]
    },
    {
     "name": "stderr",
     "output_type": "stream",
     "text": [
      "smth:0.3417: 100%|██████████| 39/39 [00:01<00:00, 36.67it/s]\n",
      "100%|██████████| 10/10 [00:00<00:00, 21.36it/s]\n"
     ]
    },
    {
     "name": "stdout",
     "output_type": "stream",
     "text": [
      "Wed Sep 20 12:16:40 2023 Fold 2, Epoch 2, lr: 0.0097553, train loss: 0.34170, valid loss: 0.39468, metric: 0.394679.\n",
      "metric_best (0.399425 --> 0.394679). Saving model ...\n",
      "Wed Sep 20 12:16:40 2023 Epoch: 3\n"
     ]
    },
    {
     "name": "stderr",
     "output_type": "stream",
     "text": [
      "smth:0.3387: 100%|██████████| 39/39 [00:01<00:00, 34.48it/s]\n",
      "100%|██████████| 10/10 [00:00<00:00, 24.64it/s]\n"
     ]
    },
    {
     "name": "stdout",
     "output_type": "stream",
     "text": [
      "Wed Sep 20 12:16:41 2023 Fold 2, Epoch 3, lr: 0.0090451, train loss: 0.33866, valid loss: 0.39191, metric: 0.391915.\n",
      "metric_best (0.394679 --> 0.391915). Saving model ...\n",
      "Wed Sep 20 12:16:41 2023 Epoch: 4\n"
     ]
    },
    {
     "name": "stderr",
     "output_type": "stream",
     "text": [
      "smth:0.3382: 100%|██████████| 39/39 [00:01<00:00, 35.17it/s]\n",
      "100%|██████████| 10/10 [00:00<00:00, 22.48it/s]\n"
     ]
    },
    {
     "name": "stdout",
     "output_type": "stream",
     "text": [
      "Wed Sep 20 12:16:43 2023 Fold 2, Epoch 4, lr: 0.0079389, train loss: 0.33815, valid loss: 0.39047, metric: 0.390465.\n",
      "metric_best (0.391915 --> 0.390465). Saving model ...\n",
      "Wed Sep 20 12:16:43 2023 Epoch: 5\n"
     ]
    },
    {
     "name": "stderr",
     "output_type": "stream",
     "text": [
      "smth:0.3372: 100%|██████████| 39/39 [00:01<00:00, 36.17it/s]\n",
      "100%|██████████| 10/10 [00:00<00:00, 24.19it/s]\n"
     ]
    },
    {
     "name": "stdout",
     "output_type": "stream",
     "text": [
      "Wed Sep 20 12:16:44 2023 Fold 2, Epoch 5, lr: 0.0065451, train loss: 0.33725, valid loss: 0.38987, metric: 0.389871.\n",
      "metric_best (0.390465 --> 0.389871). Saving model ...\n",
      "Wed Sep 20 12:16:44 2023 Epoch: 6\n"
     ]
    },
    {
     "name": "stderr",
     "output_type": "stream",
     "text": [
      "smth:0.3370: 100%|██████████| 39/39 [00:01<00:00, 35.01it/s]\n",
      "100%|██████████| 10/10 [00:00<00:00, 24.73it/s]\n"
     ]
    },
    {
     "name": "stdout",
     "output_type": "stream",
     "text": [
      "Wed Sep 20 12:16:46 2023 Fold 2, Epoch 6, lr: 0.0050000, train loss: 0.33699, valid loss: 0.38914, metric: 0.389139.\n",
      "metric_best (0.389871 --> 0.389139). Saving model ...\n",
      "Wed Sep 20 12:16:46 2023 Epoch: 7\n"
     ]
    },
    {
     "name": "stderr",
     "output_type": "stream",
     "text": [
      "smth:0.3363: 100%|██████████| 39/39 [00:01<00:00, 37.07it/s]\n",
      "100%|██████████| 10/10 [00:00<00:00, 22.94it/s]\n"
     ]
    },
    {
     "name": "stdout",
     "output_type": "stream",
     "text": [
      "Wed Sep 20 12:16:48 2023 Fold 2, Epoch 7, lr: 0.0034549, train loss: 0.33631, valid loss: 0.38881, metric: 0.388809.\n",
      "metric_best (0.389139 --> 0.388809). Saving model ...\n",
      "Wed Sep 20 12:16:48 2023 Epoch: 8\n"
     ]
    },
    {
     "name": "stderr",
     "output_type": "stream",
     "text": [
      "smth:0.3378: 100%|██████████| 39/39 [00:01<00:00, 34.76it/s]\n",
      "100%|██████████| 10/10 [00:00<00:00, 24.16it/s]\n"
     ]
    },
    {
     "name": "stdout",
     "output_type": "stream",
     "text": [
      "Wed Sep 20 12:16:49 2023 Fold 2, Epoch 8, lr: 0.0020611, train loss: 0.33779, valid loss: 0.38864, metric: 0.388638.\n",
      "metric_best (0.388809 --> 0.388638). Saving model ...\n",
      "Wed Sep 20 12:16:49 2023 Epoch: 9\n"
     ]
    },
    {
     "name": "stderr",
     "output_type": "stream",
     "text": [
      "smth:0.3366: 100%|██████████| 39/39 [00:01<00:00, 37.80it/s]\n",
      "100%|██████████| 10/10 [00:00<00:00, 23.88it/s]\n"
     ]
    },
    {
     "name": "stdout",
     "output_type": "stream",
     "text": [
      "Wed Sep 20 12:16:51 2023 Fold 2, Epoch 9, lr: 0.0009549, train loss: 0.33662, valid loss: 0.38853, metric: 0.388534.\n",
      "metric_best (0.388638 --> 0.388534). Saving model ...\n",
      "Wed Sep 20 12:16:51 2023 Epoch: 10\n"
     ]
    },
    {
     "name": "stderr",
     "output_type": "stream",
     "text": [
      "smth:0.3370: 100%|██████████| 39/39 [00:01<00:00, 36.12it/s]\n",
      "100%|██████████| 10/10 [00:00<00:00, 24.36it/s]\n"
     ]
    },
    {
     "name": "stdout",
     "output_type": "stream",
     "text": [
      "Wed Sep 20 12:16:52 2023 Fold 2, Epoch 10, lr: 0.0002447, train loss: 0.33696, valid loss: 0.38850, metric: 0.388501.\n",
      "metric_best (0.388534 --> 0.388501). Saving model ...\n",
      "{'bowel': 0.15665357523118525, 'extravasation': 0.5851381793826368, 'kidney': 0.2581464420591199, 'liver': 0.43217037906643285, 'spleen': 0.4218805252693455, 'any_injury': 0.47701899149952887}\n",
      "Parameter containing:\n",
      "tensor([-0.4790,  0.1976,  0.2944,  0.5309,  0.6085,  0.9084,  0.1392,  0.3034],\n",
      "       device='cuda:0', requires_grad=True)\n",
      "total weights {'bowel': 1.0198570293884035, 'extravasation': 1.3196981731532962, 'any_injury': 2.382049245432883, 'liver': 1.1445591739475773, 'spleen': 1.220810166799047, 'kidney': 1.108022239872915}\n",
      "#train 2518 #valid 629\n",
      "Wed Sep 20 12:16:53 2023 Epoch: 1\n"
     ]
    },
    {
     "name": "stderr",
     "output_type": "stream",
     "text": [
      "smth:0.3534: 100%|██████████| 39/39 [00:01<00:00, 35.74it/s]\n",
      "100%|██████████| 10/10 [00:00<00:00, 24.31it/s]\n"
     ]
    },
    {
     "name": "stdout",
     "output_type": "stream",
     "text": [
      "Wed Sep 20 12:16:54 2023 Fold 3, Epoch 1, lr: 0.0100000, train loss: 0.35340, valid loss: 0.39009, metric: 0.390092.\n",
      "metric_best (inf --> 0.390092). Saving model ...\n",
      "Wed Sep 20 12:16:54 2023 Epoch: 2\n"
     ]
    },
    {
     "name": "stderr",
     "output_type": "stream",
     "text": [
      "smth:0.3478: 100%|██████████| 39/39 [00:01<00:00, 36.01it/s]\n",
      "100%|██████████| 10/10 [00:00<00:00, 25.19it/s]\n"
     ]
    },
    {
     "name": "stdout",
     "output_type": "stream",
     "text": [
      "Wed Sep 20 12:16:56 2023 Fold 3, Epoch 2, lr: 0.0097553, train loss: 0.34784, valid loss: 0.38739, metric: 0.387394.\n",
      "metric_best (0.390092 --> 0.387394). Saving model ...\n",
      "Wed Sep 20 12:16:56 2023 Epoch: 3\n"
     ]
    },
    {
     "name": "stderr",
     "output_type": "stream",
     "text": [
      "smth:0.3459: 100%|██████████| 39/39 [00:01<00:00, 36.68it/s]\n",
      "100%|██████████| 10/10 [00:00<00:00, 23.18it/s]\n"
     ]
    },
    {
     "name": "stdout",
     "output_type": "stream",
     "text": [
      "Wed Sep 20 12:16:57 2023 Fold 3, Epoch 3, lr: 0.0090451, train loss: 0.34594, valid loss: 0.38645, metric: 0.386446.\n",
      "metric_best (0.387394 --> 0.386446). Saving model ...\n",
      "Wed Sep 20 12:16:57 2023 Epoch: 4\n"
     ]
    },
    {
     "name": "stderr",
     "output_type": "stream",
     "text": [
      "smth:0.3442: 100%|██████████| 39/39 [00:01<00:00, 37.33it/s]\n",
      "100%|██████████| 10/10 [00:00<00:00, 23.07it/s]\n"
     ]
    },
    {
     "name": "stdout",
     "output_type": "stream",
     "text": [
      "Wed Sep 20 12:16:59 2023 Fold 3, Epoch 4, lr: 0.0079389, train loss: 0.34420, valid loss: 0.38616, metric: 0.386156.\n",
      "metric_best (0.386446 --> 0.386156). Saving model ...\n",
      "Wed Sep 20 12:16:59 2023 Epoch: 5\n"
     ]
    },
    {
     "name": "stderr",
     "output_type": "stream",
     "text": [
      "smth:0.3438: 100%|██████████| 39/39 [00:01<00:00, 35.62it/s]\n",
      "100%|██████████| 10/10 [00:00<00:00, 24.94it/s]\n"
     ]
    },
    {
     "name": "stdout",
     "output_type": "stream",
     "text": [
      "Wed Sep 20 12:17:00 2023 Fold 3, Epoch 5, lr: 0.0065451, train loss: 0.34384, valid loss: 0.38601, metric: 0.386013.\n",
      "metric_best (0.386156 --> 0.386013). Saving model ...\n",
      "Wed Sep 20 12:17:00 2023 Epoch: 6\n"
     ]
    },
    {
     "name": "stderr",
     "output_type": "stream",
     "text": [
      "smth:0.3448: 100%|██████████| 39/39 [00:01<00:00, 36.25it/s]\n",
      "100%|██████████| 10/10 [00:00<00:00, 23.32it/s]\n"
     ]
    },
    {
     "name": "stdout",
     "output_type": "stream",
     "text": [
      "Wed Sep 20 12:17:02 2023 Fold 3, Epoch 6, lr: 0.0050000, train loss: 0.34483, valid loss: 0.38585, metric: 0.385847.\n",
      "metric_best (0.386013 --> 0.385847). Saving model ...\n",
      "Wed Sep 20 12:17:02 2023 Epoch: 7\n"
     ]
    },
    {
     "name": "stderr",
     "output_type": "stream",
     "text": [
      "smth:0.3435: 100%|██████████| 39/39 [00:01<00:00, 37.36it/s]\n",
      "100%|██████████| 10/10 [00:00<00:00, 24.46it/s]\n"
     ]
    },
    {
     "name": "stdout",
     "output_type": "stream",
     "text": [
      "Wed Sep 20 12:17:03 2023 Fold 3, Epoch 7, lr: 0.0034549, train loss: 0.34355, valid loss: 0.38592, metric: 0.385921.\n",
      "Wed Sep 20 12:17:03 2023 Epoch: 8\n"
     ]
    },
    {
     "name": "stderr",
     "output_type": "stream",
     "text": [
      "smth:0.3432: 100%|██████████| 39/39 [00:01<00:00, 35.35it/s]\n",
      "100%|██████████| 10/10 [00:00<00:00, 24.47it/s]\n"
     ]
    },
    {
     "name": "stdout",
     "output_type": "stream",
     "text": [
      "Wed Sep 20 12:17:05 2023 Fold 3, Epoch 8, lr: 0.0020611, train loss: 0.34320, valid loss: 0.38593, metric: 0.385927.\n",
      "Wed Sep 20 12:17:05 2023 Epoch: 9\n"
     ]
    },
    {
     "name": "stderr",
     "output_type": "stream",
     "text": [
      "smth:0.3433: 100%|██████████| 39/39 [00:01<00:00, 35.44it/s]\n",
      "100%|██████████| 10/10 [00:00<00:00, 24.83it/s]\n"
     ]
    },
    {
     "name": "stdout",
     "output_type": "stream",
     "text": [
      "Wed Sep 20 12:17:06 2023 Fold 3, Epoch 9, lr: 0.0009549, train loss: 0.34333, valid loss: 0.38597, metric: 0.385972.\n",
      "Wed Sep 20 12:17:06 2023 Epoch: 10\n"
     ]
    },
    {
     "name": "stderr",
     "output_type": "stream",
     "text": [
      "smth:0.3439: 100%|██████████| 39/39 [00:01<00:00, 35.92it/s]\n",
      "100%|██████████| 10/10 [00:00<00:00, 23.18it/s]\n"
     ]
    },
    {
     "name": "stdout",
     "output_type": "stream",
     "text": [
      "Wed Sep 20 12:17:08 2023 Fold 3, Epoch 10, lr: 0.0002447, train loss: 0.34387, valid loss: 0.38596, metric: 0.385959.\n",
      "{'bowel': 0.18622457409242762, 'extravasation': 0.5858043405164809, 'kidney': 0.2614805076367622, 'liver': 0.3713987057549118, 'spleen': 0.3920865341215431, 'any_injury': 0.5187609331435119}\n",
      "Parameter containing:\n",
      "tensor([-0.0662,  0.2475,  0.6214,  0.7118,  0.6443,  0.8080,  0.0592,  0.1097],\n",
      "       device='cuda:0', requires_grad=True)\n",
      "total weights {'bowel': 1.0178713264495631, 'extravasation': 1.3375694996028593, 'any_injury': 2.3721207307386813, 'liver': 1.1453534551231135, 'spleen': 1.2065131056393963, 'kidney': 1.096902303415409}\n",
      "#train 2518 #valid 629\n",
      "Wed Sep 20 12:17:08 2023 Epoch: 1\n"
     ]
    },
    {
     "name": "stderr",
     "output_type": "stream",
     "text": [
      "smth:0.4003: 100%|██████████| 39/39 [00:01<00:00, 35.35it/s]\n",
      "100%|██████████| 10/10 [00:00<00:00, 23.60it/s]\n"
     ]
    },
    {
     "name": "stdout",
     "output_type": "stream",
     "text": [
      "Wed Sep 20 12:17:10 2023 Fold 4, Epoch 1, lr: 0.0100000, train loss: 0.40025, valid loss: 0.41811, metric: 0.418115.\n",
      "metric_best (inf --> 0.418115). Saving model ...\n",
      "Wed Sep 20 12:17:10 2023 Epoch: 2\n"
     ]
    },
    {
     "name": "stderr",
     "output_type": "stream",
     "text": [
      "smth:0.3931: 100%|██████████| 39/39 [00:01<00:00, 35.83it/s]\n",
      "100%|██████████| 10/10 [00:00<00:00, 22.85it/s]\n"
     ]
    },
    {
     "name": "stdout",
     "output_type": "stream",
     "text": [
      "Wed Sep 20 12:17:11 2023 Fold 4, Epoch 2, lr: 0.0097553, train loss: 0.39315, valid loss: 0.41574, metric: 0.415737.\n",
      "metric_best (0.418115 --> 0.415737). Saving model ...\n",
      "Wed Sep 20 12:17:11 2023 Epoch: 3\n"
     ]
    },
    {
     "name": "stderr",
     "output_type": "stream",
     "text": [
      "smth:0.3876: 100%|██████████| 39/39 [00:01<00:00, 35.80it/s]\n",
      "100%|██████████| 10/10 [00:00<00:00, 24.02it/s]\n"
     ]
    },
    {
     "name": "stdout",
     "output_type": "stream",
     "text": [
      "Wed Sep 20 12:17:13 2023 Fold 4, Epoch 3, lr: 0.0090451, train loss: 0.38760, valid loss: 0.41589, metric: 0.415888.\n",
      "Wed Sep 20 12:17:13 2023 Epoch: 4\n"
     ]
    },
    {
     "name": "stderr",
     "output_type": "stream",
     "text": [
      "smth:0.3878: 100%|██████████| 39/39 [00:01<00:00, 36.92it/s]\n",
      "100%|██████████| 10/10 [00:00<00:00, 22.31it/s]\n"
     ]
    },
    {
     "name": "stdout",
     "output_type": "stream",
     "text": [
      "Wed Sep 20 12:17:15 2023 Fold 4, Epoch 4, lr: 0.0079389, train loss: 0.38783, valid loss: 0.41606, metric: 0.416056.\n",
      "Wed Sep 20 12:17:15 2023 Epoch: 5\n"
     ]
    },
    {
     "name": "stderr",
     "output_type": "stream",
     "text": [
      "smth:0.3871: 100%|██████████| 39/39 [00:01<00:00, 36.39it/s]\n",
      "100%|██████████| 10/10 [00:00<00:00, 24.16it/s]\n"
     ]
    },
    {
     "name": "stdout",
     "output_type": "stream",
     "text": [
      "Wed Sep 20 12:17:16 2023 Fold 4, Epoch 5, lr: 0.0065451, train loss: 0.38706, valid loss: 0.41592, metric: 0.415918.\n",
      "Wed Sep 20 12:17:16 2023 Epoch: 6\n"
     ]
    },
    {
     "name": "stderr",
     "output_type": "stream",
     "text": [
      "smth:0.3849: 100%|██████████| 39/39 [00:01<00:00, 37.12it/s]\n",
      "100%|██████████| 10/10 [00:00<00:00, 23.18it/s]\n"
     ]
    },
    {
     "name": "stdout",
     "output_type": "stream",
     "text": [
      "Wed Sep 20 12:17:18 2023 Fold 4, Epoch 6, lr: 0.0050000, train loss: 0.38494, valid loss: 0.41605, metric: 0.416052.\n",
      "Wed Sep 20 12:17:18 2023 Epoch: 7\n"
     ]
    },
    {
     "name": "stderr",
     "output_type": "stream",
     "text": [
      "smth:0.3866: 100%|██████████| 39/39 [00:01<00:00, 37.26it/s]\n",
      "100%|██████████| 10/10 [00:00<00:00, 22.02it/s]\n"
     ]
    },
    {
     "name": "stdout",
     "output_type": "stream",
     "text": [
      "Wed Sep 20 12:17:19 2023 Fold 4, Epoch 7, lr: 0.0034549, train loss: 0.38658, valid loss: 0.41592, metric: 0.415923.\n",
      "Wed Sep 20 12:17:19 2023 Epoch: 8\n"
     ]
    },
    {
     "name": "stderr",
     "output_type": "stream",
     "text": [
      "smth:0.3872: 100%|██████████| 39/39 [00:01<00:00, 36.49it/s]\n",
      "100%|██████████| 10/10 [00:00<00:00, 23.97it/s]\n"
     ]
    },
    {
     "name": "stdout",
     "output_type": "stream",
     "text": [
      "Wed Sep 20 12:17:21 2023 Fold 4, Epoch 8, lr: 0.0020611, train loss: 0.38721, valid loss: 0.41593, metric: 0.415926.\n",
      "Wed Sep 20 12:17:21 2023 Epoch: 9\n"
     ]
    },
    {
     "name": "stderr",
     "output_type": "stream",
     "text": [
      "smth:0.3880: 100%|██████████| 39/39 [00:01<00:00, 35.44it/s]\n",
      "100%|██████████| 10/10 [00:00<00:00, 25.39it/s]\n"
     ]
    },
    {
     "name": "stdout",
     "output_type": "stream",
     "text": [
      "Wed Sep 20 12:17:22 2023 Fold 4, Epoch 9, lr: 0.0009549, train loss: 0.38796, valid loss: 0.41598, metric: 0.415979.\n",
      "Wed Sep 20 12:17:22 2023 Epoch: 10\n"
     ]
    },
    {
     "name": "stderr",
     "output_type": "stream",
     "text": [
      "smth:0.3877: 100%|██████████| 39/39 [00:01<00:00, 34.88it/s]\n",
      "100%|██████████| 10/10 [00:00<00:00, 22.16it/s]\n"
     ]
    },
    {
     "name": "stdout",
     "output_type": "stream",
     "text": [
      "Wed Sep 20 12:17:24 2023 Fold 4, Epoch 10, lr: 0.0002447, train loss: 0.38765, valid loss: 0.41597, metric: 0.415971.\n",
      "{'bowel': 0.2322519908856343, 'extravasation': 0.5576773918993474, 'kidney': 0.3424956607430311, 'liver': 0.4185839609919073, 'spleen': 0.41863960639383335, 'any_injury': 0.5261778337194448}\n",
      "Parameter containing:\n",
      "tensor([-0.3751,  0.5741,  0.8321, -0.1965,  0.4105,  0.1650,  0.2025,  0.3075],\n",
      "       device='cuda:0', requires_grad=True)\n",
      "[0.4084895817538987, 0.3850501157057759, 0.3885013487513749, 0.3858471856034395, 0.41573714136022444]\n",
      "0.3967250746349427\n"
     ]
    }
   ],
   "source": [
    "cv=[]\n",
    "TRAINING=True\n",
    "if TRAINING:\n",
    "    for i in range(5):\n",
    "        metric=run(i)\n",
    "        cv.append(metric)\n",
    "\n",
    "print(cv)\n",
    "print(np.mean(cv))"
   ]
  }
 ],
 "metadata": {
  "kernelspec": {
   "display_name": ".venv",
   "language": "python",
   "name": "python3"
  },
  "language_info": {
   "codemirror_mode": {
    "name": "ipython",
    "version": 3
   },
   "file_extension": ".py",
   "mimetype": "text/x-python",
   "name": "python",
   "nbconvert_exporter": "python",
   "pygments_lexer": "ipython3",
   "version": "3.10.12"
  },
  "orig_nbformat": 4
 },
 "nbformat": 4,
 "nbformat_minor": 2
}
